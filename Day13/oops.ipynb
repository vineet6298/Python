{
 "cells": [
  {
   "cell_type": "code",
   "execution_count": 9,
   "metadata": {},
   "outputs": [],
   "source": [
    "class Car : \n",
    "    def __init__(self,name,height=5.5,width=8,weight=1.3,color='black',gear=4,cc=400):\n",
    "        self.name = name \n",
    "        self.height = height\n",
    "        self.width = width\n",
    "        self.weight = 1.3\n",
    "        self.color = color\n",
    "        self.gear = gear\n",
    "        self.cc = cc\n",
    "    def __del__(self):\n",
    "        print(f\"Destroying The Object {self.name}\")\n",
    "        del self\n",
    "    def __str__(self):\n",
    "        s = f\"\"\"\n",
    "        Model Name : {self.name}\n",
    "        Color : {self.color}\n",
    "        Height : {self.height}\n",
    "        Width : {self.width}\n",
    "        Gears : {self.gear}\n",
    "        CC : {self.cc}\n",
    "        \"\"\"\n",
    "        return s"
   ]
  },
  {
   "cell_type": "code",
   "execution_count": 10,
   "metadata": {},
   "outputs": [
    {
     "name": "stdout",
     "output_type": "stream",
     "text": [
      "Destroying The Object\n"
     ]
    }
   ],
   "source": [
    "swift = Car('Swift Desire',color='white',gear=5,width=12,cc=700)\n",
    "nano = Car('Nano',color='red',gear=3,cc=350)\n"
   ]
  },
  {
   "cell_type": "code",
   "execution_count": 11,
   "metadata": {},
   "outputs": [
    {
     "name": "stdout",
     "output_type": "stream",
     "text": [
      "\n",
      "        Model Name : Swift Desire\n",
      "        Color : white\n",
      "        Height : 5.5\n",
      "        Width : 12\n",
      "        Gears : 5\n",
      "        CC : 700\n",
      "        \n"
     ]
    }
   ],
   "source": [
    "print(swift)"
   ]
  },
  {
   "cell_type": "code",
   "execution_count": 12,
   "metadata": {},
   "outputs": [
    {
     "name": "stdout",
     "output_type": "stream",
     "text": [
      "\n",
      "        Model Name : Nano\n",
      "        Color : red\n",
      "        Height : 5.5\n",
      "        Width : 8\n",
      "        Gears : 3\n",
      "        CC : 350\n",
      "        \n"
     ]
    }
   ],
   "source": [
    "print(nano)"
   ]
  },
  {
   "cell_type": "code",
   "execution_count": 13,
   "metadata": {},
   "outputs": [
    {
     "name": "stdout",
     "output_type": "stream",
     "text": [
      "Destroying The Object Nano\n"
     ]
    }
   ],
   "source": [
    "del nano"
   ]
  },
  {
   "cell_type": "code",
   "execution_count": 14,
   "metadata": {},
   "outputs": [
    {
     "name": "stdout",
     "output_type": "stream",
     "text": [
      "Destroying The Object Swift Desire\n"
     ]
    }
   ],
   "source": [
    "swift = Car('New Swift Desire')"
   ]
  },
  {
   "cell_type": "code",
   "execution_count": 15,
   "metadata": {},
   "outputs": [
    {
     "name": "stdout",
     "output_type": "stream",
     "text": [
      "Destroying The Object New Swift Desire\n"
     ]
    }
   ],
   "source": [
    "swift = Car('Swift v2.0')"
   ]
  },
  {
   "cell_type": "code",
   "execution_count": 62,
   "metadata": {},
   "outputs": [],
   "source": [
    "class A : \n",
    "    def __init__(self,name):\n",
    "        self.name = name\n",
    "    def show(data):\n",
    "        for key,value in data.__dict__.items():\n",
    "            print(f\"{key} = {value}\")"
   ]
  },
  {
   "cell_type": "code",
   "execution_count": 63,
   "metadata": {},
   "outputs": [],
   "source": [
    "a = A('python')"
   ]
  },
  {
   "cell_type": "code",
   "execution_count": 64,
   "metadata": {},
   "outputs": [
    {
     "name": "stdout",
     "output_type": "stream",
     "text": [
      "name = python\n"
     ]
    }
   ],
   "source": [
    "a.show() # a.show(a.__dict__)"
   ]
  },
  {
   "cell_type": "code",
   "execution_count": 65,
   "metadata": {},
   "outputs": [],
   "source": [
    "a.age = 23\n",
    "a.country = 'india'\n",
    "a.color = 'fair'\n",
    "a.qualification = 'b.tech'\n",
    "a.language = 'hindi'"
   ]
  },
  {
   "cell_type": "code",
   "execution_count": 66,
   "metadata": {},
   "outputs": [
    {
     "data": {
      "text/plain": [
       "{'name': 'python',\n",
       " 'age': 23,\n",
       " 'country': 'india',\n",
       " 'color': 'fair',\n",
       " 'qualification': 'b.tech',\n",
       " 'language': 'hindi'}"
      ]
     },
     "execution_count": 66,
     "metadata": {},
     "output_type": "execute_result"
    }
   ],
   "source": [
    "a.__dict__"
   ]
  },
  {
   "cell_type": "code",
   "execution_count": 67,
   "metadata": {},
   "outputs": [
    {
     "name": "stdout",
     "output_type": "stream",
     "text": [
      "name = python\n",
      "age = 23\n",
      "country = india\n",
      "color = fair\n",
      "qualification = b.tech\n",
      "language = hindi\n"
     ]
    }
   ],
   "source": [
    "a.show()"
   ]
  },
  {
   "cell_type": "code",
   "execution_count": 68,
   "metadata": {},
   "outputs": [],
   "source": [
    "setattr(a,'hi',lambda x:f\"My name is {self.name}\")"
   ]
  },
  {
   "cell_type": "code",
   "execution_count": 69,
   "metadata": {},
   "outputs": [
    {
     "data": {
      "text/plain": [
       "mappingproxy({'__module__': '__main__',\n",
       "              '__init__': <function __main__.A.__init__(self, name)>,\n",
       "              'show': <function __main__.A.show(data)>,\n",
       "              '__dict__': <attribute '__dict__' of 'A' objects>,\n",
       "              '__weakref__': <attribute '__weakref__' of 'A' objects>,\n",
       "              '__doc__': None})"
      ]
     },
     "execution_count": 69,
     "metadata": {},
     "output_type": "execute_result"
    }
   ],
   "source": [
    "A.__dict__"
   ]
  },
  {
   "cell_type": "code",
   "execution_count": 70,
   "metadata": {},
   "outputs": [
    {
     "data": {
      "text/plain": [
       "{'name': 'python',\n",
       " 'age': 23,\n",
       " 'country': 'india',\n",
       " 'color': 'fair',\n",
       " 'qualification': 'b.tech',\n",
       " 'language': 'hindi',\n",
       " 'hi': <function __main__.<lambda>(x)>}"
      ]
     },
     "execution_count": 70,
     "metadata": {},
     "output_type": "execute_result"
    }
   ],
   "source": [
    "a.__dict__"
   ]
  },
  {
   "cell_type": "code",
   "execution_count": 71,
   "metadata": {},
   "outputs": [],
   "source": [
    "b = A('java')"
   ]
  },
  {
   "cell_type": "code",
   "execution_count": 72,
   "metadata": {},
   "outputs": [],
   "source": [
    "b.color = 'dark'\n",
    "setattr(b,'language','engilsh')"
   ]
  },
  {
   "cell_type": "code",
   "execution_count": null,
   "metadata": {},
   "outputs": [],
   "source": []
  },
  {
   "cell_type": "code",
   "execution_count": 73,
   "metadata": {},
   "outputs": [
    {
     "name": "stdout",
     "output_type": "stream",
     "text": [
      "name = python\n",
      "age = 23\n",
      "country = india\n",
      "color = fair\n",
      "qualification = b.tech\n",
      "language = hindi\n",
      "hi = <function <lambda> at 0x0000029C690199D8>\n"
     ]
    }
   ],
   "source": [
    "a.show()"
   ]
  },
  {
   "cell_type": "code",
   "execution_count": 74,
   "metadata": {},
   "outputs": [
    {
     "name": "stdout",
     "output_type": "stream",
     "text": [
      "name = java\n",
      "color = dark\n",
      "language = engilsh\n"
     ]
    }
   ],
   "source": [
    "b.show()"
   ]
  },
  {
   "cell_type": "code",
   "execution_count": 75,
   "metadata": {},
   "outputs": [
    {
     "ename": "NameError",
     "evalue": "name 'self' is not defined",
     "output_type": "error",
     "traceback": [
      "\u001b[1;31m---------------------------------------------------------------------------\u001b[0m",
      "\u001b[1;31mNameError\u001b[0m                                 Traceback (most recent call last)",
      "\u001b[1;32m<ipython-input-75-b7e52c77d80a>\u001b[0m in \u001b[0;36m<module>\u001b[1;34m()\u001b[0m\n\u001b[1;32m----> 1\u001b[1;33m \u001b[0ma\u001b[0m\u001b[1;33m.\u001b[0m\u001b[0mhi\u001b[0m\u001b[1;33m(\u001b[0m\u001b[1;34m'sachin'\u001b[0m\u001b[1;33m)\u001b[0m\u001b[1;33m\u001b[0m\u001b[0m\n\u001b[0m",
      "\u001b[1;32m<ipython-input-68-68f9072550c1>\u001b[0m in \u001b[0;36m<lambda>\u001b[1;34m(x)\u001b[0m\n\u001b[1;32m----> 1\u001b[1;33m \u001b[0msetattr\u001b[0m\u001b[1;33m(\u001b[0m\u001b[0ma\u001b[0m\u001b[1;33m,\u001b[0m\u001b[1;34m'hi'\u001b[0m\u001b[1;33m,\u001b[0m\u001b[1;32mlambda\u001b[0m \u001b[0mx\u001b[0m\u001b[1;33m:\u001b[0m\u001b[1;34mf\"My name is {self.name}\"\u001b[0m\u001b[1;33m)\u001b[0m\u001b[1;33m\u001b[0m\u001b[0m\n\u001b[0m",
      "\u001b[1;31mNameError\u001b[0m: name 'self' is not defined"
     ]
    }
   ],
   "source": [
    "a.hi('sachin')"
   ]
  },
  {
   "cell_type": "code",
   "execution_count": 79,
   "metadata": {},
   "outputs": [],
   "source": [
    "class A: \n",
    "    def show(self):\n",
    "        print(\"hello world\")"
   ]
  },
  {
   "cell_type": "code",
   "execution_count": 78,
   "metadata": {},
   "outputs": [
    {
     "name": "stdout",
     "output_type": "stream",
     "text": [
      "hello world\n"
     ]
    },
    {
     "ename": "TypeError",
     "evalue": "show() takes 0 positional arguments but 1 was given",
     "output_type": "error",
     "traceback": [
      "\u001b[1;31m---------------------------------------------------------------------------\u001b[0m",
      "\u001b[1;31mTypeError\u001b[0m                                 Traceback (most recent call last)",
      "\u001b[1;32m<ipython-input-78-77d48f8388b5>\u001b[0m in \u001b[0;36m<module>\u001b[1;34m()\u001b[0m\n\u001b[0;32m      1\u001b[0m \u001b[0mA\u001b[0m\u001b[1;33m.\u001b[0m\u001b[0mshow\u001b[0m\u001b[1;33m(\u001b[0m\u001b[1;33m)\u001b[0m\u001b[1;33m\u001b[0m\u001b[0m\n\u001b[0;32m      2\u001b[0m \u001b[0ma\u001b[0m \u001b[1;33m=\u001b[0m \u001b[0mA\u001b[0m\u001b[1;33m(\u001b[0m\u001b[1;33m)\u001b[0m\u001b[1;33m\u001b[0m\u001b[0m\n\u001b[1;32m----> 3\u001b[1;33m \u001b[0ma\u001b[0m\u001b[1;33m.\u001b[0m\u001b[0mshow\u001b[0m\u001b[1;33m(\u001b[0m\u001b[1;33m)\u001b[0m\u001b[1;33m\u001b[0m\u001b[0m\n\u001b[0m",
      "\u001b[1;31mTypeError\u001b[0m: show() takes 0 positional arguments but 1 was given"
     ]
    }
   ],
   "source": [
    "A.show()\n",
    "a = A()\n",
    "a.show()"
   ]
  },
  {
   "cell_type": "code",
   "execution_count": 80,
   "metadata": {},
   "outputs": [],
   "source": [
    "#static method and class method\n",
    "class Chat:\n",
    "    msg = 'Default'\n",
    "    data = 'Nothing'\n",
    "    @staticmethod\n",
    "    def show():\n",
    "        print(Chat.msg)\n",
    "        print(Chat.data)"
   ]
  },
  {
   "cell_type": "code",
   "execution_count": 83,
   "metadata": {},
   "outputs": [
    {
     "name": "stdout",
     "output_type": "stream",
     "text": [
      "Default\n",
      "Nothing\n"
     ]
    }
   ],
   "source": [
    "a = Chat()\n",
    "Chat.show()"
   ]
  },
  {
   "cell_type": "code",
   "execution_count": 82,
   "metadata": {},
   "outputs": [
    {
     "name": "stdout",
     "output_type": "stream",
     "text": [
      "Default\n",
      "Nothing\n"
     ]
    }
   ],
   "source": [
    "a.show()"
   ]
  },
  {
   "cell_type": "code",
   "execution_count": 88,
   "metadata": {},
   "outputs": [],
   "source": [
    "class Chat : \n",
    "    msg = \"hello world how are you\"\n",
    "    data = \"good to go \"\n",
    "    @classmethod\n",
    "    def show(cls):\n",
    "        print(cls.msg)\n",
    "        print(cls.data)"
   ]
  },
  {
   "cell_type": "code",
   "execution_count": 89,
   "metadata": {},
   "outputs": [
    {
     "name": "stdout",
     "output_type": "stream",
     "text": [
      "hello world how are you\n",
      "good to go \n"
     ]
    }
   ],
   "source": [
    "a = Chat()\n",
    "a.show()"
   ]
  },
  {
   "cell_type": "code",
   "execution_count": 90,
   "metadata": {},
   "outputs": [
    {
     "name": "stdout",
     "output_type": "stream",
     "text": [
      "hello world how are you\n",
      "good to go \n"
     ]
    }
   ],
   "source": [
    "Chat.show()"
   ]
  },
  {
   "cell_type": "code",
   "execution_count": 91,
   "metadata": {},
   "outputs": [],
   "source": [
    "setattr(Chat,'msg','i have updated chat')"
   ]
  },
  {
   "cell_type": "code",
   "execution_count": 92,
   "metadata": {},
   "outputs": [
    {
     "name": "stdout",
     "output_type": "stream",
     "text": [
      "i have updated chat\n",
      "good to go \n"
     ]
    }
   ],
   "source": [
    "a.show()"
   ]
  },
  {
   "cell_type": "code",
   "execution_count": 94,
   "metadata": {},
   "outputs": [
    {
     "name": "stdout",
     "output_type": "stream",
     "text": [
      "i have updated chat\n",
      "good to go \n"
     ]
    }
   ],
   "source": [
    "Chat.show()"
   ]
  },
  {
   "cell_type": "code",
   "execution_count": 95,
   "metadata": {},
   "outputs": [],
   "source": [
    "a.msg = 'i am object'"
   ]
  },
  {
   "cell_type": "code",
   "execution_count": 96,
   "metadata": {},
   "outputs": [
    {
     "name": "stdout",
     "output_type": "stream",
     "text": [
      "i have updated chat\n",
      "good to go \n"
     ]
    }
   ],
   "source": [
    "a.show()"
   ]
  },
  {
   "cell_type": "code",
   "execution_count": 97,
   "metadata": {},
   "outputs": [
    {
     "name": "stdout",
     "output_type": "stream",
     "text": [
      "i have updated chat\n",
      "good to go \n"
     ]
    }
   ],
   "source": [
    "Chat.show()"
   ]
  },
  {
   "cell_type": "code",
   "execution_count": null,
   "metadata": {},
   "outputs": [],
   "source": []
  }
 ],
 "metadata": {
  "kernelspec": {
   "display_name": "Python 3",
   "language": "python",
   "name": "python3"
  },
  "language_info": {
   "codemirror_mode": {
    "name": "ipython",
    "version": 3
   },
   "file_extension": ".py",
   "mimetype": "text/x-python",
   "name": "python",
   "nbconvert_exporter": "python",
   "pygments_lexer": "ipython3",
   "version": "3.7.0"
  }
 },
 "nbformat": 4,
 "nbformat_minor": 2
}
