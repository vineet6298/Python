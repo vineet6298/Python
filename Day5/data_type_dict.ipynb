{
 "cells": [
  {
   "cell_type": "code",
   "execution_count": 5,
   "metadata": {},
   "outputs": [
    {
     "name": "stdout",
     "output_type": "stream",
     "text": [
      "{'name': 'python', 'father': 'Guido Van Rossum', 'current_version': 3.7, (1, 2): ('one', 'two'), 1: 'one'}\n"
     ]
    }
   ],
   "source": [
    "info = { \n",
    "         'name' : 'python',\n",
    "        'father' : 'Guido Van Rossum',\n",
    "        'current_version' : 3.7,\n",
    "        (1,2) : ('one','two'),\n",
    "        1:'one',\n",
    "    \n",
    "        }\n",
    "print(info)"
   ]
  },
  {
   "cell_type": "code",
   "execution_count": 6,
   "metadata": {},
   "outputs": [
    {
     "data": {
      "text/plain": [
       "'python'"
      ]
     },
     "execution_count": 6,
     "metadata": {},
     "output_type": "execute_result"
    }
   ],
   "source": [
    "info['name']"
   ]
  },
  {
   "cell_type": "code",
   "execution_count": 9,
   "metadata": {},
   "outputs": [
    {
     "ename": "KeyError",
     "evalue": "'version'",
     "output_type": "error",
     "traceback": [
      "\u001b[1;31m---------------------------------------------------------------------------\u001b[0m",
      "\u001b[1;31mKeyError\u001b[0m                                  Traceback (most recent call last)",
      "\u001b[1;32m<ipython-input-9-c3d077e5fae9>\u001b[0m in \u001b[0;36m<module>\u001b[1;34m()\u001b[0m\n\u001b[1;32m----> 1\u001b[1;33m \u001b[0minfo\u001b[0m\u001b[1;33m[\u001b[0m\u001b[1;34m'version'\u001b[0m\u001b[1;33m]\u001b[0m\u001b[1;33m\u001b[0m\u001b[0m\n\u001b[0m",
      "\u001b[1;31mKeyError\u001b[0m: 'version'"
     ]
    }
   ],
   "source": [
    "info['version']"
   ]
  },
  {
   "cell_type": "code",
   "execution_count": 10,
   "metadata": {},
   "outputs": [
    {
     "data": {
      "text/plain": [
       "3.7"
      ]
     },
     "execution_count": 10,
     "metadata": {},
     "output_type": "execute_result"
    }
   ],
   "source": [
    "info['current_version']"
   ]
  },
  {
   "cell_type": "code",
   "execution_count": 11,
   "metadata": {},
   "outputs": [],
   "source": [
    "myinfo = { \n",
    "        'name' : 'Sachin Yadav', \n",
    "        'age'  : 22,\n",
    "        'country' : 'India',\n",
    "        'language' : 'Hindi',\n",
    "        'qualification' : 'b.tech in computer science',\n",
    "        'profession' : 'Software Developer and Data Science Engineer'\n",
    "        }"
   ]
  },
  {
   "cell_type": "code",
   "execution_count": 16,
   "metadata": {},
   "outputs": [
    {
     "name": "stdout",
     "output_type": "stream",
     "text": [
      "{'name': 'Sachin Yadav', 'age': 22, 'country': 'India', 'language': 'Hindi', 'qualification': 'b.tech in computer science', 'profession': 'Software Developer and Data Science Engineer'}\n"
     ]
    }
   ],
   "source": [
    "print(myinfo)"
   ]
  },
  {
   "cell_type": "code",
   "execution_count": 17,
   "metadata": {},
   "outputs": [
    {
     "name": "stdout",
     "output_type": "stream",
     "text": [
      "{'age': 22,\n",
      " 'country': 'India',\n",
      " 'language': 'Hindi',\n",
      " 'name': 'Sachin Yadav',\n",
      " 'profession': 'Software Developer and Data Science Engineer',\n",
      " 'qualification': 'b.tech in computer science'}\n"
     ]
    }
   ],
   "source": [
    "from pprint import pprint #preety printer\n",
    "pprint(myinfo)"
   ]
  },
  {
   "cell_type": "code",
   "execution_count": 18,
   "metadata": {},
   "outputs": [
    {
     "data": {
      "text/plain": [
       "'Sachin Yadav'"
      ]
     },
     "execution_count": 18,
     "metadata": {},
     "output_type": "execute_result"
    }
   ],
   "source": [
    "myinfo['name']"
   ]
  },
  {
   "cell_type": "code",
   "execution_count": 19,
   "metadata": {},
   "outputs": [
    {
     "data": {
      "text/plain": [
       "'b.tech in computer science'"
      ]
     },
     "execution_count": 19,
     "metadata": {},
     "output_type": "execute_result"
    }
   ],
   "source": [
    "myinfo['qualification']"
   ]
  },
  {
   "cell_type": "code",
   "execution_count": 20,
   "metadata": {},
   "outputs": [
    {
     "ename": "KeyError",
     "evalue": "'asdf'",
     "output_type": "error",
     "traceback": [
      "\u001b[1;31m---------------------------------------------------------------------------\u001b[0m",
      "\u001b[1;31mKeyError\u001b[0m                                  Traceback (most recent call last)",
      "\u001b[1;32m<ipython-input-20-774e1bcd2131>\u001b[0m in \u001b[0;36m<module>\u001b[1;34m()\u001b[0m\n\u001b[1;32m----> 1\u001b[1;33m \u001b[0mmyinfo\u001b[0m\u001b[1;33m[\u001b[0m\u001b[1;34m'asdf'\u001b[0m\u001b[1;33m]\u001b[0m\u001b[1;33m\u001b[0m\u001b[0m\n\u001b[0m",
      "\u001b[1;31mKeyError\u001b[0m: 'asdf'"
     ]
    }
   ],
   "source": [
    "myinfo['asdf']"
   ]
  },
  {
   "cell_type": "code",
   "execution_count": 21,
   "metadata": {},
   "outputs": [],
   "source": [
    "myinfo['name'] = 'Python'"
   ]
  },
  {
   "cell_type": "code",
   "execution_count": 22,
   "metadata": {},
   "outputs": [
    {
     "name": "stdout",
     "output_type": "stream",
     "text": [
      "{'age': 22,\n",
      " 'country': 'India',\n",
      " 'language': 'Hindi',\n",
      " 'name': 'Python',\n",
      " 'profession': 'Software Developer and Data Science Engineer',\n",
      " 'qualification': 'b.tech in computer science'}\n"
     ]
    }
   ],
   "source": [
    "pprint(myinfo)"
   ]
  },
  {
   "cell_type": "code",
   "execution_count": 23,
   "metadata": {},
   "outputs": [],
   "source": [
    "myinfo['hobbie'] = 'coding'"
   ]
  },
  {
   "cell_type": "code",
   "execution_count": 24,
   "metadata": {},
   "outputs": [
    {
     "data": {
      "text/plain": [
       "{'name': 'Python',\n",
       " 'age': 22,\n",
       " 'country': 'India',\n",
       " 'language': 'Hindi',\n",
       " 'qualification': 'b.tech in computer science',\n",
       " 'profession': 'Software Developer and Data Science Engineer',\n",
       " 'hobbie': 'coding'}"
      ]
     },
     "execution_count": 24,
     "metadata": {},
     "output_type": "execute_result"
    }
   ],
   "source": [
    "myinfo"
   ]
  },
  {
   "cell_type": "code",
   "execution_count": 25,
   "metadata": {},
   "outputs": [],
   "source": [
    "del myinfo['age']"
   ]
  },
  {
   "cell_type": "code",
   "execution_count": 26,
   "metadata": {},
   "outputs": [
    {
     "name": "stdout",
     "output_type": "stream",
     "text": [
      "{'country': 'India',\n",
      " 'hobbie': 'coding',\n",
      " 'language': 'Hindi',\n",
      " 'name': 'Python',\n",
      " 'profession': 'Software Developer and Data Science Engineer',\n",
      " 'qualification': 'b.tech in computer science'}\n"
     ]
    }
   ],
   "source": [
    "pprint(myinfo)"
   ]
  },
  {
   "cell_type": "code",
   "execution_count": 27,
   "metadata": {},
   "outputs": [
    {
     "name": "stdout",
     "output_type": "stream",
     "text": [
      "['__class__', '__contains__', '__delattr__', '__delitem__', '__dir__', '__doc__', '__eq__', '__format__', '__ge__', '__getattribute__', '__getitem__', '__gt__', '__hash__', '__init__', '__init_subclass__', '__iter__', '__le__', '__len__', '__lt__', '__ne__', '__new__', '__reduce__', '__reduce_ex__', '__repr__', '__setattr__', '__setitem__', '__sizeof__', '__str__', '__subclasshook__', 'clear', 'copy', 'fromkeys', 'get', 'items', 'keys', 'pop', 'popitem', 'setdefault', 'update', 'values']\n"
     ]
    }
   ],
   "source": [
    "print(dir(myinfo))"
   ]
  },
  {
   "cell_type": "code",
   "execution_count": 32,
   "metadata": {},
   "outputs": [
    {
     "name": "stdout",
     "output_type": "stream",
     "text": [
      "Error no such key available\n",
      "!!Error!! 'age'\n"
     ]
    }
   ],
   "source": [
    "try : \n",
    "    data = myinfo['age']\n",
    "    print(\"Your age is \",data)\n",
    "except Exception as e : \n",
    "    print(\"Error no such key available\")\n",
    "    print(\"!!Error!!\",e)"
   ]
  },
  {
   "cell_type": "code",
   "execution_count": 35,
   "metadata": {},
   "outputs": [
    {
     "name": "stdout",
     "output_type": "stream",
     "text": [
      "No such Key Available Try again\n"
     ]
    }
   ],
   "source": [
    "data = myinfo.get('age',\"No such Key Available Try again\")\n",
    "print(data)"
   ]
  },
  {
   "cell_type": "code",
   "execution_count": 36,
   "metadata": {},
   "outputs": [
    {
     "name": "stdout",
     "output_type": "stream",
     "text": [
      "Python\n"
     ]
    }
   ],
   "source": [
    "data = myinfo.get('name',\"No such Key Available Try again\")\n",
    "print(data)"
   ]
  },
  {
   "cell_type": "code",
   "execution_count": 37,
   "metadata": {},
   "outputs": [
    {
     "name": "stdout",
     "output_type": "stream",
     "text": [
      "No such Key Available Try again\n"
     ]
    }
   ],
   "source": [
    "data = myinfo.get('age1',\"No such Key Available Try again\")\n",
    "print(data)"
   ]
  },
  {
   "cell_type": "code",
   "execution_count": 38,
   "metadata": {},
   "outputs": [
    {
     "name": "stdout",
     "output_type": "stream",
     "text": [
      "D.items() -> a set-like object providing a view on D's items\n"
     ]
    }
   ],
   "source": [
    "print(myinfo.items.__doc__)"
   ]
  },
  {
   "cell_type": "code",
   "execution_count": 39,
   "metadata": {},
   "outputs": [
    {
     "data": {
      "text/plain": [
       "dict_items([('name', 'Python'), ('country', 'India'), ('language', 'Hindi'), ('qualification', 'b.tech in computer science'), ('profession', 'Software Developer and Data Science Engineer'), ('hobbie', 'coding')])"
      ]
     },
     "execution_count": 39,
     "metadata": {},
     "output_type": "execute_result"
    }
   ],
   "source": [
    "myinfo.items()"
   ]
  },
  {
   "cell_type": "code",
   "execution_count": 42,
   "metadata": {},
   "outputs": [
    {
     "name": "stdout",
     "output_type": "stream",
     "text": [
      "name = Python\n",
      "\n",
      "country = India\n",
      "\n",
      "language = Hindi\n",
      "\n",
      "qualification = b.tech in computer science\n",
      "\n",
      "profession = Software Developer and Data Science Engineer\n",
      "\n",
      "hobbie = coding\n",
      "\n"
     ]
    }
   ],
   "source": [
    "for key,value in myinfo.items() : \n",
    "    print(f\"{key} = {value}\")\n",
    "    print()"
   ]
  },
  {
   "cell_type": "code",
   "execution_count": 43,
   "metadata": {},
   "outputs": [
    {
     "data": {
      "text/plain": [
       "dict_keys(['name', 'country', 'language', 'qualification', 'profession', 'hobbie'])"
      ]
     },
     "execution_count": 43,
     "metadata": {},
     "output_type": "execute_result"
    }
   ],
   "source": [
    "myinfo.keys()"
   ]
  },
  {
   "cell_type": "code",
   "execution_count": 44,
   "metadata": {},
   "outputs": [
    {
     "name": "stdout",
     "output_type": "stream",
     "text": [
      "name\n",
      "country\n",
      "language\n",
      "qualification\n",
      "profession\n",
      "hobbie\n"
     ]
    }
   ],
   "source": [
    "for key in myinfo : \n",
    "    print(key)"
   ]
  },
  {
   "cell_type": "code",
   "execution_count": 45,
   "metadata": {},
   "outputs": [
    {
     "data": {
      "text/plain": [
       "dict_values(['Python', 'India', 'Hindi', 'b.tech in computer science', 'Software Developer and Data Science Engineer', 'coding'])"
      ]
     },
     "execution_count": 45,
     "metadata": {},
     "output_type": "execute_result"
    }
   ],
   "source": [
    "myinfo.values()"
   ]
  },
  {
   "cell_type": "code",
   "execution_count": 47,
   "metadata": {},
   "outputs": [
    {
     "name": "stdout",
     "output_type": "stream",
     "text": [
      "Here is our keys\n",
      "name, country, language, qualification, profession, hobbie, Here is our value\n",
      "Python, India, Hindi, b.tech in computer science, Software Developer and Data Science Engineer, coding, "
     ]
    }
   ],
   "source": [
    "print(\"Here is our keys\")\n",
    "for key in myinfo.keys() : \n",
    "    print(key,end=', ')\n",
    "print(\"Here is our value\")\n",
    "for value in myinfo.values() : \n",
    "    print(value,end=', ')"
   ]
  },
  {
   "cell_type": "code",
   "execution_count": 48,
   "metadata": {},
   "outputs": [
    {
     "data": {
      "text/plain": [
       "'Python'"
      ]
     },
     "execution_count": 48,
     "metadata": {},
     "output_type": "execute_result"
    }
   ],
   "source": [
    "myinfo.setdefault('name','default')"
   ]
  },
  {
   "cell_type": "code",
   "execution_count": 49,
   "metadata": {},
   "outputs": [
    {
     "data": {
      "text/plain": [
       "{'name': 'Python',\n",
       " 'country': 'India',\n",
       " 'language': 'Hindi',\n",
       " 'qualification': 'b.tech in computer science',\n",
       " 'profession': 'Software Developer and Data Science Engineer',\n",
       " 'hobbie': 'coding'}"
      ]
     },
     "execution_count": 49,
     "metadata": {},
     "output_type": "execute_result"
    }
   ],
   "source": [
    "myinfo"
   ]
  },
  {
   "cell_type": "code",
   "execution_count": 50,
   "metadata": {},
   "outputs": [
    {
     "data": {
      "text/plain": [
       "'brown'"
      ]
     },
     "execution_count": 50,
     "metadata": {},
     "output_type": "execute_result"
    }
   ],
   "source": [
    "myinfo.setdefault('color','brown')"
   ]
  },
  {
   "cell_type": "code",
   "execution_count": 51,
   "metadata": {},
   "outputs": [
    {
     "data": {
      "text/plain": [
       "{'name': 'Python',\n",
       " 'country': 'India',\n",
       " 'language': 'Hindi',\n",
       " 'qualification': 'b.tech in computer science',\n",
       " 'profession': 'Software Developer and Data Science Engineer',\n",
       " 'hobbie': 'coding',\n",
       " 'color': 'brown'}"
      ]
     },
     "execution_count": 51,
     "metadata": {},
     "output_type": "execute_result"
    }
   ],
   "source": [
    "myinfo"
   ]
  },
  {
   "cell_type": "code",
   "execution_count": 52,
   "metadata": {},
   "outputs": [],
   "source": [
    "myinfo.update([ ('name','sachin yadav'),('language','engilsh') ])"
   ]
  },
  {
   "cell_type": "code",
   "execution_count": 53,
   "metadata": {},
   "outputs": [
    {
     "data": {
      "text/plain": [
       "{'name': 'sachin yadav',\n",
       " 'country': 'India',\n",
       " 'language': 'engilsh',\n",
       " 'qualification': 'b.tech in computer science',\n",
       " 'profession': 'Software Developer and Data Science Engineer',\n",
       " 'hobbie': 'coding',\n",
       " 'color': 'brown'}"
      ]
     },
     "execution_count": 53,
     "metadata": {},
     "output_type": "execute_result"
    }
   ],
   "source": [
    "myinfo"
   ]
  },
  {
   "cell_type": "code",
   "execution_count": null,
   "metadata": {},
   "outputs": [],
   "source": []
  }
 ],
 "metadata": {
  "kernelspec": {
   "display_name": "Python 3",
   "language": "python",
   "name": "python3"
  },
  "language_info": {
   "codemirror_mode": {
    "name": "ipython",
    "version": 3
   },
   "file_extension": ".py",
   "mimetype": "text/x-python",
   "name": "python",
   "nbconvert_exporter": "python",
   "pygments_lexer": "ipython3",
   "version": "3.7.0"
  }
 },
 "nbformat": 4,
 "nbformat_minor": 2
}
