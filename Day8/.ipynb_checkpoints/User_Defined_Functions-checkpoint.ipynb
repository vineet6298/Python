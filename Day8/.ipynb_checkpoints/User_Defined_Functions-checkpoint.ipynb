{
 "cells": [
  {
   "cell_type": "code",
   "execution_count": 17,
   "metadata": {},
   "outputs": [
    {
     "ename": "TypeError",
     "evalue": "hello() missing 1 required positional argument: 'name'",
     "output_type": "error",
     "traceback": [
      "\u001b[1;31m---------------------------------------------------------------------------\u001b[0m",
      "\u001b[1;31mTypeError\u001b[0m                                 Traceback (most recent call last)",
      "\u001b[1;32m<ipython-input-17-1fd1346281e7>\u001b[0m in \u001b[0;36m<module>\u001b[1;34m()\u001b[0m\n\u001b[0;32m      3\u001b[0m     \u001b[0mprint\u001b[0m\u001b[1;33m(\u001b[0m\u001b[1;34mf\"Hello world {name}\"\u001b[0m\u001b[1;33m)\u001b[0m\u001b[1;33m\u001b[0m\u001b[0m\n\u001b[0;32m      4\u001b[0m \u001b[1;33m\u001b[0m\u001b[0m\n\u001b[1;32m----> 5\u001b[1;33m \u001b[0mhello\u001b[0m\u001b[1;33m(\u001b[0m\u001b[1;33m)\u001b[0m\u001b[1;33m\u001b[0m\u001b[0m\n\u001b[0m",
      "\u001b[1;31mTypeError\u001b[0m: hello() missing 1 required positional argument: 'name'"
     ]
    }
   ],
   "source": []
  },
  {
   "cell_type": "code",
   "execution_count": 13,
   "metadata": {},
   "outputs": [
    {
     "name": "stdout",
     "output_type": "stream",
     "text": [
      "********************\n",
      "********* *********\n",
      "********  ********\n",
      "*******   *******\n",
      "******    ******\n",
      "*****     *****\n",
      "****      ****\n",
      "***       ***\n",
      "**        **\n",
      "*         *\n",
      "          \n"
     ]
    }
   ],
   "source": [
    "c = 0 \n",
    "while c <= 10 : \n",
    "    print(\"*\"*(10-c),end='')\n",
    "    print(\" \"*(c),end='')\n",
    "    print(\"*\"*(10-c))\n",
    "    c = c + 1"
   ]
  },
  {
   "cell_type": "code",
   "execution_count": 14,
   "metadata": {},
   "outputs": [
    {
     "name": "stdout",
     "output_type": "stream",
     "text": [
      "Enter your name : sachin\n",
      "Hello world SACHIN\n"
     ]
    }
   ],
   "source": [
    "hello()"
   ]
  },
  {
   "cell_type": "code",
   "execution_count": 15,
   "metadata": {},
   "outputs": [
    {
     "name": "stdout",
     "output_type": "stream",
     "text": [
      "Enter your name : sachin\n",
      "Hello world SACHIN\n",
      "Enter your name : sachin\n",
      "Hello world SACHIN\n",
      "Enter your name : sachin\n",
      "Hello world SACHIN\n",
      "Enter your name : sachin\n",
      "Hello world SACHIN\n",
      "Enter your name : sachin\n",
      "Hello world SACHIN\n"
     ]
    }
   ],
   "source": [
    "for var in range(5) : \n",
    "    hello()"
   ]
  },
  {
   "cell_type": "code",
   "execution_count": 21,
   "metadata": {},
   "outputs": [
    {
     "name": "stdout",
     "output_type": "stream",
     "text": [
      "You are smart.... But i am Awesome.... Only string require\n",
      "Hello world SACHIN\n"
     ]
    }
   ],
   "source": [
    "def hello(name):\n",
    "    if isinstance(name,str):\n",
    "        name = name.strip().upper()\n",
    "        print(f\"Hello world {name}\")\n",
    "    else : \n",
    "        print('You are smart.... But i am Awesome.... Only string require')\n",
    "\n",
    "hello(92749)\n",
    "hello('sachin')"
   ]
  },
  {
   "cell_type": "code",
   "execution_count": 22,
   "metadata": {},
   "outputs": [],
   "source": [
    "data  =  { \n",
    "    1001 : { 'name' : 'john','password':'john@cool','bal':35000},\n",
    "    1002 : { 'name' : 'harry','password':'harry@carry','bal':16000},\n",
    "    1003 : { 'name' : 'natasha','password':'123*natasha','bal':60000}\n",
    "         }"
   ]
  },
  {
   "cell_type": "code",
   "execution_count": 25,
   "metadata": {},
   "outputs": [],
   "source": [
    "def login(acc_no,password) : \n",
    "        if acc_no in data : \n",
    "            p = data.get(acc_no).get('password')\n",
    "            if p == password :\n",
    "                print(\"Logged In Successfully\")\n",
    "                print(f\"Welcome Back user {data.get(acc_no).get('name')}\")\n",
    "                return True \n",
    "            else : \n",
    "                print(\"Invalid Passwrod....Try Again\")\n",
    "                return False\n",
    "        else : \n",
    "            print(\"Invalid Account Number...\\\n",
    "If you are new...Open an account...By clicking SignUP....\")\n",
    "            return False"
   ]
  },
  {
   "cell_type": "code",
   "execution_count": 31,
   "metadata": {},
   "outputs": [
    {
     "name": "stdout",
     "output_type": "stream",
     "text": [
      "Enter account number : 1001\n",
      "Password : ········\n",
      "Invalid Passwrod....Try Again\n",
      "1.login\n",
      "2.signup\n",
      "3.exit\n",
      "Enter Choice(1,2,3) : 3\n"
     ]
    },
    {
     "ename": "NameError",
     "evalue": "name 'ch' is not defined",
     "output_type": "error",
     "traceback": [
      "\u001b[1;31m---------------------------------------------------------------------------\u001b[0m",
      "\u001b[1;31mNameError\u001b[0m                                 Traceback (most recent call last)",
      "\u001b[1;32m<ipython-input-31-07f2e2947786>\u001b[0m in \u001b[0;36m<module>\u001b[1;34m()\u001b[0m\n\u001b[0;32m      5\u001b[0m     \u001b[0mmenu\u001b[0m\u001b[1;33m(\u001b[0m\u001b[1;33m)\u001b[0m\u001b[1;33m\u001b[0m\u001b[0m\n\u001b[0;32m      6\u001b[0m \u001b[1;32melse\u001b[0m \u001b[1;33m:\u001b[0m\u001b[1;33m\u001b[0m\u001b[0m\n\u001b[1;32m----> 7\u001b[1;33m     \u001b[0mmain\u001b[0m\u001b[1;33m(\u001b[0m\u001b[1;33m)\u001b[0m\u001b[1;33m\u001b[0m\u001b[0m\n\u001b[0m\u001b[0;32m      8\u001b[0m \u001b[1;33m\u001b[0m\u001b[0m\n",
      "\u001b[1;32m<ipython-input-30-e1d25f1dd236>\u001b[0m in \u001b[0;36mmain\u001b[1;34m()\u001b[0m\n\u001b[0;32m      2\u001b[0m     \u001b[0mprint\u001b[0m\u001b[1;33m(\u001b[0m\u001b[1;34m\"1.login\\n2.signup\\n3.exit\"\u001b[0m\u001b[1;33m)\u001b[0m\u001b[1;33m\u001b[0m\u001b[0m\n\u001b[0;32m      3\u001b[0m     \u001b[0mchoice\u001b[0m \u001b[1;33m=\u001b[0m \u001b[0mint\u001b[0m\u001b[1;33m(\u001b[0m\u001b[0minput\u001b[0m\u001b[1;33m(\u001b[0m\u001b[1;34m\"Enter Choice(1,2,3) : \"\u001b[0m\u001b[1;33m)\u001b[0m\u001b[1;33m)\u001b[0m\u001b[1;33m\u001b[0m\u001b[0m\n\u001b[1;32m----> 4\u001b[1;33m     \u001b[1;32mif\u001b[0m \u001b[0mch\u001b[0m \u001b[1;33m==\u001b[0m \u001b[1;36m1\u001b[0m \u001b[1;33m:\u001b[0m\u001b[1;33m\u001b[0m\u001b[0m\n\u001b[0m\u001b[0;32m      5\u001b[0m         \u001b[0mlogin\u001b[0m\u001b[1;33m(\u001b[0m\u001b[1;33m)\u001b[0m\u001b[1;33m\u001b[0m\u001b[0m\n\u001b[0;32m      6\u001b[0m     \u001b[1;32melif\u001b[0m \u001b[0mch\u001b[0m \u001b[1;33m==\u001b[0m \u001b[1;36m2\u001b[0m \u001b[1;33m:\u001b[0m\u001b[1;33m\u001b[0m\u001b[0m\n",
      "\u001b[1;31mNameError\u001b[0m: name 'ch' is not defined"
     ]
    }
   ],
   "source": [
    "from getpass import getpass\n",
    "\n",
    "if login(acc,pas) : \n",
    "    menu()\n",
    "else : \n",
    "    main()\n",
    "    "
   ]
  },
  {
   "cell_type": "code",
   "execution_count": 32,
   "metadata": {},
   "outputs": [],
   "source": [
    "def main():\n",
    "    print(\"1.login\\n2.signup\\n3.exit\")\n",
    "    ch = int(input(\"Enter Choice(1,2,3) : \"))\n",
    "    if ch == 1 : \n",
    "        login()\n",
    "    elif ch == 2 : \n",
    "        pass\n",
    "    elif ch == 3 : \n",
    "        print(\"Thank you....Bye Bye...\")\n",
    "        exit(0)\n",
    "    else : \n",
    "        print(\"Wrong Choice\")\n",
    "        print(\"I think you aware about choice that are 1, 2, and 3\")"
   ]
  },
  {
   "cell_type": "code",
   "execution_count": null,
   "metadata": {},
   "outputs": [],
   "source": []
  }
 ],
 "metadata": {
  "kernelspec": {
   "display_name": "Python 3",
   "language": "python",
   "name": "python3"
  },
  "language_info": {
   "codemirror_mode": {
    "name": "ipython",
    "version": 3
   },
   "file_extension": ".py",
   "mimetype": "text/x-python",
   "name": "python",
   "nbconvert_exporter": "python",
   "pygments_lexer": "ipython3",
   "version": "3.7.0"
  }
 },
 "nbformat": 4,
 "nbformat_minor": 2
}
