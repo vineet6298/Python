{
 "cells": [
  {
   "cell_type": "code",
   "execution_count": 1,
   "metadata": {},
   "outputs": [
    {
     "data": {
      "text/plain": [
       "(8, 1500)"
      ]
     },
     "execution_count": 1,
     "metadata": {},
     "output_type": "execute_result"
    }
   ],
   "source": [
    "#program to count notes \n",
    "divmod(17500,2000)"
   ]
  },
  {
   "cell_type": "code",
   "execution_count": 2,
   "metadata": {},
   "outputs": [
    {
     "name": "stdout",
     "output_type": "stream",
     "text": [
      "1 2\n"
     ]
    }
   ],
   "source": [
    "x,y = (1,2);print(x,y)"
   ]
  },
  {
   "cell_type": "code",
   "execution_count": 6,
   "metadata": {},
   "outputs": [],
   "source": [
    "def count_Notes(amount) :\n",
    "    \"\"\"count_Notes(amount) --> it will take amount and will return\n",
    "    couting of 2000, 500, 200, 100, 50, 20 , 10, 5, 2, 1 these notes\"\"\"\n",
    "    notes = { } \n",
    "    notes[2000],amount = divmod(amount,2000)\n",
    "    notes[500],amount = divmod(amount,500)\n",
    "    notes[200],amount = divmod(amount,200)\n",
    "    notes[100],amount = divmod(amount,100)\n",
    "    notes[50],amount = divmod(amount,50)\n",
    "    notes[20],amount = divmod(amount,20)\n",
    "    notes[10],amount = divmod(amount,10)\n",
    "    notes[5],amount = divmod(amount,5)\n",
    "    notes[2],amount  = divmod(amount,2)\n",
    "    notes[1],amount = divmod(amount,1)\n",
    "    for note,count in notes.items() :\n",
    "        if count != 0 : \n",
    "            print(f\"Number of {note} = {count} \")\n",
    "        \n",
    "    \n",
    "    \n",
    "    "
   ]
  },
  {
   "cell_type": "code",
   "execution_count": 9,
   "metadata": {},
   "outputs": [
    {
     "name": "stdout",
     "output_type": "stream",
     "text": [
      "Number of 2000 = 8 \n",
      "Number of 500 = 3 \n",
      "Number of 200 = 1 \n",
      "Number of 50 = 1 \n"
     ]
    }
   ],
   "source": [
    "count_Notes(17750)"
   ]
  },
  {
   "cell_type": "code",
   "execution_count": 10,
   "metadata": {},
   "outputs": [],
   "source": [
    "#ATM\n",
    "current_balance = { 2000:50,1000:35,500:30,200:500,100:1000 }"
   ]
  },
  {
   "cell_type": "code",
   "execution_count": 11,
   "metadata": {},
   "outputs": [],
   "source": [
    "x = { 1:'hello',5:'hi',10:'something',2:'hello'}"
   ]
  },
  {
   "cell_type": "code",
   "execution_count": 12,
   "metadata": {},
   "outputs": [
    {
     "data": {
      "text/plain": [
       "{1: 'hello', 5: 'hi', 10: 'something', 2: 'hello'}"
      ]
     },
     "execution_count": 12,
     "metadata": {},
     "output_type": "execute_result"
    }
   ],
   "source": [
    "x"
   ]
  },
  {
   "cell_type": "code",
   "execution_count": 14,
   "metadata": {},
   "outputs": [
    {
     "name": "stdout",
     "output_type": "stream",
     "text": [
      "1\n",
      "5\n",
      "10\n",
      "2\n"
     ]
    }
   ],
   "source": [
    "for key in x : \n",
    "    print(key)"
   ]
  },
  {
   "cell_type": "code",
   "execution_count": 15,
   "metadata": {},
   "outputs": [
    {
     "data": {
      "text/plain": [
       "'data'"
      ]
     },
     "execution_count": 15,
     "metadata": {},
     "output_type": "execute_result"
    }
   ],
   "source": [
    "x.setdefault(4,'hi')\n",
    "x.setdefault(3,'hello')\n",
    "x.setdefault(7,'data')"
   ]
  },
  {
   "cell_type": "code",
   "execution_count": 16,
   "metadata": {},
   "outputs": [
    {
     "name": "stdout",
     "output_type": "stream",
     "text": [
      "1\n",
      "5\n",
      "10\n",
      "2\n",
      "4\n",
      "3\n",
      "7\n"
     ]
    }
   ],
   "source": [
    "for key in x : \n",
    "    print(key)"
   ]
  },
  {
   "cell_type": "code",
   "execution_count": 24,
   "metadata": {},
   "outputs": [],
   "source": [
    "def count_Notes(amount) : \n",
    "    notes = { 2000:0,500:0,200:0,100:0,50:0,20:0,10:0,5:0,2:0,1:0 }\n",
    "    for key in notes : \n",
    "        notes[key],amount = divmod(amount,key)\n",
    "    return notes\n",
    "def print_Notes(notes) :\n",
    "    print(\"Here is counting of notes you have to return \")\n",
    "    for key,value in notes.items() :\n",
    "                if value != 0 : \n",
    "                    print(f\"{key} = {value}\")"
   ]
  },
  {
   "cell_type": "code",
   "execution_count": 25,
   "metadata": {},
   "outputs": [
    {
     "name": "stdout",
     "output_type": "stream",
     "text": [
      "Enter amount  : 16000\n",
      "Here is counting of notes you have to return \n",
      "2000 = 8\n"
     ]
    }
   ],
   "source": [
    "n = count_Notes(int(input(\"Enter amount  : \")))\n",
    "print_Notes(n)"
   ]
  },
  {
   "cell_type": "code",
   "execution_count": 57,
   "metadata": {},
   "outputs": [],
   "source": [
    "#ATM\n",
    "def total_Balance() : \n",
    "    val = 0\n",
    "    for key,value in current_balance.items() :\n",
    "        val += key*value\n",
    "    return val\n",
    "current_balance = { 2000:5,500:30,200:500,100:1000 }\n",
    "def ATM(amount) :\n",
    "    result = {}\n",
    "    global current_balance\n",
    "    total_balance = total_Balance()\n",
    "    if total_balance <= amount : \n",
    "        print(\"Please visit next ATM ..... Insufficent Balance in ATM\")\n",
    "        return False\n",
    "    if check_Amount(amount) : \n",
    "        for note in current_balance : \n",
    "            if note : \n",
    "                n,a = divmod(amount,note)\n",
    "                if n >= current_balance[note] : \n",
    "                    temp = current_balance[note]\n",
    "                    current_balance[note] = 0\n",
    "                    amount = amount - temp*note\n",
    "                    result[note] = temp\n",
    "                else : \n",
    "                    n,amount = divmod(amount,note)\n",
    "                    current_balance[note] -= n\n",
    "                    result[note] = n\n",
    "            else :\n",
    "                return False\n",
    "        return result\n",
    "    else : \n",
    "        print(\"\\n\\nInvalid Amount..Amount Should be multiple of 2000,500,200,100,50\\n\")\n",
    "        ch = input(\"Press y to retry : \").lower().strip()\n",
    "        if ch == 'y' or ch == 'yes' : \n",
    "            amount = int(input(\"Enter Amount : \"))\n",
    "            return ATM(amount)\n",
    "        print(\"Thanks for using Services....Exiting\")\n",
    "        return False"
   ]
  },
  {
   "cell_type": "code",
   "execution_count": 44,
   "metadata": {},
   "outputs": [],
   "source": [
    "def check_Amount(amount) : \n",
    "    if amount % 2000 == 0 or amount % 500 == 0 or amount % 200 == 0  or amount % 100 == 0  :\n",
    "        return True \n",
    "    return False"
   ]
  },
  {
   "cell_type": "code",
   "execution_count": 45,
   "metadata": {},
   "outputs": [
    {
     "data": {
      "text/plain": [
       "False"
      ]
     },
     "execution_count": 45,
     "metadata": {},
     "output_type": "execute_result"
    }
   ],
   "source": [
    "check_Amount(5020)"
   ]
  },
  {
   "cell_type": "code",
   "execution_count": 47,
   "metadata": {},
   "outputs": [
    {
     "data": {
      "text/plain": [
       "225000"
      ]
     },
     "execution_count": 47,
     "metadata": {},
     "output_type": "execute_result"
    }
   ],
   "source": [
    "total_Balance()"
   ]
  },
  {
   "cell_type": "code",
   "execution_count": 60,
   "metadata": {},
   "outputs": [
    {
     "data": {
      "text/plain": [
       "{2000: 0, 500: 20, 200: 0, 100: 0}"
      ]
     },
     "execution_count": 60,
     "metadata": {},
     "output_type": "execute_result"
    }
   ],
   "source": [
    "ATM(10000)"
   ]
  },
  {
   "cell_type": "code",
   "execution_count": 61,
   "metadata": {},
   "outputs": [
    {
     "data": {
      "text/plain": [
       "205000"
      ]
     },
     "execution_count": 61,
     "metadata": {},
     "output_type": "execute_result"
    }
   ],
   "source": [
    "total_Balance()"
   ]
  },
  {
   "cell_type": "code",
   "execution_count": 62,
   "metadata": {},
   "outputs": [
    {
     "data": {
      "text/plain": [
       "{2000: 0, 500: 10, 200: 500, 100: 1000}"
      ]
     },
     "execution_count": 62,
     "metadata": {},
     "output_type": "execute_result"
    }
   ],
   "source": [
    "current_balance"
   ]
  },
  {
   "cell_type": "code",
   "execution_count": 63,
   "metadata": {},
   "outputs": [
    {
     "data": {
      "text/plain": [
       "{2000: 0, 500: 10, 200: 25, 100: 0}"
      ]
     },
     "execution_count": 63,
     "metadata": {},
     "output_type": "execute_result"
    }
   ],
   "source": [
    "ATM(10000)"
   ]
  },
  {
   "cell_type": "code",
   "execution_count": 64,
   "metadata": {},
   "outputs": [
    {
     "data": {
      "text/plain": [
       "{2000: 0, 500: 0, 200: 475, 100: 1000}"
      ]
     },
     "execution_count": 64,
     "metadata": {},
     "output_type": "execute_result"
    }
   ],
   "source": [
    "current_balance"
   ]
  },
  {
   "cell_type": "code",
   "execution_count": 66,
   "metadata": {},
   "outputs": [
    {
     "data": {
      "text/plain": [
       "{2000: 0, 500: 0, 200: 50, 100: 0}"
      ]
     },
     "execution_count": 66,
     "metadata": {},
     "output_type": "execute_result"
    }
   ],
   "source": [
    "ATM(10000)"
   ]
  },
  {
   "cell_type": "code",
   "execution_count": 70,
   "metadata": {},
   "outputs": [
    {
     "data": {
      "text/plain": [
       "{2000: 0, 500: 0, 200: 425, 100: 1000}"
      ]
     },
     "execution_count": 70,
     "metadata": {},
     "output_type": "execute_result"
    }
   ],
   "source": [
    "current_balance"
   ]
  },
  {
   "cell_type": "code",
   "execution_count": 69,
   "metadata": {},
   "outputs": [
    {
     "data": {
      "text/plain": [
       "185000"
      ]
     },
     "execution_count": 69,
     "metadata": {},
     "output_type": "execute_result"
    }
   ],
   "source": [
    "total_Balance()"
   ]
  },
  {
   "cell_type": "code",
   "execution_count": 71,
   "metadata": {},
   "outputs": [
    {
     "data": {
      "text/plain": [
       "{2000: 0, 500: 0, 200: 425, 100: 150}"
      ]
     },
     "execution_count": 71,
     "metadata": {},
     "output_type": "execute_result"
    }
   ],
   "source": [
    "ATM(100000)"
   ]
  },
  {
   "cell_type": "code",
   "execution_count": 72,
   "metadata": {},
   "outputs": [
    {
     "data": {
      "text/plain": [
       "{2000: 0, 500: 0, 200: 0, 100: 850}"
      ]
     },
     "execution_count": 72,
     "metadata": {},
     "output_type": "execute_result"
    }
   ],
   "source": [
    "current_balance"
   ]
  },
  {
   "cell_type": "code",
   "execution_count": null,
   "metadata": {},
   "outputs": [],
   "source": []
  }
 ],
 "metadata": {
  "kernelspec": {
   "display_name": "Python 3",
   "language": "python",
   "name": "python3"
  },
  "language_info": {
   "codemirror_mode": {
    "name": "ipython",
    "version": 3
   },
   "file_extension": ".py",
   "mimetype": "text/x-python",
   "name": "python",
   "nbconvert_exporter": "python",
   "pygments_lexer": "ipython3",
   "version": "3.7.0"
  }
 },
 "nbformat": 4,
 "nbformat_minor": 2
}
