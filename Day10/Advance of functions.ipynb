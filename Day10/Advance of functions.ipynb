{
 "cells": [
  {
   "cell_type": "code",
   "execution_count": 34,
   "metadata": {},
   "outputs": [
    {
     "name": "stdout",
     "output_type": "stream",
     "text": [
      "8256\n"
     ]
    }
   ],
   "source": [
    "def sum1(n):\n",
    "    \"\"\"sum1(count) --> return the sum of first n numbers.\n",
    "    eg. sum1(5) will return 1+2+3+4+5 so on \n",
    "    return will be like n(n+1) / 2 \n",
    "    \"\"\"\n",
    "    sum1.c = sum1.c + 1\n",
    "    if sum1.counter == num : \n",
    "        return sum1.c\n",
    "    sum1.counter += 1\n",
    "    return sum1.c + sum1(n)\n",
    "sum1.c = 0 #function static var\n",
    "sum1.counter = 0\n",
    "result = sum1(10)\n",
    "print(result)"
   ]
  },
  {
   "cell_type": "code",
   "execution_count": 35,
   "metadata": {},
   "outputs": [],
   "source": [
    "def prime(num):\n",
    "    if prime.check == num//2+1 :\n",
    "        prime.check = 2\n",
    "        return True \n",
    "    elif num % prime.check == 0 :\n",
    "        prime.check = 2\n",
    "        return False \n",
    "    else : \n",
    "        prime.check += 1\n",
    "        return prime(num)\n",
    "    \n",
    "prime.check = 2"
   ]
  },
  {
   "cell_type": "code",
   "execution_count": 37,
   "metadata": {},
   "outputs": [
    {
     "data": {
      "text/plain": [
       "False"
      ]
     },
     "execution_count": 37,
     "metadata": {},
     "output_type": "execute_result"
    }
   ],
   "source": [
    "prime(121)"
   ]
  },
  {
   "cell_type": "code",
   "execution_count": 13,
   "metadata": {},
   "outputs": [
    {
     "data": {
      "text/plain": [
       "True"
      ]
     },
     "execution_count": 13,
     "metadata": {},
     "output_type": "execute_result"
    }
   ],
   "source": [
    "prime(13)"
   ]
  },
  {
   "cell_type": "code",
   "execution_count": 18,
   "metadata": {},
   "outputs": [
    {
     "data": {
      "text/plain": [
       "False"
      ]
     },
     "execution_count": 18,
     "metadata": {},
     "output_type": "execute_result"
    }
   ],
   "source": [
    "prime(1988372793712937912793721937911)"
   ]
  },
  {
   "cell_type": "code",
   "execution_count": 22,
   "metadata": {},
   "outputs": [
    {
     "name": "stdout",
     "output_type": "stream",
     "text": [
      "Enter number : 121\n",
      "Not Prime\n"
     ]
    }
   ],
   "source": [
    "num = int(input(\"Enter number : \"))\n",
    "for var in range(2,num) : \n",
    "    if num % var == 0 : \n",
    "        print(\"Not Prime\")\n",
    "        break\n",
    "else : \n",
    "    print(\"Prime\")\n",
    "        \n",
    "        "
   ]
  },
  {
   "cell_type": "code",
   "execution_count": 42,
   "metadata": {},
   "outputs": [],
   "source": [
    "def prime(num): \n",
    "    for var in range(2,round(sqrt(127))+1): \n",
    "        if num % var == 0 : \n",
    "            return False \n",
    "    return True\n"
   ]
  },
  {
   "cell_type": "code",
   "execution_count": 44,
   "metadata": {},
   "outputs": [
    {
     "data": {
      "text/plain": [
       "False"
      ]
     },
     "execution_count": 44,
     "metadata": {},
     "output_type": "execute_result"
    }
   ],
   "source": [
    "prime(121)"
   ]
  },
  {
   "cell_type": "code",
   "execution_count": 28,
   "metadata": {},
   "outputs": [
    {
     "name": "stdout",
     "output_type": "stream",
     "text": [
      "var\t\tremainder\t\tquotient\n",
      "2 \t\t 1 \t\t 63\n",
      "3 \t\t 1 \t\t 42\n",
      "4 \t\t 3 \t\t 31\n",
      "5 \t\t 2 \t\t 25\n",
      "6 \t\t 1 \t\t 21\n",
      "7 \t\t 1 \t\t 18\n",
      "8 \t\t 7 \t\t 15\n",
      "9 \t\t 1 \t\t 14\n",
      "10 \t\t 7 \t\t 12\n",
      "11 \t\t 6 \t\t 11\n",
      "12 \t\t 7 \t\t 10\n",
      "13 \t\t 10 \t\t 9\n",
      "14 \t\t 1 \t\t 9\n",
      "15 \t\t 7 \t\t 8\n",
      "16 \t\t 15 \t\t 7\n",
      "17 \t\t 8 \t\t 7\n",
      "18 \t\t 1 \t\t 7\n",
      "19 \t\t 13 \t\t 6\n",
      "20 \t\t 7 \t\t 6\n",
      "21 \t\t 1 \t\t 6\n",
      "22 \t\t 17 \t\t 5\n",
      "23 \t\t 12 \t\t 5\n",
      "24 \t\t 7 \t\t 5\n",
      "25 \t\t 2 \t\t 5\n",
      "26 \t\t 23 \t\t 4\n",
      "27 \t\t 19 \t\t 4\n",
      "28 \t\t 15 \t\t 4\n",
      "29 \t\t 11 \t\t 4\n",
      "30 \t\t 7 \t\t 4\n",
      "31 \t\t 3 \t\t 4\n",
      "32 \t\t 31 \t\t 3\n",
      "33 \t\t 28 \t\t 3\n",
      "34 \t\t 25 \t\t 3\n",
      "35 \t\t 22 \t\t 3\n",
      "36 \t\t 19 \t\t 3\n",
      "37 \t\t 16 \t\t 3\n",
      "38 \t\t 13 \t\t 3\n",
      "39 \t\t 10 \t\t 3\n",
      "40 \t\t 7 \t\t 3\n",
      "41 \t\t 4 \t\t 3\n",
      "42 \t\t 1 \t\t 3\n",
      "43 \t\t 41 \t\t 2\n",
      "44 \t\t 39 \t\t 2\n",
      "45 \t\t 37 \t\t 2\n",
      "46 \t\t 35 \t\t 2\n",
      "47 \t\t 33 \t\t 2\n",
      "48 \t\t 31 \t\t 2\n",
      "49 \t\t 29 \t\t 2\n",
      "50 \t\t 27 \t\t 2\n",
      "51 \t\t 25 \t\t 2\n",
      "52 \t\t 23 \t\t 2\n",
      "53 \t\t 21 \t\t 2\n",
      "54 \t\t 19 \t\t 2\n",
      "55 \t\t 17 \t\t 2\n",
      "56 \t\t 15 \t\t 2\n",
      "57 \t\t 13 \t\t 2\n",
      "58 \t\t 11 \t\t 2\n",
      "59 \t\t 9 \t\t 2\n",
      "60 \t\t 7 \t\t 2\n",
      "61 \t\t 5 \t\t 2\n",
      "62 \t\t 3 \t\t 2\n",
      "63 \t\t 1 \t\t 2\n",
      "64 \t\t 63 \t\t 1\n",
      "65 \t\t 62 \t\t 1\n",
      "66 \t\t 61 \t\t 1\n",
      "67 \t\t 60 \t\t 1\n",
      "68 \t\t 59 \t\t 1\n",
      "69 \t\t 58 \t\t 1\n",
      "70 \t\t 57 \t\t 1\n",
      "71 \t\t 56 \t\t 1\n",
      "72 \t\t 55 \t\t 1\n",
      "73 \t\t 54 \t\t 1\n",
      "74 \t\t 53 \t\t 1\n",
      "75 \t\t 52 \t\t 1\n",
      "76 \t\t 51 \t\t 1\n",
      "77 \t\t 50 \t\t 1\n",
      "78 \t\t 49 \t\t 1\n",
      "79 \t\t 48 \t\t 1\n",
      "80 \t\t 47 \t\t 1\n",
      "81 \t\t 46 \t\t 1\n",
      "82 \t\t 45 \t\t 1\n",
      "83 \t\t 44 \t\t 1\n",
      "84 \t\t 43 \t\t 1\n",
      "85 \t\t 42 \t\t 1\n",
      "86 \t\t 41 \t\t 1\n",
      "87 \t\t 40 \t\t 1\n",
      "88 \t\t 39 \t\t 1\n",
      "89 \t\t 38 \t\t 1\n",
      "90 \t\t 37 \t\t 1\n",
      "91 \t\t 36 \t\t 1\n",
      "92 \t\t 35 \t\t 1\n",
      "93 \t\t 34 \t\t 1\n",
      "94 \t\t 33 \t\t 1\n",
      "95 \t\t 32 \t\t 1\n",
      "96 \t\t 31 \t\t 1\n",
      "97 \t\t 30 \t\t 1\n",
      "98 \t\t 29 \t\t 1\n",
      "99 \t\t 28 \t\t 1\n",
      "100 \t\t 27 \t\t 1\n",
      "101 \t\t 26 \t\t 1\n",
      "102 \t\t 25 \t\t 1\n",
      "103 \t\t 24 \t\t 1\n",
      "104 \t\t 23 \t\t 1\n",
      "105 \t\t 22 \t\t 1\n",
      "106 \t\t 21 \t\t 1\n",
      "107 \t\t 20 \t\t 1\n",
      "108 \t\t 19 \t\t 1\n",
      "109 \t\t 18 \t\t 1\n",
      "110 \t\t 17 \t\t 1\n",
      "111 \t\t 16 \t\t 1\n",
      "112 \t\t 15 \t\t 1\n",
      "113 \t\t 14 \t\t 1\n",
      "114 \t\t 13 \t\t 1\n",
      "115 \t\t 12 \t\t 1\n",
      "116 \t\t 11 \t\t 1\n",
      "117 \t\t 10 \t\t 1\n",
      "118 \t\t 9 \t\t 1\n",
      "119 \t\t 8 \t\t 1\n",
      "120 \t\t 7 \t\t 1\n",
      "121 \t\t 6 \t\t 1\n",
      "122 \t\t 5 \t\t 1\n",
      "123 \t\t 4 \t\t 1\n",
      "124 \t\t 3 \t\t 1\n",
      "125 \t\t 2 \t\t 1\n",
      "126 \t\t 1 \t\t 1\n"
     ]
    }
   ],
   "source": [
    "num = 127\n",
    "print(\"var\\t\\tremainder\\t\\tquotient\")\n",
    "for var in range(2,num) : \n",
    "    print(var,'\\t\\t',num%var,'\\t\\t',num//var)"
   ]
  },
  {
   "cell_type": "code",
   "execution_count": 41,
   "metadata": {},
   "outputs": [
    {
     "data": {
      "text/plain": [
       "11"
      ]
     },
     "execution_count": 41,
     "metadata": {},
     "output_type": "execute_result"
    }
   ],
   "source": [
    "from math import sqrt\n",
    "round(sqrt(127))"
   ]
  },
  {
   "cell_type": "code",
   "execution_count": 45,
   "metadata": {},
   "outputs": [],
   "source": [
    "def fact(num):\n",
    "    if num == 1  : \n",
    "        return 1\n",
    "    return num*fact(num-1)"
   ]
  },
  {
   "cell_type": "code",
   "execution_count": 46,
   "metadata": {},
   "outputs": [
    {
     "data": {
      "text/plain": [
       "120"
      ]
     },
     "execution_count": 46,
     "metadata": {},
     "output_type": "execute_result"
    }
   ],
   "source": [
    "fact(5)"
   ]
  },
  {
   "cell_type": "code",
   "execution_count": 60,
   "metadata": {},
   "outputs": [],
   "source": [
    "from math import ceil\n",
    "def prime(num): \n",
    "    prime.counter += 1\n",
    "    if prime.check == ceil(num) : \n",
    "        return True \n",
    "    if num % prime.check == 0 :\n",
    "        prime.check = 2\n",
    "        return False\n",
    "    else : \n",
    "        prime.check += 1\n",
    "        return prime(num)\n",
    "\n",
    "def main():\n",
    "    num = int(input(\"Enter number : \"))\n",
    "    prime.check = 2\n",
    "    prime.counter = 0\n",
    "    if prime(num) : \n",
    "        print(f\"Given {num} is Prime.\")\n",
    "    else : \n",
    "        print(f\"Given {num} is not Prime.\")"
   ]
  },
  {
   "cell_type": "code",
   "execution_count": 57,
   "metadata": {},
   "outputs": [
    {
     "name": "stdout",
     "output_type": "stream",
     "text": [
      "Enter number : 127\n",
      "Given 127 is Prime.\n"
     ]
    }
   ],
   "source": [
    "main()"
   ]
  },
  {
   "cell_type": "code",
   "execution_count": 53,
   "metadata": {},
   "outputs": [
    {
     "data": {
      "text/plain": [
       "6"
      ]
     },
     "execution_count": 53,
     "metadata": {},
     "output_type": "execute_result"
    }
   ],
   "source": [
    "math.ceil(5.1)"
   ]
  },
  {
   "cell_type": "code",
   "execution_count": 54,
   "metadata": {},
   "outputs": [
    {
     "data": {
      "text/plain": [
       "4"
      ]
     },
     "execution_count": 54,
     "metadata": {},
     "output_type": "execute_result"
    }
   ],
   "source": [
    "math.floor(4.9)"
   ]
  },
  {
   "cell_type": "code",
   "execution_count": 64,
   "metadata": {},
   "outputs": [
    {
     "name": "stdout",
     "output_type": "stream",
     "text": [
      "Enter number : 23\n",
      "Given 23 is Prime.\n"
     ]
    }
   ],
   "source": [
    "main()"
   ]
  },
  {
   "cell_type": "code",
   "execution_count": 65,
   "metadata": {},
   "outputs": [
    {
     "data": {
      "text/plain": [
       "22"
      ]
     },
     "execution_count": 65,
     "metadata": {},
     "output_type": "execute_result"
    }
   ],
   "source": [
    "prime.counter"
   ]
  },
  {
   "cell_type": "code",
   "execution_count": 73,
   "metadata": {},
   "outputs": [],
   "source": [
    "def add(x,y) : \n",
    "    print(f\"x = {x}\\ny = {y}\\nx + y = {x+y}\")"
   ]
  },
  {
   "cell_type": "code",
   "execution_count": 74,
   "metadata": {},
   "outputs": [
    {
     "name": "stdout",
     "output_type": "stream",
     "text": [
      "x = 3\n",
      "y = 4\n",
      "x + y = 7\n"
     ]
    }
   ],
   "source": [
    "add(3,4)"
   ]
  },
  {
   "cell_type": "code",
   "execution_count": 75,
   "metadata": {},
   "outputs": [],
   "source": [
    "#closure --> \n",
    "def fun():\n",
    "    def fun1():\n",
    "        print(\"Helllo world\")\n",
    "    return fun1"
   ]
  },
  {
   "cell_type": "code",
   "execution_count": 76,
   "metadata": {},
   "outputs": [],
   "source": [
    "x = fun()"
   ]
  },
  {
   "cell_type": "code",
   "execution_count": 77,
   "metadata": {},
   "outputs": [
    {
     "name": "stdout",
     "output_type": "stream",
     "text": [
      "Helllo world\n"
     ]
    }
   ],
   "source": [
    "x()"
   ]
  },
  {
   "cell_type": "code",
   "execution_count": 78,
   "metadata": {},
   "outputs": [],
   "source": [
    "def hello():\n",
    "    print(\"Hello world\")\n",
    "hi = hello #alias"
   ]
  },
  {
   "cell_type": "code",
   "execution_count": 79,
   "metadata": {},
   "outputs": [
    {
     "name": "stdout",
     "output_type": "stream",
     "text": [
      "Hello world\n",
      "Hello world\n"
     ]
    }
   ],
   "source": [
    "hello()\n",
    "hi()"
   ]
  },
  {
   "cell_type": "code",
   "execution_count": 80,
   "metadata": {},
   "outputs": [],
   "source": [
    "def greeting(company): #closulre\n",
    "    greet = f\"Welcome to {company}\"\n",
    "    def lets_Greet():\n",
    "        return greet\n",
    "    return lets_Greet"
   ]
  },
  {
   "cell_type": "code",
   "execution_count": 81,
   "metadata": {},
   "outputs": [],
   "source": [
    "x = greeting(\"Grras Solutions PVT. Ltd, Jaipur\")"
   ]
  },
  {
   "cell_type": "code",
   "execution_count": 82,
   "metadata": {},
   "outputs": [
    {
     "data": {
      "text/plain": [
       "'Welcome to Grras Solutions PVT. Ltd, Jaipur'"
      ]
     },
     "execution_count": 82,
     "metadata": {},
     "output_type": "execute_result"
    }
   ],
   "source": [
    "x()"
   ]
  },
  {
   "cell_type": "code",
   "execution_count": 96,
   "metadata": {},
   "outputs": [],
   "source": [
    "#decorator \n",
    "def decorate(old_func):\n",
    "    def makeup(x,y):\n",
    "        print(\"..........................\")\n",
    "        print(\"..........................\")\n",
    "        old_func(x,y)\n",
    "        print(\"...........................\")\n",
    "        print(\"...........................\")\n",
    "    return makeup"
   ]
  },
  {
   "cell_type": "code",
   "execution_count": 85,
   "metadata": {},
   "outputs": [],
   "source": [
    "def hello():\n",
    "    print(\"Hello world\")"
   ]
  },
  {
   "cell_type": "code",
   "execution_count": 86,
   "metadata": {},
   "outputs": [
    {
     "name": "stdout",
     "output_type": "stream",
     "text": [
      "Hello world\n"
     ]
    }
   ],
   "source": [
    "hello()"
   ]
  },
  {
   "cell_type": "code",
   "execution_count": 90,
   "metadata": {},
   "outputs": [],
   "source": [
    "hello1 = decorate(hello)"
   ]
  },
  {
   "cell_type": "code",
   "execution_count": 91,
   "metadata": {},
   "outputs": [
    {
     "name": "stdout",
     "output_type": "stream",
     "text": [
      "..........................\n",
      "..........................\n",
      "Hello world\n",
      "...........................\n",
      "...........................\n"
     ]
    }
   ],
   "source": [
    "hello1()"
   ]
  },
  {
   "cell_type": "code",
   "execution_count": 110,
   "metadata": {},
   "outputs": [
    {
     "name": "stdout",
     "output_type": "stream",
     "text": [
      "x = 3\n",
      "y = 4\n",
      "x + y  = 7\n"
     ]
    }
   ],
   "source": [
    "def add(x,y) : \n",
    "    print(f\"x = {x}\")\n",
    "    print(f\"y = {y}\")\n",
    "    print(f\"x + y  = {x+y}\")\n",
    "add(3,4)"
   ]
  },
  {
   "cell_type": "code",
   "execution_count": 98,
   "metadata": {},
   "outputs": [],
   "source": [
    "f  = decorate(add)"
   ]
  },
  {
   "cell_type": "code",
   "execution_count": 100,
   "metadata": {},
   "outputs": [
    {
     "name": "stdout",
     "output_type": "stream",
     "text": [
      "..........................\n",
      "..........................\n",
      "x = 3\n",
      "y = 4\n",
      "x + y  = 7\n",
      "...........................\n",
      "...........................\n"
     ]
    }
   ],
   "source": [
    "f(3,4)"
   ]
  },
  {
   "cell_type": "code",
   "execution_count": 102,
   "metadata": {},
   "outputs": [],
   "source": [
    "def my_sqrt(old):\n",
    "    def makeup(arg) :\n",
    "        x = old(arg)\n",
    "        print(\".......................................\")\n",
    "        print(\".......................................\")\n",
    "        print()\n",
    "        print(\"\\t\\t\\t\",x)\n",
    "        print()\n",
    "        print(\".......................................\")\n",
    "        print(\".......................................\")\n",
    "    return makeup"
   ]
  },
  {
   "cell_type": "code",
   "execution_count": 103,
   "metadata": {},
   "outputs": [],
   "source": [
    "from math import sqrt \n",
    "\n",
    "s = my_sqrt(sqrt)"
   ]
  },
  {
   "cell_type": "code",
   "execution_count": 104,
   "metadata": {},
   "outputs": [
    {
     "name": "stdout",
     "output_type": "stream",
     "text": [
      ".......................................\n",
      ".......................................\n",
      "\n",
      "\t\t\t 11.0\n",
      "\n",
      ".......................................\n",
      ".......................................\n"
     ]
    }
   ],
   "source": [
    "s(121)"
   ]
  },
  {
   "cell_type": "code",
   "execution_count": 107,
   "metadata": {},
   "outputs": [],
   "source": [
    "def dec(func):\n",
    "    def make(*args,**kwargs):\n",
    "        print(\"\\n\\n\")\n",
    "        print(\"*\"*50)\n",
    "        print(\"*\"*50)\n",
    "        print()\n",
    "        func(*args,**kwargs)\n",
    "        print()\n",
    "        print(\"*\"*50)\n",
    "        print(\"*\"*50)\n",
    "    return make"
   ]
  },
  {
   "cell_type": "code",
   "execution_count": 109,
   "metadata": {},
   "outputs": [
    {
     "name": "stdout",
     "output_type": "stream",
     "text": [
      "\n",
      "\n",
      "\n",
      "**************************************************\n",
      "**************************************************\n",
      "\n",
      "Hello world\n",
      "\n",
      "**************************************************\n",
      "**************************************************\n",
      "\n",
      "\n",
      "\n",
      "**************************************************\n",
      "**************************************************\n",
      "\n",
      "x = 3\n",
      "y = 4\n",
      "x + y  = 7\n",
      "\n",
      "**************************************************\n",
      "**************************************************\n"
     ]
    }
   ],
   "source": [
    "h = dec(hello)\n",
    "h()\n",
    "s = dec(add)\n",
    "s(3,4)"
   ]
  },
  {
   "cell_type": "code",
   "execution_count": 123,
   "metadata": {},
   "outputs": [],
   "source": [
    "@dec\n",
    "def hello(name):\n",
    "    print(f\"Hello mr. {name}\".rjust(50))"
   ]
  },
  {
   "cell_type": "code",
   "execution_count": 124,
   "metadata": {},
   "outputs": [
    {
     "name": "stdout",
     "output_type": "stream",
     "text": [
      "\n",
      "\n",
      "\n",
      "**************************************************\n",
      "**************************************************\n",
      "\n",
      "                            Hello mr. sachin yadav\n",
      "\n",
      "**************************************************\n",
      "**************************************************\n"
     ]
    }
   ],
   "source": [
    "hello('sachin yadav')"
   ]
  },
  {
   "cell_type": "code",
   "execution_count": 126,
   "metadata": {},
   "outputs": [],
   "source": [
    "@dec\n",
    "def prime(num):\n",
    "    for check in range(2,num//2+1):\n",
    "        if num % check == 0 :\n",
    "            print(f\"Given {num} is not Prime\")\n",
    "    else : \n",
    "        print(f\"Given {num} is Prime\")\n",
    "        "
   ]
  },
  {
   "cell_type": "code",
   "execution_count": 127,
   "metadata": {},
   "outputs": [
    {
     "name": "stdout",
     "output_type": "stream",
     "text": [
      "\n",
      "\n",
      "\n",
      "**************************************************\n",
      "**************************************************\n",
      "\n",
      "Given 127 is Prime\n",
      "\n",
      "**************************************************\n",
      "**************************************************\n"
     ]
    }
   ],
   "source": [
    "prime(127)"
   ]
  },
  {
   "cell_type": "code",
   "execution_count": 133,
   "metadata": {},
   "outputs": [],
   "source": [
    "def args(arg): #closure\n",
    "    def dec(old_func):\n",
    "        def make(*args,**kwargs):\n",
    "                print(f\"Welcome to {arg}\")\n",
    "                print()\n",
    "                print()\n",
    "                return old_func(*args,**kwargs)\n",
    "        return make\n",
    "    return dec"
   ]
  },
  {
   "cell_type": "code",
   "execution_count": 134,
   "metadata": {},
   "outputs": [
    {
     "name": "stdout",
     "output_type": "stream",
     "text": [
      "Welcome to Grras Solutions PVT. LTD,Jaipur\n",
      "\n",
      "\n",
      "Welcome to Sachin Yadav\n",
      "\n",
      "\n",
      "11\n",
      "-1\n"
     ]
    }
   ],
   "source": [
    "@args(\"Grras Solutions PVT. LTD,Jaipur\")\n",
    "def add(x,y):\n",
    "    return x + y\n",
    "@args(\"Sachin Yadav\")\n",
    "def sub(x,y):\n",
    "    return x - y \n",
    "\n",
    "x = add(5,6)\n",
    "y = sub(6,7)\n",
    "print(x)\n",
    "print(y)"
   ]
  },
  {
   "cell_type": "code",
   "execution_count": null,
   "metadata": {},
   "outputs": [],
   "source": []
  },
  {
   "cell_type": "code",
   "execution_count": 156,
   "metadata": {},
   "outputs": [],
   "source": [
    "#HTML EDITOR\n",
    "def editor(*tags):\n",
    "    def dec(edit):\n",
    "        def make(string):\n",
    "            string = edit(string)\n",
    "            for tag in reversed(tags): \n",
    "                string = \"<{0}>{1}</{0}>\".format(tag,string)\n",
    "            return string\n",
    "        return make\n",
    "    return dec "
   ]
  },
  {
   "cell_type": "code",
   "execution_count": 151,
   "metadata": {},
   "outputs": [],
   "source": [
    "def para_Input():\n",
    "    para = ''\n",
    "    print(\"Welcome to text editor write your data type eof anytime to finish\")\n",
    "    while True : \n",
    "        string = input()\n",
    "        if string.strip().lower() == 'eof' : \n",
    "            break\n",
    "        para += string + '\\n'\n",
    "    return para[:-1]"
   ]
  },
  {
   "cell_type": "code",
   "execution_count": 138,
   "metadata": {},
   "outputs": [
    {
     "data": {
      "text/plain": [
       "\"hello world this is sachin.\\nI am teaching you python\\nlet's do some crazy stuff\\n\""
      ]
     },
     "execution_count": 138,
     "metadata": {},
     "output_type": "execute_result"
    }
   ],
   "source": [
    "para"
   ]
  },
  {
   "cell_type": "code",
   "execution_count": 139,
   "metadata": {},
   "outputs": [
    {
     "name": "stdout",
     "output_type": "stream",
     "text": [
      "hello world this is sachin.\n",
      "I am teaching you python\n",
      "let's do some crazy stuff\n",
      "\n"
     ]
    }
   ],
   "source": [
    "print(para)"
   ]
  },
  {
   "cell_type": "code",
   "execution_count": 154,
   "metadata": {},
   "outputs": [],
   "source": [
    "@editor('p','i','b')\n",
    "def para(s):\n",
    "    s = s.replace('\\n','<br />')\n",
    "    s = s.replace('\\t','&nbsp;&nbsp;&nbsp;&nbsp;&nbsp;')\n",
    "    return s "
   ]
  },
  {
   "cell_type": "code",
   "execution_count": 157,
   "metadata": {},
   "outputs": [],
   "source": [
    "x = para(\"Hello world this is python.\\nLet's\\tExplore html\\nusing python\")"
   ]
  },
  {
   "cell_type": "code",
   "execution_count": 158,
   "metadata": {},
   "outputs": [
    {
     "name": "stdout",
     "output_type": "stream",
     "text": [
      "<p><i><b>Hello world this is python.<br />Let's&nbsp;&nbsp;&nbsp;&nbsp;&nbsp;Explore html<br />using python</b></i></p>\n"
     ]
    }
   ],
   "source": [
    "print(x)"
   ]
  },
  {
   "cell_type": "markdown",
   "metadata": {},
   "source": [
    "<p><i><b>Hello world this is python.<br />Let's&nbsp;&nbsp;&nbsp;&nbsp;&nbsp;Explore html<br />using python</b></i></p>"
   ]
  },
  {
   "cell_type": "code",
   "execution_count": null,
   "metadata": {},
   "outputs": [],
   "source": []
  }
 ],
 "metadata": {
  "kernelspec": {
   "display_name": "Python 3",
   "language": "python",
   "name": "python3"
  },
  "language_info": {
   "codemirror_mode": {
    "name": "ipython",
    "version": 3
   },
   "file_extension": ".py",
   "mimetype": "text/x-python",
   "name": "python",
   "nbconvert_exporter": "python",
   "pygments_lexer": "ipython3",
   "version": "3.7.0"
  }
 },
 "nbformat": 4,
 "nbformat_minor": 2
}
