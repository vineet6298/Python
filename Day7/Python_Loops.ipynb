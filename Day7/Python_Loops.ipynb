{
 "cells": [
  {
   "cell_type": "markdown",
   "metadata": {},
   "source": [
    "<h1 style='color:red'>Loops in Python </h1>"
   ]
  },
  {
   "cell_type": "markdown",
   "metadata": {},
   "source": [
    "<h1>Write an Algorithm to check Whether a number is even or odd ? </h1>"
   ]
  },
  {
   "cell_type": "markdown",
   "metadata": {},
   "source": [
    "<ol>\n",
    "    <li>Start</li>\n",
    "    <li>Input a num and store it into a container called x</li>\n",
    "    <li>Check Whether x is divisible by 2 or not </li>\n",
    "    <li>if number is divisble then echo EVEN </li>\n",
    "    <li>else echo Odd Number </li>\n",
    "    <li>Stop</li>\n",
    "</ol>"
   ]
  },
  {
   "cell_type": "code",
   "execution_count": 3,
   "metadata": {},
   "outputs": [
    {
     "name": "stdout",
     "output_type": "stream",
     "text": [
      "Enter a number : 13\n",
      "Given 13 is an odd number.\n"
     ]
    }
   ],
   "source": [
    "num  = int(input(\"Enter a number : \"))\n",
    "\n",
    "if num % 2  : \n",
    "    print(f\"Given {num} is an odd number.\")\n",
    "else : \n",
    "    print(f\"Given {num} is an even number.\")\n",
    "    "
   ]
  },
  {
   "cell_type": "code",
   "execution_count": 9,
   "metadata": {},
   "outputs": [
    {
     "name": "stdout",
     "output_type": "stream",
     "text": [
      "Enter year : 2013\n",
      "Not a Leap Year.\n"
     ]
    }
   ],
   "source": [
    "#write a program to check whether a given is leap year or not  ?\n",
    "year = int(input(\"Enter year : \"))\n",
    "if year > 0 : \n",
    "    if year % 4 == 0 : \n",
    "        if year % 100 == 0 : \n",
    "            if year % 400 == 0 : \n",
    "                print(\"Leap Year.\")\n",
    "            else : \n",
    "                print(\"Not a Leap Year.\")\n",
    "        else : \n",
    "            print(\"Leap Year.\")\n",
    "    else : \n",
    "        print(\"Not a Leap Year.\")\n",
    "else : \n",
    "    print(\"Given year is not a Valid Year.\")"
   ]
  },
  {
   "cell_type": "code",
   "execution_count": 15,
   "metadata": {},
   "outputs": [
    {
     "name": "stdout",
     "output_type": "stream",
     "text": [
      "Enter year : 2400\n",
      "Leap Year\n"
     ]
    }
   ],
   "source": [
    "year = int(input(\"Enter year : \"))\n",
    "if ( year % 4 == 0 ) and  ( year % 100 or year % 400 == 0 ) : \n",
    "    print(\"Leap Year\")\n",
    "else :\n",
    "    print(\"Not a Leap Year\")"
   ]
  },
  {
   "cell_type": "code",
   "execution_count": 16,
   "metadata": {},
   "outputs": [
    {
     "name": "stdout",
     "output_type": "stream",
     "text": [
      "Hello World Times 1\n",
      "Hello World Times 2\n",
      "Hello World Times 3\n",
      "Hello World Times 4\n",
      "Hello World Times 5\n",
      "Hello World Times 6\n",
      "Hello World Times 7\n",
      "Hello World Times 8\n",
      "Hello World Times 9\n",
      "Hello World Times 10\n"
     ]
    }
   ],
   "source": [
    "count = 1\n",
    "while count <= 10 :\n",
    "    print(f\"Hello World Times {count}\")\n",
    "    count = count + 1"
   ]
  },
  {
   "cell_type": "code",
   "execution_count": 17,
   "metadata": {},
   "outputs": [
    {
     "name": "stdout",
     "output_type": "stream",
     "text": [
      "Enter a number : 5\n",
      "5 * 1 = 5 \n",
      "5 * 2 = 10 \n",
      "5 * 3 = 15 \n",
      "5 * 4 = 20 \n",
      "5 * 5 = 25 \n",
      "5 * 6 = 30 \n",
      "5 * 7 = 35 \n",
      "5 * 8 = 40 \n",
      "5 * 9 = 45 \n",
      "5 * 10 = 50 \n"
     ]
    }
   ],
   "source": [
    "c = 1\n",
    "num = int(input(\"Enter a number : \"))\n",
    "while c <= 10 : \n",
    "    print(f\"{num} * {c} = {num*c} \")\n",
    "    c = c + 1"
   ]
  },
  {
   "cell_type": "code",
   "execution_count": 19,
   "metadata": {},
   "outputs": [
    {
     "name": "stdout",
     "output_type": "stream",
     "text": [
      "Enter a number : 5\n",
      "0 + 5 = 5 \n",
      "5 + 5 = 10 \n",
      "10 + 5 = 15 \n",
      "15 + 5 = 20 \n",
      "20 + 5 = 25 \n",
      "25 + 5 = 30 \n",
      "30 + 5 = 35 \n",
      "35 + 5 = 40 \n",
      "40 + 5 = 45 \n",
      "45 + 5 = 50 \n"
     ]
    }
   ],
   "source": [
    "c = 1\n",
    "sum = 0 \n",
    "num = int(input(\"Enter a number : \"))\n",
    "while c <= 10 : \n",
    "    print(f\"{sum} + {num} = {sum+num} \")\n",
    "    sum = sum + num\n",
    "    c = c + 1"
   ]
  },
  {
   "cell_type": "code",
   "execution_count": 27,
   "metadata": {},
   "outputs": [
    {
     "name": "stdout",
     "output_type": "stream",
     "text": [
      "Enter name of Player1,Player :       sachin,rajat            \n",
      "Enter Choice of SACHIN : ········\n",
      "Enter Choice of RAJAT : ········\n",
      "\n",
      "................Processing...............\n",
      "\n",
      "SACHIN choice = r\n",
      "RAJAT choice = p\n",
      "RAJAT won the game.\n"
     ]
    }
   ],
   "source": [
    "from random import choice\n",
    "from time import sleep\n",
    "from getpass import getpass\n",
    "p1_win = [ ('r','s'),('p','r'),('s','p') ]\n",
    "\n",
    "players = input(\"Enter name of Player1,Player : \").strip().upper().split(',')\n",
    "\n",
    "ch1 = getpass(f\"Enter Choice of {players[0]} : \").strip().lower()\n",
    "ch2 = getpass(f\"Enter Choice of {players[1]} : \").strip().lower()\n",
    "print('\\n................Processing...............\\n')\n",
    "sleep(2)\n",
    "\n",
    "print(f\"{players[0]} choice = {ch1}\")\n",
    "print(f\"{players[1]} choice = {ch2}\")\n",
    "\n",
    "if (ch1,ch2) in p1_win : \n",
    "    print(f\"{players[0]} won the game.\")\n",
    "elif ch1 == ch2  : \n",
    "    print(f\"Match Tie between {players[0]} and {players[1]}\")\n",
    "else : \n",
    "    print(f\"{players[1]} won the game.\")"
   ]
  },
  {
   "cell_type": "code",
   "execution_count": 21,
   "metadata": {},
   "outputs": [
    {
     "data": {
      "text/plain": [
       "['Hello world', 'hi world', 'bye world', 'bye bye world']"
      ]
     },
     "execution_count": 21,
     "metadata": {},
     "output_type": "execute_result"
    }
   ],
   "source": [
    "s = \"Hello world,hi world,bye world,bye bye world\"\n",
    "s.split(',')"
   ]
  },
  {
   "cell_type": "code",
   "execution_count": 31,
   "metadata": {},
   "outputs": [
    {
     "name": "stdout",
     "output_type": "stream",
     "text": [
      "Enter name of Player Name : sachin\n",
      "Do Want to Play a Game....Press any key to play a game : k\n",
      "Enter Choice of SACHIN : ········\n",
      "\n",
      "................Processing...............\n",
      "\n",
      "SACHIN choice = r\n",
      "Computer choice = s\n",
      "SACHIN won the game.\n",
      "Do Want to Play a Game....Press any key to play a game : j\n",
      "Enter Choice of SACHIN : ········\n",
      "\n",
      "................Processing...............\n",
      "\n",
      "SACHIN choice = p\n",
      "Computer choice = s\n",
      "Computer won the game.\n",
      "Do Want to Play a Game....Press any key to play a game : \n"
     ]
    }
   ],
   "source": [
    "from random import choice\n",
    "from time import sleep\n",
    "from getpass import getpass\n",
    "p1_win = [ ('r','s'),('p','r'),('s','p') ]\n",
    "\n",
    "p1 = input(\"Enter name of Player Name : \").strip().upper()\n",
    "p2 = 'Computer'\n",
    "players = [p1,p2]\n",
    "\n",
    "while input(\"Do Want to Play a Game....Press any key to play a game : \") : \n",
    "    ch1 = getpass(f\"Enter Choice of {players[0]} : \").strip().lower()\n",
    "    ch2 = choice(['r','p','s'])\n",
    "    print('\\n................Processing...............\\n')\n",
    "    sleep(2)\n",
    "\n",
    "    print(f\"{players[0]} choice = {ch1}\")\n",
    "    print(f\"{players[1]} choice = {ch2}\")\n",
    "\n",
    "    if (ch1,ch2) in p1_win : \n",
    "        print(f\"{players[0]} won the game.\")\n",
    "    elif ch1 == ch2  : \n",
    "        print(f\"Match Tie between {players[0]} and {players[1]}\")\n",
    "    else : \n",
    "        print(f\"{players[1]} won the game.\")"
   ]
  },
  {
   "cell_type": "code",
   "execution_count": 34,
   "metadata": {},
   "outputs": [
    {
     "name": "stdout",
     "output_type": "stream",
     "text": [
      "Hello world Times 2\n",
      "Hello world Times 3\n",
      "Hello world Times 4\n",
      "Hello world Times 5\n"
     ]
    }
   ],
   "source": [
    "#Guessing Game 1 - 50 \n",
    "c = 2\n",
    "while c <= 10: \n",
    "    print(f\"Hello world Times {c}\")\n",
    "    if c % 3 and c % 2 : \n",
    "        break\n",
    "    c = c + 1\n",
    "else : \n",
    "    print(\"You have sucessfully run the program.\")"
   ]
  },
  {
   "cell_type": "code",
   "execution_count": 35,
   "metadata": {},
   "outputs": [
    {
     "name": "stdout",
     "output_type": "stream",
     "text": [
      "Hello world Times 2\n",
      "Hello world Times 4\n",
      "Hello world Times 6\n",
      "Hello world Times 8\n",
      "Hello world Times 10\n",
      "You are such a good guy.\n"
     ]
    }
   ],
   "source": [
    "c = 0 \n",
    "while c <= 10 : \n",
    "    c = c + 1\n",
    "    if c % 2 : \n",
    "        continue\n",
    "    elif c == 7 : \n",
    "        break\n",
    "    print(f\"Hello world Times {c}\")\n",
    "else : \n",
    "    print(\"You are such a good guy.\")"
   ]
  },
  {
   "cell_type": "code",
   "execution_count": 36,
   "metadata": {},
   "outputs": [
    {
     "name": "stdout",
     "output_type": "stream",
     "text": [
      "Enter your Guess (1,50) : 25\n",
      "\n",
      "Hint : Be in Limits Think Lower\n",
      "Enter your Guess (1,50) : 13\n",
      "\n",
      "Hint : Be Big Think Big\n",
      "Enter your Guess (1,50) : 19\n",
      "\n",
      "Hint : Be in Limits Think Lower\n",
      "Enter your Guess (1,50) : 16\n",
      "\n",
      "Hint : Be Big Think Big\n",
      "Enter your Guess (1,50) : 17\n",
      "\n",
      "\n",
      "Whola!!You Have Won The Game\n",
      "\n",
      "\n",
      "Do want to continue y/n : y\n",
      "Enter your Guess (1,50) : 45\n",
      "\n",
      "Hint : Be in Limits Think Lower\n",
      "Enter your Guess (1,50) : 100\n",
      "\n",
      "Error!! Invalid Input\n",
      "\n",
      "The range is from 1 to 50, so input accordingly\n",
      "\n",
      "Enter your Guess (1,50) : 1\n",
      "\n",
      "Hint : Be Big Think Big\n",
      "Enter your Guess (1,50) : 10\n",
      "\n",
      "Hint : Be Big Think Big\n",
      "Enter your Guess (1,50) : 20\n",
      "\n",
      "Hint : Be Big Think Big\n",
      "Enter your Guess (1,50) : 30\n",
      "\n",
      "Hint : Be Big Think Big\n",
      "Computer Guess Was : 36\n",
      "!!You Such a Looser\n",
      "\n",
      "\n",
      "Do want to continue y/n : \n"
     ]
    }
   ],
   "source": [
    "from random import randint\n",
    "while True : \n",
    "    comGuess = randint(1,50)\n",
    "    c = 1\n",
    "    while c <= 5 : \n",
    "        userGuess = int(input(\"Enter your Guess (1,50) : \"))\n",
    "        if userGuess > 50 or userGuess < 0 : \n",
    "            print(\"\\nError!! Invalid Input\\n\\nThe range is from 1 to 50, so input accordingly\\n\")\n",
    "            continue \n",
    "        elif userGuess < comGuess : \n",
    "            print(\"\\nHint : Be Big Think Big\")\n",
    "        elif userGuess > comGuess : \n",
    "            print(\"\\nHint : Be in Limits Think Lower\")\n",
    "        else :\n",
    "            print(\"\\n\\nWhola!!You Have Won The Game\")\n",
    "            break\n",
    "        c = c + 1\n",
    "    else :\n",
    "        print(f\"Computer Guess Was : {comGuess}\")\n",
    "        print(\"!!You Such a Looser\")\n",
    "    ch = input(\"\\n\\nDo want to continue y/n : \").strip().lower()\n",
    "    if ch == 'y' or ch == 'yes' : \n",
    "        continue \n",
    "    else : \n",
    "        break"
   ]
  },
  {
   "cell_type": "code",
   "execution_count": 48,
   "metadata": {},
   "outputs": [
    {
     "name": "stdout",
     "output_type": "stream",
     "text": [
      "Enter number of rows : 10\n",
      "*\n",
      "**\n",
      "***\n",
      "****\n",
      "*****\n",
      "******\n",
      "*******\n",
      "********\n",
      "*********\n",
      "**********\n"
     ]
    }
   ],
   "source": [
    "rows = int(input(\"Enter number of rows : \"))\n",
    "row = 1\n",
    "while row <= rows : \n",
    "    col = 1\n",
    "    while col <= rows : \n",
    "        if col <= row : \n",
    "            print(\"*\",end='')\n",
    "        else : \n",
    "            break\n",
    "        col = col + 1\n",
    "    print()\n",
    "    row = row + 1"
   ]
  },
  {
   "cell_type": "code",
   "execution_count": 2,
   "metadata": {},
   "outputs": [
    {
     "name": "stdout",
     "output_type": "stream",
     "text": [
      "Enter number of rows : 10\n",
      "*\n",
      "**\n",
      "***\n",
      "****\n",
      "*****\n",
      "******\n",
      "*******\n",
      "********\n",
      "*********\n",
      "**********\n"
     ]
    }
   ],
   "source": [
    "rows = int(input(\"Enter number of rows : \"))\n",
    "row = 1\n",
    "while row <= rows : \n",
    "    print(\"*\"*row)\n",
    "    row = row + 1"
   ]
  },
  {
   "cell_type": "code",
   "execution_count": 1,
   "metadata": {},
   "outputs": [
    {
     "name": "stdout",
     "output_type": "stream",
     "text": [
      "Enter number of rows : 10\n",
      "*********\n",
      "********\n",
      "*******\n",
      "******\n",
      "*****\n",
      "****\n",
      "***\n",
      "**\n",
      "*\n",
      "\n"
     ]
    }
   ],
   "source": [
    "rows = int(input(\"Enter number of rows : \"))\n",
    "row = 1\n",
    "while row <= rows : \n",
    "    print(\"*\"*(rows-row))\n",
    "    row = row + 1"
   ]
  },
  {
   "cell_type": "code",
   "execution_count": 2,
   "metadata": {},
   "outputs": [
    {
     "name": "stdout",
     "output_type": "stream",
     "text": [
      "Enter number of rows : 10\n",
      " *********\n",
      "  ********\n",
      "   *******\n",
      "    ******\n",
      "     *****\n",
      "      ****\n",
      "       ***\n",
      "        **\n",
      "         *\n",
      "          \n"
     ]
    }
   ],
   "source": [
    "rows = int(input(\"Enter number of rows : \"))\n",
    "row = 1\n",
    "while row <= rows : \n",
    "    col = 1\n",
    "    while col <= rows : \n",
    "        if col <= row : \n",
    "            print(\" \",end='')\n",
    "        else : \n",
    "            print(\"*\",end='')\n",
    "        col = col + 1\n",
    "    print()\n",
    "    row = row + 1"
   ]
  },
  {
   "cell_type": "code",
   "execution_count": 3,
   "metadata": {},
   "outputs": [
    {
     "name": "stdout",
     "output_type": "stream",
     "text": [
      "hello\n",
      "hi\n",
      "1\n",
      "2\n",
      "3\n",
      "4\n",
      "5\n",
      "6\n"
     ]
    }
   ],
   "source": [
    "#for loop --> sequence ---> str, list, tuple, dict, set, frozenset\n",
    "\n",
    "l = [ 'hello','hi',1,2,3,4,5,6]\n",
    "for item in l : \n",
    "    print(item)\n",
    "    "
   ]
  },
  {
   "cell_type": "code",
   "execution_count": 4,
   "metadata": {},
   "outputs": [],
   "source": [
    "simple_list = [ 1,2,3,4,5,6,7,8,9,10]\n",
    "squre_list = []\n",
    "for item in simple_list : \n",
    "    squre_list.append(item*item)"
   ]
  },
  {
   "cell_type": "code",
   "execution_count": 5,
   "metadata": {},
   "outputs": [
    {
     "name": "stdout",
     "output_type": "stream",
     "text": [
      "[1, 2, 3, 4, 5, 6, 7, 8, 9, 10]\n",
      "[1, 4, 9, 16, 25, 36, 49, 64, 81, 100]\n"
     ]
    }
   ],
   "source": [
    "print(simple_list)\n",
    "print(squre_list)"
   ]
  },
  {
   "cell_type": "code",
   "execution_count": 6,
   "metadata": {},
   "outputs": [],
   "source": [
    "data = list(zip(simple_list,squre_list))"
   ]
  },
  {
   "cell_type": "code",
   "execution_count": 10,
   "metadata": {},
   "outputs": [],
   "source": [
    "s = []\n",
    "for var1,var2 in zip(simple_list,squre_list) : \n",
    "    s.append(var1+var2)"
   ]
  },
  {
   "cell_type": "code",
   "execution_count": 11,
   "metadata": {},
   "outputs": [
    {
     "data": {
      "text/plain": [
       "[2, 6, 12, 20, 30, 42, 56, 72, 90, 110]"
      ]
     },
     "execution_count": 11,
     "metadata": {},
     "output_type": "execute_result"
    }
   ],
   "source": [
    "s"
   ]
  },
  {
   "cell_type": "code",
   "execution_count": 12,
   "metadata": {},
   "outputs": [
    {
     "name": "stdout",
     "output_type": "stream",
     "text": [
      "p\n",
      "y\n",
      "t\n",
      "h\n",
      "o\n",
      "n\n"
     ]
    }
   ],
   "source": [
    "for char in 'python' : \n",
    "    print(char)"
   ]
  },
  {
   "cell_type": "code",
   "execution_count": 13,
   "metadata": {},
   "outputs": [
    {
     "name": "stdout",
     "output_type": "stream",
     "text": [
      "name\n",
      "age\n",
      "course\n"
     ]
    }
   ],
   "source": [
    "d = { 'name':'python','age':21,'course':'python'}\n",
    "for key in d : \n",
    "    print(key)"
   ]
  },
  {
   "cell_type": "code",
   "execution_count": 14,
   "metadata": {},
   "outputs": [
    {
     "name": "stdout",
     "output_type": "stream",
     "text": [
      "python\n",
      "21\n",
      "python\n"
     ]
    }
   ],
   "source": [
    "for value in d.values() : \n",
    "    print(value)"
   ]
  },
  {
   "cell_type": "code",
   "execution_count": 15,
   "metadata": {},
   "outputs": [
    {
     "name": "stdout",
     "output_type": "stream",
     "text": [
      "name = python\n",
      "age = 21\n",
      "course = python\n"
     ]
    }
   ],
   "source": [
    "for key,value in d.items():\n",
    "    print(f\"{key} = {value}\")"
   ]
  },
  {
   "cell_type": "code",
   "execution_count": 20,
   "metadata": {},
   "outputs": [
    {
     "name": "stdout",
     "output_type": "stream",
     "text": [
      "Enter a number : 5\n",
      "5 10 15 20 25 30 35 40 45 50\n"
     ]
    }
   ],
   "source": [
    "num = int(input(\"Enter a number : \"))\n",
    "print(*range(num,num*10+1,num))"
   ]
  },
  {
   "cell_type": "code",
   "execution_count": 21,
   "metadata": {},
   "outputs": [
    {
     "name": "stdout",
     "output_type": "stream",
     "text": [
      "100 95 90 85 80 75 70 65 60 55 50 45 40 35 30 25 20 15 10 5\n"
     ]
    }
   ],
   "source": [
    "print(*range(100,1,-5))"
   ]
  },
  {
   "cell_type": "code",
   "execution_count": 24,
   "metadata": {},
   "outputs": [
    {
     "name": "stdout",
     "output_type": "stream",
     "text": [
      "Hello world Times 1\n",
      "Hello world Times 2\n",
      "Hello world Times 3\n",
      "Hello world Times 4\n",
      "Hello world Times 5\n",
      "Hello world Times 6\n",
      "Hello world Times 7\n",
      "Hello world Times 8\n",
      "Hello world Times 9\n",
      "Hello world Times 10\n"
     ]
    }
   ],
   "source": [
    "for var in range(1,11) : \n",
    "    print(f\"Hello world Times {var}\")"
   ]
  },
  {
   "cell_type": "code",
   "execution_count": null,
   "metadata": {},
   "outputs": [],
   "source": []
  }
 ],
 "metadata": {
  "kernelspec": {
   "display_name": "Python 3",
   "language": "python",
   "name": "python3"
  },
  "language_info": {
   "codemirror_mode": {
    "name": "ipython",
    "version": 3
   },
   "file_extension": ".py",
   "mimetype": "text/x-python",
   "name": "python",
   "nbconvert_exporter": "python",
   "pygments_lexer": "ipython3",
   "version": "3.7.0"
  }
 },
 "nbformat": 4,
 "nbformat_minor": 2
}
