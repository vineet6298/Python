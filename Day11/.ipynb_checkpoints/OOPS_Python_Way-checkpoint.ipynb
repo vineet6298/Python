{
 "cells": [
  {
   "cell_type": "markdown",
   "metadata": {},
   "source": [
    "<h1 style='color:red'>Object Oriented Programming</h1>"
   ]
  },
  {
   "cell_type": "markdown",
   "metadata": {},
   "source": [
    "<h2 style='color:#123456'>Features of OOPS</h2>\n",
    "<ol>\n",
    "    <li>Encapsulation</li>\n",
    "    <li>Abstraction</li>\n",
    "    <li>Data Hiding</li>\n",
    "    <li>Inheritance</li>\n",
    "    <li>PolyMorphism</li>\n",
    "    <li>Over-riding</li>\n",
    "    <li>Class</li>\n",
    "    <li>Object</li>\n",
    "</ol>"
   ]
  },
  {
   "cell_type": "code",
   "execution_count": 3,
   "metadata": {},
   "outputs": [],
   "source": [
    "class My_Class : \n",
    "    msg = 'hello world welcome class' #class attribute\n",
    "    def hi(self):\n",
    "        print(\"I am HI method of class My_Class\")\n",
    "    def bye(self):\n",
    "        print(\"I am Bye method of Class My_Class\")\n",
    "    "
   ]
  },
  {
   "cell_type": "code",
   "execution_count": 4,
   "metadata": {},
   "outputs": [
    {
     "name": "stdout",
     "output_type": "stream",
     "text": [
      "hello world welcome class\n",
      "I am HI method of class My_Class\n",
      "I am Bye method of Class My_Class\n"
     ]
    }
   ],
   "source": [
    "x = My_Class()\n",
    "print(x.msg)\n",
    "x.hi()\n",
    "x.bye()"
   ]
  },
  {
   "cell_type": "code",
   "execution_count": null,
   "metadata": {},
   "outputs": [],
   "source": []
  }
 ],
 "metadata": {
  "kernelspec": {
   "display_name": "Python 3",
   "language": "python",
   "name": "python3"
  },
  "language_info": {
   "codemirror_mode": {
    "name": "ipython",
    "version": 3
   },
   "file_extension": ".py",
   "mimetype": "text/x-python",
   "name": "python",
   "nbconvert_exporter": "python",
   "pygments_lexer": "ipython3",
   "version": "3.7.0"
  }
 },
 "nbformat": 4,
 "nbformat_minor": 2
}
