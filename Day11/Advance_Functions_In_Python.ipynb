{
 "cells": [
  {
   "cell_type": "code",
   "execution_count": 2,
   "metadata": {},
   "outputs": [
    {
     "data": {
      "text/plain": [
       "8"
      ]
     },
     "execution_count": 2,
     "metadata": {},
     "output_type": "execute_result"
    }
   ],
   "source": [
    "#lambda --> anonymous function............inline function\n",
    "def add(x,y):\n",
    "    return x + y\n",
    "add(4,4)"
   ]
  },
  {
   "cell_type": "code",
   "execution_count": 3,
   "metadata": {},
   "outputs": [
    {
     "data": {
      "text/plain": [
       "8"
      ]
     },
     "execution_count": 3,
     "metadata": {},
     "output_type": "execute_result"
    }
   ],
   "source": [
    "#statement\n",
    "#func_name = lambda arg1,arg2.. : return value\n",
    "add_lambda = lambda x,y : x + y  \n",
    "add_lambda(4,4)"
   ]
  },
  {
   "cell_type": "code",
   "execution_count": 4,
   "metadata": {},
   "outputs": [
    {
     "data": {
      "text/plain": [
       "25"
      ]
     },
     "execution_count": 4,
     "metadata": {},
     "output_type": "execute_result"
    }
   ],
   "source": [
    "def squre(x):\n",
    "    return x*x\n",
    "squre(5)"
   ]
  },
  {
   "cell_type": "code",
   "execution_count": 5,
   "metadata": {},
   "outputs": [
    {
     "data": {
      "text/plain": [
       "25"
      ]
     },
     "execution_count": 5,
     "metadata": {},
     "output_type": "execute_result"
    }
   ],
   "source": [
    "sq = lambda x : x*x\n",
    "sq(5)"
   ]
  },
  {
   "cell_type": "code",
   "execution_count": 8,
   "metadata": {},
   "outputs": [
    {
     "data": {
      "text/plain": [
       "'ODD'"
      ]
     },
     "execution_count": 8,
     "metadata": {},
     "output_type": "execute_result"
    }
   ],
   "source": [
    "def even_odd(num) : \n",
    "    if num % 2 == 0 : \n",
    "        return \"EVEN\"\n",
    "    else : \n",
    "        return \"ODD\"\n",
    "even_odd(5)"
   ]
  },
  {
   "cell_type": "code",
   "execution_count": 14,
   "metadata": {},
   "outputs": [
    {
     "data": {
      "text/plain": [
       "'ODD'"
      ]
     },
     "execution_count": 14,
     "metadata": {},
     "output_type": "execute_result"
    }
   ],
   "source": [
    "odd_eve = lambda num : \"EVEN\" if num % 2 == 0 else \"ODD\" \n",
    "odd_eve(9)"
   ]
  },
  {
   "cell_type": "code",
   "execution_count": 10,
   "metadata": {},
   "outputs": [
    {
     "name": "stdout",
     "output_type": "stream",
     "text": [
      "bye Word\n"
     ]
    }
   ],
   "source": [
    "print(\"Hello world \") if False else print(\"bye Word\")"
   ]
  },
  {
   "cell_type": "code",
   "execution_count": 15,
   "metadata": {},
   "outputs": [
    {
     "data": {
      "text/plain": [
       "[1, 4, 9, 16, 25]"
      ]
     },
     "execution_count": 15,
     "metadata": {},
     "output_type": "execute_result"
    }
   ],
   "source": [
    "def sq(mylist):\n",
    "    return [ var*var for var in mylist ]\n",
    "sq([1,2,3,4,5])"
   ]
  },
  {
   "cell_type": "code",
   "execution_count": 16,
   "metadata": {},
   "outputs": [
    {
     "data": {
      "text/plain": [
       "[1, 4, 9, 16, 25]"
      ]
     },
     "execution_count": 16,
     "metadata": {},
     "output_type": "execute_result"
    }
   ],
   "source": [
    "sq = lambda mylist : [ var*var for var in mylist ]\n",
    "sq([1,2,3,4,5])"
   ]
  },
  {
   "cell_type": "code",
   "execution_count": 21,
   "metadata": {},
   "outputs": [
    {
     "name": "stdout",
     "output_type": "stream",
     "text": [
      "Enter your name          HeLLo WoRlD     \n"
     ]
    },
    {
     "data": {
      "text/plain": [
       "'hello world'"
      ]
     },
     "execution_count": 21,
     "metadata": {},
     "output_type": "execute_result"
    }
   ],
   "source": [
    "from math import sqrt \n",
    "def mysq(val,num):\n",
    "    num = sqrt(num)\n",
    "    return num+val\n",
    "mysq(3,121)\n",
    "\n",
    "sq = lambda val,num : sqrt(num)+val\n",
    "sq(8,144)\n",
    "\n",
    "s = lambda s : s.strip().lower()\n",
    "name = input(\"Enter your name \")\n",
    "name = s(name)\n",
    "name"
   ]
  },
  {
   "cell_type": "code",
   "execution_count": 23,
   "metadata": {},
   "outputs": [
    {
     "data": {
      "text/plain": [
       "3"
      ]
     },
     "execution_count": 23,
     "metadata": {},
     "output_type": "execute_result"
    }
   ],
   "source": [
    "def great(x,y,z):\n",
    "    if x >= y and x >= z : \n",
    "        return x\n",
    "    elif y >= x and y >= z : \n",
    "        return y \n",
    "    else : \n",
    "        return z\n",
    "greatest = lambda x,y,z :  #code to return highest among x, y and z \n",
    "greatest(1,3,2)"
   ]
  },
  {
   "cell_type": "code",
   "execution_count": 26,
   "metadata": {},
   "outputs": [
    {
     "data": {
      "text/plain": [
       "'hi'"
      ]
     },
     "execution_count": 26,
     "metadata": {},
     "output_type": "execute_result"
    }
   ],
   "source": [
    "print(\"Hello world\") if False else print(\"bye\") if False else \"hi\""
   ]
  },
  {
   "cell_type": "code",
   "execution_count": 28,
   "metadata": {},
   "outputs": [
    {
     "data": {
      "text/plain": [
       "25"
      ]
     },
     "execution_count": 28,
     "metadata": {},
     "output_type": "execute_result"
    }
   ],
   "source": [
    "great = lambda x,y,z : x if x >= y and x >= z else y if y >= x and y >= z else z  \n",
    "great(10,25,20)"
   ]
  },
  {
   "cell_type": "code",
   "execution_count": 29,
   "metadata": {},
   "outputs": [],
   "source": [
    "mylist1 = [ '10','35','15','7','9','23']"
   ]
  },
  {
   "cell_type": "code",
   "execution_count": 32,
   "metadata": {},
   "outputs": [
    {
     "name": "stdout",
     "output_type": "stream",
     "text": [
      "['10', '35', '15', '7', '9', '23']\n",
      "[10, 35, 15, 7, 9, 23]\n"
     ]
    }
   ],
   "source": [
    "def convert(data):\n",
    "    result = []\n",
    "    for item in data : \n",
    "        item = int(item)\n",
    "        result.append(item)\n",
    "    return result\n",
    "\n",
    "print(mylist1)\n",
    "mylist = convert(mylist1)\n",
    "print(mylist)\n",
    "  "
   ]
  },
  {
   "cell_type": "code",
   "execution_count": 33,
   "metadata": {},
   "outputs": [
    {
     "name": "stdout",
     "output_type": "stream",
     "text": [
      "['10', '35', '15', '7', '9', '23']\n",
      "[10, 35, 15, 7, 9, 23]\n"
     ]
    }
   ],
   "source": [
    "def convert(data):\n",
    "    return [ int(item) for item in data ]\n",
    "\n",
    "print(mylist1)\n",
    "mylist = convert(mylist1)\n",
    "print(mylist)\n",
    "  "
   ]
  },
  {
   "cell_type": "code",
   "execution_count": 35,
   "metadata": {},
   "outputs": [],
   "source": [
    "con = lambda mylist : [ int(item) for item in mylist ]"
   ]
  },
  {
   "cell_type": "code",
   "execution_count": 36,
   "metadata": {},
   "outputs": [
    {
     "data": {
      "text/plain": [
       "[10, 35, 15, 7, 9, 23]"
      ]
     },
     "execution_count": 36,
     "metadata": {},
     "output_type": "execute_result"
    }
   ],
   "source": [
    "con(mylist1)"
   ]
  },
  {
   "cell_type": "code",
   "execution_count": 39,
   "metadata": {},
   "outputs": [
    {
     "name": "stdout",
     "output_type": "stream",
     "text": [
      "[1, 4, 9, 16, 25, 49, 64, 81]\n"
     ]
    }
   ],
   "source": [
    "l = [ 1,2,3,4,5,7,8,9]\n",
    "r = []\n",
    "for var in l :\n",
    "    r.append(var**2)\n",
    "print(r)"
   ]
  },
  {
   "cell_type": "code",
   "execution_count": 40,
   "metadata": {},
   "outputs": [
    {
     "name": "stdout",
     "output_type": "stream",
     "text": [
      "Number[1] : 5\n",
      "Number[2] : 6\n",
      "Number[3] : 7\n",
      "Number[4] : 8\n",
      "Number[5] : 9\n"
     ]
    }
   ],
   "source": [
    "#wap to take 5 integer number input\n",
    "number = []\n",
    "for var in range(1,6) : \n",
    "    num = int(input(f\"Number[{var}] : \"))\n",
    "    number.append(num)"
   ]
  },
  {
   "cell_type": "code",
   "execution_count": 41,
   "metadata": {},
   "outputs": [
    {
     "data": {
      "text/plain": [
       "[5, 6, 7, 8, 9]"
      ]
     },
     "execution_count": 41,
     "metadata": {},
     "output_type": "execute_result"
    }
   ],
   "source": [
    "number"
   ]
  },
  {
   "cell_type": "code",
   "execution_count": 47,
   "metadata": {},
   "outputs": [
    {
     "name": "stdout",
     "output_type": "stream",
     "text": [
      "Enter number by comma(,) seprated : 1,2,3,4,5,6,7\n"
     ]
    }
   ],
   "source": [
    "number = input(\"Enter number by comma(,) seprated : \")"
   ]
  },
  {
   "cell_type": "code",
   "execution_count": 48,
   "metadata": {},
   "outputs": [
    {
     "data": {
      "text/plain": [
       "'1,2,3,4,5,6,7'"
      ]
     },
     "execution_count": 48,
     "metadata": {},
     "output_type": "execute_result"
    }
   ],
   "source": [
    "number"
   ]
  },
  {
   "cell_type": "code",
   "execution_count": 49,
   "metadata": {},
   "outputs": [],
   "source": [
    "num = number.split(',')"
   ]
  },
  {
   "cell_type": "code",
   "execution_count": 50,
   "metadata": {},
   "outputs": [
    {
     "data": {
      "text/plain": [
       "['1', '2', '3', '4', '5', '6', '7']"
      ]
     },
     "execution_count": 50,
     "metadata": {},
     "output_type": "execute_result"
    }
   ],
   "source": [
    "num"
   ]
  },
  {
   "cell_type": "code",
   "execution_count": 51,
   "metadata": {},
   "outputs": [
    {
     "data": {
      "text/plain": [
       "[1, 2, 3, 4, 5, 6, 7]"
      ]
     },
     "execution_count": 51,
     "metadata": {},
     "output_type": "execute_result"
    }
   ],
   "source": [
    "f = lambda num : [ int(n) for n in num ]\n",
    "x = f(num)\n",
    "x"
   ]
  },
  {
   "cell_type": "code",
   "execution_count": 52,
   "metadata": {},
   "outputs": [
    {
     "name": "stdout",
     "output_type": "stream",
     "text": [
      "[10, 10, 10, 10, 10, 10, 10, 10, 10]\n"
     ]
    }
   ],
   "source": [
    "#map --> map object\n",
    "#map(function,sequene)\n",
    "x = [ 1,2,3,4,5,6,7,8,9]\n",
    "y = [ 9,8,7,6,5,4,3,2,1]\n",
    "def add_lists(x,y):\n",
    "    r = []\n",
    "    for item1,item2 in zip(x,y) : \n",
    "        r.append(item1+item2)\n",
    "    return r\n",
    "z = add_lists(x,y)\n",
    "print(z)"
   ]
  },
  {
   "cell_type": "code",
   "execution_count": 53,
   "metadata": {},
   "outputs": [
    {
     "name": "stdout",
     "output_type": "stream",
     "text": [
      "[10, 10, 10, 10, 10, 10, 10, 10, 10]\n"
     ]
    }
   ],
   "source": [
    "#map --> map object\n",
    "#map(function,sequene)\n",
    "x = [ 1,2,3,4,5,6,7,8,9]\n",
    "y = [ 9,8,7,6,5,4,3,2,1]\n",
    "def add_lists(x,y):\n",
    "    return [ a+b for a,b in zip(x,y)]\n",
    "z = add_lists(x,y)\n",
    "print(z)"
   ]
  },
  {
   "cell_type": "code",
   "execution_count": 66,
   "metadata": {},
   "outputs": [
    {
     "name": "stdout",
     "output_type": "stream",
     "text": [
      "<map object at 0x000001A473DDDEF0>\n",
      "77 76 75 74 72\n"
     ]
    }
   ],
   "source": [
    "def add(var1,var2) : \n",
    "    return var1 + var2\n",
    "\n",
    "list1 = [ 10,20,30,40,50]\n",
    "list2 = [ 67,56,45,34,22]\n",
    "m  = map(add,list1,list2)\n",
    "print(m)\n",
    "#print(*m)"
   ]
  },
  {
   "cell_type": "code",
   "execution_count": 67,
   "metadata": {},
   "outputs": [
    {
     "data": {
      "text/plain": [
       "[]"
      ]
     },
     "execution_count": 67,
     "metadata": {},
     "output_type": "execute_result"
    }
   ],
   "source": [
    "m = list(m)\n",
    "m"
   ]
  },
  {
   "cell_type": "code",
   "execution_count": 57,
   "metadata": {},
   "outputs": [
    {
     "name": "stdout",
     "output_type": "stream",
     "text": [
      "Enter space separate integer1 2 3 4 5 6\n"
     ]
    },
    {
     "data": {
      "text/plain": [
       "[1, 2, 3, 4, 5, 6]"
      ]
     },
     "execution_count": 57,
     "metadata": {},
     "output_type": "execute_result"
    }
   ],
   "source": [
    "x =list(map(int,input(\"Enter space separate integer\").strip().split()))\n",
    "x"
   ]
  },
  {
   "cell_type": "code",
   "execution_count": 55,
   "metadata": {},
   "outputs": [
    {
     "data": {
      "text/plain": [
       "'1 2 3 4 5'"
      ]
     },
     "execution_count": 55,
     "metadata": {},
     "output_type": "execute_result"
    }
   ],
   "source": [
    "x"
   ]
  },
  {
   "cell_type": "code",
   "execution_count": 68,
   "metadata": {},
   "outputs": [
    {
     "name": "stdout",
     "output_type": "stream",
     "text": [
      "[1, 2, 3, 4, 5, 6, 7, 8, 9, 10]\n",
      "[1, 4, 9, 16, 25, 36, 49, 64, 81, 100]\n"
     ]
    }
   ],
   "source": [
    "l1 = [ 1,2,3,4,5,6,7,8,9,10]\n",
    "sq = list(map(lambda x:x**2,l1))\n",
    "print(l1)\n",
    "print(sq)"
   ]
  },
  {
   "cell_type": "code",
   "execution_count": 73,
   "metadata": {},
   "outputs": [
    {
     "name": "stdout",
     "output_type": "stream",
     "text": [
      "Enter day number : 6\n",
      "saturday\n"
     ]
    }
   ],
   "source": [
    "#day number print  day name  0,7 --> sunday, 1-->monday\n",
    "d ={ 0:'sunday',1:'monday',2:'tuesday',3:'wednesday',4:'thursday',5:'friday',\n",
    "   6:'saturday',7:'sunday'}\n",
    "\n",
    "day_num = int(input(\"Enter day number : \"))\n",
    "print(d.get(day_num,\"Invalid Day Number\"))"
   ]
  },
  {
   "cell_type": "code",
   "execution_count": 76,
   "metadata": {},
   "outputs": [
    {
     "name": "stdout",
     "output_type": "stream",
     "text": [
      "1 2 3 4 5 6 7 8 9 10 \n",
      "2\n",
      "4\n",
      "6\n",
      "8\n",
      "10\n"
     ]
    }
   ],
   "source": [
    "#[ 23,14,1,2,3,4,5,6,7]\n",
    "#[Fasle,True,False,True,False,True,False,True,False]\n",
    "\n",
    "numbers = list(map(int,input().split()))\n",
    "result  = list(map(lambda x:True if x % 2 == 0 else False,numbers))\n",
    "#print(numbers)\n",
    "#print(result)\n",
    "for var1,var2 in zip(numbers,result) : \n",
    "    if var2 : \n",
    "        print(var1)"
   ]
  },
  {
   "cell_type": "code",
   "execution_count": 78,
   "metadata": {},
   "outputs": [
    {
     "name": "stdout",
     "output_type": "stream",
     "text": [
      "1 2 3 4 5 6 7 8 9 10 \n",
      "[1, 2, 3, 4, 5, 6, 7, 8, 9, 10]\n",
      "[2, 4, 6, 8, 10]\n"
     ]
    }
   ],
   "source": [
    "#filter(function,seq)\n",
    "\n",
    "number = list(map(int,input().split()))\n",
    "result = list(filter(lambda x : True if x%2==0 else False,number))\n",
    "print(number)\n",
    "print(result)"
   ]
  },
  {
   "cell_type": "code",
   "execution_count": 81,
   "metadata": {},
   "outputs": [],
   "source": [
    "from functools import reduce\n",
    "#reduce"
   ]
  },
  {
   "cell_type": "code",
   "execution_count": 82,
   "metadata": {},
   "outputs": [],
   "source": [
    "def add(*args):\n",
    "    s = 0 \n",
    "    for var in args : \n",
    "        s += var \n",
    "    return s"
   ]
  },
  {
   "cell_type": "code",
   "execution_count": 83,
   "metadata": {},
   "outputs": [
    {
     "data": {
      "text/plain": [
       "54"
      ]
     },
     "execution_count": 83,
     "metadata": {},
     "output_type": "execute_result"
    }
   ],
   "source": [
    "add(1,23,4,5,5,1,3,4,4,4)"
   ]
  },
  {
   "cell_type": "code",
   "execution_count": 85,
   "metadata": {},
   "outputs": [
    {
     "data": {
      "text/plain": [
       "282"
      ]
     },
     "execution_count": 85,
     "metadata": {},
     "output_type": "execute_result"
    }
   ],
   "source": [
    "items = [ 1,23,3,4,23,2,32,3,23,2,3,24,35,2,3,23,53,23]\n",
    "reduce(lambda x,y:x + y, items)"
   ]
  },
  {
   "cell_type": "code",
   "execution_count": 87,
   "metadata": {},
   "outputs": [
    {
     "name": "stdout",
     "output_type": "stream",
     "text": [
      "[10, 20, 13, 41, 61, 61]\n",
      "206\n"
     ]
    }
   ],
   "source": [
    "x = [ 1,2,3,4,5,6]\n",
    "y = [ 3,4,2,5,6,5]\n",
    "#x^2+y^2\n",
    "x_y = list(map(lambda x,y:x**2+y**2,x,y))\n",
    "print(x_y)\n",
    "r = reduce(lambda x,y:x+y,x_y)\n",
    "print(r)"
   ]
  },
  {
   "cell_type": "code",
   "execution_count": null,
   "metadata": {},
   "outputs": [],
   "source": []
  }
 ],
 "metadata": {
  "kernelspec": {
   "display_name": "Python 3",
   "language": "python",
   "name": "python3"
  },
  "language_info": {
   "codemirror_mode": {
    "name": "ipython",
    "version": 3
   },
   "file_extension": ".py",
   "mimetype": "text/x-python",
   "name": "python",
   "nbconvert_exporter": "python",
   "pygments_lexer": "ipython3",
   "version": "3.7.0"
  }
 },
 "nbformat": 4,
 "nbformat_minor": 2
}
