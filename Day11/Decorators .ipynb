{
 "cells": [
  {
   "cell_type": "code",
   "execution_count": 5,
   "metadata": {},
   "outputs": [],
   "source": [
    "def decorator(old_func):\n",
    "    def lets_Decorate(*args,**kwargs):\n",
    "        print(\"*\"*50)\n",
    "        print(\"*\"*50)\n",
    "        print(\"\")\n",
    "        old_func(*args,**kwargs)\n",
    "        print(\"\")\n",
    "        print(\"*\"*50)\n",
    "        print(\"*\"*50)\n",
    "    return lets_Decorate\n",
    "@decorator\n",
    "def add(x,y):\n",
    "    print(\"x : \",x)\n",
    "    print(\"y : \",y)\n",
    "    print(\"x + Y = \",x+y)\n",
    "@decorator\n",
    "def Drive(name,age=17,blood_group=None):\n",
    "    print(f\"welcome user {name}\")\n",
    "    print(f\"Your Blood Group is {blood_group}\")\n",
    "    if age >= 18 : \n",
    "        print(\"You can apply for driving lincense.\")\n",
    "    else : \n",
    "        print(\"You can not apply for driving license\")"
   ]
  },
  {
   "cell_type": "code",
   "execution_count": 3,
   "metadata": {},
   "outputs": [
    {
     "name": "stdout",
     "output_type": "stream",
     "text": [
      "**************************************************\n",
      "**************************************************\n",
      "\n",
      "x :  4\n",
      "y :  5\n",
      "x + Y =  9\n",
      "\n",
      "**************************************************\n",
      "**************************************************\n"
     ]
    }
   ],
   "source": [
    "Drive(age=23,blood_group='B+ive',name='sachin yadav ')"
   ]
  },
  {
   "cell_type": "code",
   "execution_count": 10,
   "metadata": {},
   "outputs": [],
   "source": [
    "@decorator\n",
    "def name(x,y,z):\n",
    "    print(x,y,z)"
   ]
  },
  {
   "cell_type": "code",
   "execution_count": 11,
   "metadata": {},
   "outputs": [
    {
     "name": "stdout",
     "output_type": "stream",
     "text": [
      "**************************************************\n",
      "**************************************************\n",
      "\n",
      "1 2 3\n",
      "\n",
      "**************************************************\n",
      "**************************************************\n"
     ]
    }
   ],
   "source": [
    "name(1,2,3)"
   ]
  },
  {
   "cell_type": "code",
   "execution_count": 13,
   "metadata": {},
   "outputs": [],
   "source": [
    "s= \"Content-type:text/html;\\nusername='sachin';\\npassword='redhat'\\n\\n\""
   ]
  },
  {
   "cell_type": "code",
   "execution_count": 18,
   "metadata": {},
   "outputs": [],
   "source": [
    "def login(name=None,password=None):\n",
    "    def timepass(fun):\n",
    "        req = \"GET {url}?name={name}&password={password}\"\n",
    "        return req\n",
    "    return timepass\n",
    "\n",
    "\n",
    "def route(old_func):\n",
    "        def response(*args,**kwargs):\n",
    "            req = old_func(*args,**kwargs)\n",
    "            head = \"Content-type:text/html;\\nusername='sachin';\\npassword='redhat'\\n\\n\"\n",
    "            data = data\n",
    "            req = req+head+data\n",
    "            return req\n",
    "        return response\n",
    "\n",
    "@login(name='sachin',password='password')\n",
    "@route\n",
    "def index(url='/',data='<h1>Hello world</h1>'):\n",
    "    pass"
   ]
  },
  {
   "cell_type": "code",
   "execution_count": 19,
   "metadata": {},
   "outputs": [
    {
     "ename": "TypeError",
     "evalue": "'str' object is not callable",
     "output_type": "error",
     "traceback": [
      "\u001b[1;31m---------------------------------------------------------------------------\u001b[0m",
      "\u001b[1;31mTypeError\u001b[0m                                 Traceback (most recent call last)",
      "\u001b[1;32m<ipython-input-19-abf04e8c9632>\u001b[0m in \u001b[0;36m<module>\u001b[1;34m()\u001b[0m\n\u001b[1;32m----> 1\u001b[1;33m \u001b[0mindex\u001b[0m\u001b[1;33m(\u001b[0m\u001b[1;33m)\u001b[0m\u001b[1;33m\u001b[0m\u001b[0m\n\u001b[0m",
      "\u001b[1;31mTypeError\u001b[0m: 'str' object is not callable"
     ]
    }
   ],
   "source": [
    "index()"
   ]
  },
  {
   "cell_type": "code",
   "execution_count": null,
   "metadata": {},
   "outputs": [],
   "source": []
  }
 ],
 "metadata": {
  "kernelspec": {
   "display_name": "Python 3",
   "language": "python",
   "name": "python3"
  },
  "language_info": {
   "codemirror_mode": {
    "name": "ipython",
    "version": 3
   },
   "file_extension": ".py",
   "mimetype": "text/x-python",
   "name": "python",
   "nbconvert_exporter": "python",
   "pygments_lexer": "ipython3",
   "version": "3.7.0"
  }
 },
 "nbformat": 4,
 "nbformat_minor": 2
}
