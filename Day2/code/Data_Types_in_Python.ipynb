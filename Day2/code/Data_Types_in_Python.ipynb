{
 "cells": [
  {
   "cell_type": "markdown",
   "metadata": {},
   "source": [
    "<h1 style='color:purple'>Baic Data Type</h1>\n",
    "<h3 style='color:purple'>We have these data types mentioned below in python</h3>\n",
    "<ol style='color:purple'>\n",
    "    <li>Numbers</li>\n",
    "    <li>Strings</li>\n",
    "    <li>List</li>\n",
    "    <li>Tuple</li>\n",
    "    <li>Dictonary</li>\n",
    "    <li>Sets</li>\n",
    "</ol>\n",
    "<img src='data_type.png'  hegiht=150 width=250 align='left'/>\n",
    "    "
   ]
  },
  {
   "cell_type": "markdown",
   "metadata": {},
   "source": [
    "<h1 style='color:red'>Q. What is Data Type ? </h1>"
   ]
  },
  {
   "cell_type": "markdown",
   "metadata": {},
   "source": [
    "<p style='color:blue'>Ans. Data Types defines how we store data inside our language. We can store data in many forms known as number, string, list, tuple, dictionary and sets. Each of these forms has it's own rules. So to store data inside a program we need data types.<br /><p>\n",
    " <p style='color:#123456'>\n",
    "Numbers --> By using number we can store different type of numbers in python<br/>\n",
    "int --> int stans for integers and integers are defined as 123, 34343. so anything which repeats 0-9 numbers known as integer. eg. x = 123 so here x will become integer\n",
    "float --> floats are real number which have a floating point like 3.14, 6.03. eg. x = 567343.343 this is a float number in python.\n",
    "<br />\n",
    "complex --> real + image in python we write complex number as 56+5j here j denotes imagenary part. real = 56, image = 5</p>"
   ]
  },
  {
   "cell_type": "code",
   "execution_count": 4,
   "metadata": {},
   "outputs": [
    {
     "name": "stdout",
     "output_type": "stream",
     "text": [
      "<class 'int'>\n",
      "56\n"
     ]
    }
   ],
   "source": [
    "#Number\n",
    "#int \n",
    "x = 56 # this is integer, it is known as initilization or declearation\n",
    "print(type(x)) # how we can see type of a containter \n",
    "print(x) #value of your containter or you can say variable"
   ]
  },
  {
   "cell_type": "code",
   "execution_count": 5,
   "metadata": {},
   "outputs": [
    {
     "name": "stdout",
     "output_type": "stream",
     "text": [
      "Enter a number : 45\n",
      "Type of Variable =  <class 'int'>\n",
      "Value of Variable =  45\n"
     ]
    }
   ],
   "source": [
    "y = int(input(\"Enter a number : \")) #this is how you can take input from user\n",
    "print(\"Type of Variable = \",type(y))\n",
    "print(\"Value of Variable = \",y)"
   ]
  },
  {
   "cell_type": "code",
   "execution_count": 6,
   "metadata": {},
   "outputs": [
    {
     "data": {
      "text/plain": [
       "90"
      ]
     },
     "execution_count": 6,
     "metadata": {},
     "output_type": "execute_result"
    }
   ],
   "source": [
    "45 + 45"
   ]
  },
  {
   "cell_type": "code",
   "execution_count": 13,
   "metadata": {},
   "outputs": [
    {
     "name": "stdout",
     "output_type": "stream",
     "text": [
      "Enter Number 1 : 3\n",
      "Enter Number 2 : 2\n",
      "Enter Number 3 : 1\n",
      "\n",
      "\n",
      "x = 3\n",
      "y = 2\n",
      "z = 1\n",
      "\n",
      "\n",
      "\n",
      "Result --> \n",
      "\n",
      "3 + 2 + 1 = 6\n",
      "3 - 2 - 1 = -4\n",
      "3 * 2 * 1 = 6\n",
      "3 / 2 / 1 = 0.16666666666666666\n",
      "\n",
      "\n"
     ]
    }
   ],
   "source": [
    "num1 = int(input(\"Enter Number 1 : \"))\n",
    "num2 = int(input(\"Enter Number 2 : \"))\n",
    "num3 = int(input(\"Enter Number 3 : \"))\n",
    "#print(x,y,z)\n",
    "s = \"\"\"\n",
    "\n",
    "x = {}\n",
    "y = {}\n",
    "z = {}\n",
    "\n",
    "\"\"\".format(num1,num2,num3)\n",
    "\n",
    "print(s)\n",
    "\n",
    "result = \"\"\"\n",
    "Result --> \n",
    "\n",
    "{x} + {y} + {z} = {add}\n",
    "{x} - {y} - {z} = {sub}\n",
    "{x} * {y} * {z} = {mul}\n",
    "{x} / {y} / {z} = {div}\n",
    "\n",
    "\"\"\".format(x=num1,y=num2,z=num3,add=num1+num2+num3,sub=x-y-z,mul=x*y*z,div=x/y/z)\n",
    "print(result)"
   ]
  },
  {
   "cell_type": "code",
   "execution_count": 2,
   "metadata": {},
   "outputs": [
    {
     "name": "stdout",
     "output_type": "stream",
     "text": [
      "Hello World!\n",
      "Length is =  12\n",
      "ajkldfaksdf;lj jsa;klfj l;kdsj flksjfkldsj ;klajsfhdskjlfhs adfkljsdhf kj\n",
      "Length is =  73\n"
     ]
    }
   ],
   "source": [
    "s1 = \"Hello World!\"\n",
    "length1 = len(s1)\n",
    "s2 = \"ajkldfaksdf;lj jsa;klfj l;kdsj flksjfkldsj ;klajsfhdskjlfhs adfkljsdhf kj\"\n",
    "length2 = len(s2)\n",
    "\n",
    "print(s1)\n",
    "print(\"Length is = \",length1)\n",
    "print(s2)\n",
    "print(\"Length is = \",length2)"
   ]
  },
  {
   "cell_type": "code",
   "execution_count": 6,
   "metadata": {},
   "outputs": [
    {
     "name": "stdout",
     "output_type": "stream",
     "text": [
      "67\n",
      "Hello World, You can see 123 '!!python is $Awesome'. me too awesome\n",
      "[' ', ' ', ' ', ' ', ' ', ' ', ' ', ' ', ' ', ' ', ' ', '!', '!', '$', \"'\", \"'\", ',', '.', '1', '2', '3', 'A', 'H', 'W', 'Y', 'a', 'a', 'c', 'd', 'e', 'e', 'e', 'e', 'e', 'e', 'e', 'e', 'h', 'i', 'l', 'l', 'l', 'm', 'm', 'm', 'n', 'n', 'o', 'o', 'o', 'o', 'o', 'o', 'o', 'o', 'p', 'r', 's', 's', 's', 's', 't', 't', 'u', 'w', 'w', 'y']\n"
     ]
    },
    {
     "data": {
      "text/plain": [
       "list"
      ]
     },
     "execution_count": 6,
     "metadata": {},
     "output_type": "execute_result"
    }
   ],
   "source": [
    "s = \"Hello World, You can see 123 '!!python is $Awesome'. me too awesome\"\n",
    "print(len(s))\n",
    "s1 = sorted(s)\n",
    "print(s)\n",
    "print(s1)\n",
    "type(s1)"
   ]
  },
  {
   "cell_type": "code",
   "execution_count": 8,
   "metadata": {},
   "outputs": [
    {
     "name": "stdout",
     "output_type": "stream",
     "text": [
      "           !!$'',.123AHWYaacdeeeeeeeehilllmmmnnooooooooprssssttuwwy\n"
     ]
    },
    {
     "data": {
      "text/plain": [
       "str"
      ]
     },
     "execution_count": 8,
     "metadata": {},
     "output_type": "execute_result"
    }
   ],
   "source": [
    "k = ''.join(s1)\n",
    "print(k)\n",
    "type(k)"
   ]
  },
  {
   "cell_type": "code",
   "execution_count": 15,
   "metadata": {},
   "outputs": [
    {
     "name": "stdout",
     "output_type": "stream",
     "text": [
      "['1', '3', 'hello', 'hi', 'how', '443']\n"
     ]
    },
    {
     "data": {
      "text/plain": [
       "'1<$$$$>3<$$$$>hello<$$$$>hi<$$$$>how<$$$$>443'"
      ]
     },
     "execution_count": 15,
     "metadata": {},
     "output_type": "execute_result"
    }
   ],
   "source": [
    "s = [ '1','3','hello','hi','how','443']\n",
    "print(s)\n",
    "st = '<$$$$>'.join(s)\n",
    "st"
   ]
  },
  {
   "cell_type": "code",
   "execution_count": 17,
   "metadata": {},
   "outputs": [
    {
     "name": "stdout",
     "output_type": "stream",
     "text": [
      "What happens in vegas lives in vegas.\n",
      "Don't do anything stupid.\n",
      "Python is awesome.\n",
      "But the only way to learn python is by practising.\n",
      "so do practise everyday.\n"
     ]
    }
   ],
   "source": [
    "para= \"\"\"What happens in vegas lives in vegas.\n",
    "Don't do anything stupid.\n",
    "Python is awesome.\n",
    "But the only way to learn python is by practising.\n",
    "so do practise everyday.\"\"\"\n",
    "print(para)"
   ]
  },
  {
   "cell_type": "code",
   "execution_count": 18,
   "metadata": {
    "scrolled": true
   },
   "outputs": [
    {
     "data": {
      "text/plain": [
       "\"What happens in vegas lives in vegas.\\nDon't do anything stupid.\\nPython is awesome.\\nBut the only way to learn python is by practising.\\nso do practise everyday.\""
      ]
     },
     "execution_count": 18,
     "metadata": {},
     "output_type": "execute_result"
    }
   ],
   "source": [
    "para"
   ]
  },
  {
   "cell_type": "code",
   "execution_count": 21,
   "metadata": {},
   "outputs": [
    {
     "name": "stdout",
     "output_type": "stream",
     "text": [
      "What happens in vegas lives in vegas.\n",
      "Don't do anything stupid.\n",
      "Python is awesome.\n",
      "But the only way to learn python is by practising.\n",
      "so do practise everyday.\n",
      "['What happens in vegas lives in vegas.', \"Don't do anything stupid.\", 'Python is awesome.', 'But the only way to learn python is by practising.', 'so do practise everyday.']\n"
     ]
    }
   ],
   "source": [
    "print(para)\n",
    "h = para.split('\\n')\n",
    "print(h)"
   ]
  },
  {
   "cell_type": "code",
   "execution_count": 22,
   "metadata": {},
   "outputs": [
    {
     "name": "stdout",
     "output_type": "stream",
     "text": [
      "What happens in vegas lives in vegas.\n",
      "Don't do anything stupid.\n",
      "Python is awesome.\n",
      "But the only way to learn python is by practising.\n",
      "so do practise everyday.\n",
      "What happens in vegas lives in vegas.\n",
      "\n",
      "Don't do anything stupid.\n",
      "\n",
      "Python is awesome.\n",
      "\n",
      "But the only way to learn python is by practising.\n",
      "\n",
      "so do practise everyday.\n"
     ]
    }
   ],
   "source": [
    "para1 = '\\n\\n'.join(h)\n",
    "print(para)\n",
    "print(para1)"
   ]
  },
  {
   "cell_type": "code",
   "execution_count": 26,
   "metadata": {},
   "outputs": [
    {
     "data": {
      "text/plain": [
       "['Hello', 'World,', 'How', 'are', 'you']"
      ]
     },
     "execution_count": 26,
     "metadata": {},
     "output_type": "execute_result"
    }
   ],
   "source": [
    "s = \"Hello World, How are you\"\n",
    "p = s.split()\n",
    "p"
   ]
  },
  {
   "cell_type": "code",
   "execution_count": 33,
   "metadata": {},
   "outputs": [
    {
     "name": "stdout",
     "output_type": "stream",
     "text": [
      "Hello--World,--How--are--you\n"
     ]
    }
   ],
   "source": [
    "s1 = '--'.join(p)\n",
    "print(s1)"
   ]
  },
  {
   "cell_type": "code",
   "execution_count": 39,
   "metadata": {},
   "outputs": [
    {
     "name": "stdout",
     "output_type": "stream",
     "text": [
      "['this', 'is', 'for', 'fun', 'i', 'want', 'to', 'learn', 'something.']\n"
     ]
    }
   ],
   "source": [
    "s = \"this is for fun i want to learn something.\"\n",
    "b = s.split()\n",
    "print(b)"
   ]
  },
  {
   "cell_type": "code",
   "execution_count": 41,
   "metadata": {},
   "outputs": [
    {
     "name": "stdout",
     "output_type": "stream",
     "text": [
      "Enter your message : bastard\n",
      "Go to Hell\n"
     ]
    }
   ],
   "source": [
    "message = input(\"Enter your message : \")\n",
    "\n",
    "if message == 'hey' : \n",
    "    print(\"hello, How are you\")\n",
    "else : \n",
    "    print(\"Go to Hell\")"
   ]
  },
  {
   "cell_type": "code",
   "execution_count": 43,
   "metadata": {},
   "outputs": [
    {
     "name": "stdout",
     "output_type": "stream",
     "text": [
      "How much do you earn ?  9999999999\n",
      "Let's go for date\n"
     ]
    }
   ],
   "source": [
    "ques = int(input(\"How much do you earn ?  \"))\n",
    "\n",
    "if ques > 50000 : \n",
    "    print(\"Let's go for date\")\n",
    "else : \n",
    "    print(\"You are my best friend, don't think much\")\n"
   ]
  },
  {
   "cell_type": "code",
   "execution_count": 47,
   "metadata": {},
   "outputs": [
    {
     "name": "stdout",
     "output_type": "stream",
     "text": [
      "Ram's salary : 10000\n",
      "Harry's salary : 5000\n",
      "Tom's salary : 0\n",
      "I will go with tom\n"
     ]
    }
   ],
   "source": [
    "ram = int(input(\"Ram's salary : \"))\n",
    "harry = int(input(\"Harry's salary : \"))\n",
    "tom = int(input(\"Tom's salary : \"))\n",
    "\n",
    "if ram <= harry : \n",
    "    if ram <= tom : \n",
    "        print(\"I will go with ram.\")\n",
    "    else : \n",
    "        print(\"I will go with tom.\")\n",
    "else :\n",
    "    if harry <= tom : \n",
    "        print(\"I will go with harry.\")\n",
    "    else :\n",
    "        print(\"I will go with tom\")"
   ]
  },
  {
   "cell_type": "code",
   "execution_count": null,
   "metadata": {},
   "outputs": [],
   "source": []
  }
 ],
 "metadata": {
  "kernelspec": {
   "display_name": "Python 3",
   "language": "python",
   "name": "python3"
  },
  "language_info": {
   "codemirror_mode": {
    "name": "ipython",
    "version": 3
   },
   "file_extension": ".py",
   "mimetype": "text/x-python",
   "name": "python",
   "nbconvert_exporter": "python",
   "pygments_lexer": "ipython3",
   "version": "3.6.5"
  }
 },
 "nbformat": 4,
 "nbformat_minor": 2
}
