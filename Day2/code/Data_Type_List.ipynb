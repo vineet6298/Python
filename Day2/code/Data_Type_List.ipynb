{
 "cells": [
  {
   "cell_type": "markdown",
   "metadata": {},
   "source": [
    "<h2 style='color:#123456'>List Data Type</h2>\n",
    "<p style='color:red'>List is combination of items, items can be homogenous or hetrogenous. If all items of list is homogenous then list is known as array. List type is mutable data type. </p>\n",
    "<p style='color:#660000'>Homogenous --> all elements are of same data type</p>\n",
    "<p style='color:#660000'>Hetrogenous --> all elements are of different different types</p>\n",
    "\n",
    "<p> for Example : - <br/>\n",
    "    mylist1 = [ 1,2,3,4,5] or mylist2 = ['hi','hello','how' ] are of homogenous list or we can these are arrays <br/>\n",
    "    mylist2 = [ 1,3.14,'hello','hi',5+6j ] is a hetro genous list </p>\n",
    "    \n",
    " <p style='color:red'>Array-->array is collection of similar data types or we can say an array is a collection of homogenous data types. </p>\n",
    " \n",
    " <h3>Note:- All arrays are list but all lists are not array</h3>"
   ]
  },
  {
   "cell_type": "code",
   "execution_count": 4,
   "metadata": {},
   "outputs": [
    {
     "name": "stdout",
     "output_type": "stream",
     "text": [
      "['2-shirts', '3-jeans', 'one plus six T', '2kg chawal', '1 airplane']\n"
     ]
    }
   ],
   "source": [
    "#syntax name_list = [ item1, item2, item3, ..., itemn ]\n",
    "shopping_list = [ '2-shirts','3-jeans','one plus six T','2kg chawal','1 airplane']\n",
    "print(shopping_list)"
   ]
  },
  {
   "cell_type": "markdown",
   "metadata": {},
   "source": [
    "<h3 style='color:#123456'>List support indexing and slicing same as strings</h3> "
   ]
  },
  {
   "cell_type": "code",
   "execution_count": 6,
   "metadata": {},
   "outputs": [],
   "source": [
    "programming_languages = [ 'python','java','c','c++','php','.net','shell scripting',\n",
    "                       'c#','scala','pig','go','swift','javascript','r','angular js',\n",
    "                       'node js','block chain','html','css','bootstrap','xml','json',\n",
    "                       'sql','mongodb',]"
   ]
  },
  {
   "cell_type": "code",
   "execution_count": 7,
   "metadata": {},
   "outputs": [
    {
     "name": "stdout",
     "output_type": "stream",
     "text": [
      "['python', 'java', 'c', 'c++', 'php', '.net', 'shell scripting', 'c#', 'scala', 'pig', 'go', 'swift', 'javascript', 'r', 'angular js', 'node js', 'block chain', 'html', 'css', 'bootstrap', 'xml', 'json', 'sql', 'mongodb']\n"
     ]
    }
   ],
   "source": [
    "print(programming_languages)"
   ]
  },
  {
   "cell_type": "code",
   "execution_count": 8,
   "metadata": {},
   "outputs": [
    {
     "name": "stdout",
     "output_type": "stream",
     "text": [
      "Total languages =  24\n"
     ]
    }
   ],
   "source": [
    "print(\"Total languages = \",len(programming_languages))"
   ]
  },
  {
   "cell_type": "code",
   "execution_count": 9,
   "metadata": {},
   "outputs": [
    {
     "name": "stdout",
     "output_type": "stream",
     "text": [
      "Top 5 languages in market :  ['python', 'java', 'c', 'c++', 'php']\n",
      "Last 5 languages in market :  ['bootstrap', 'xml', 'json', 'sql', 'mongodb']\n"
     ]
    }
   ],
   "source": [
    "print(\"Top 5 languages in market : \",programming_languages[:5])\n",
    "print(\"Last 5 languages in market : \",programming_languages[-5:])"
   ]
  },
  {
   "cell_type": "code",
   "execution_count": 10,
   "metadata": {},
   "outputs": [
    {
     "name": "stdout",
     "output_type": "stream",
     "text": [
      "['mongodb', 'sql', 'json', 'xml', 'bootstrap', 'css', 'html', 'block chain', 'node js', 'angular js', 'r', 'javascript', 'swift', 'go', 'pig', 'scala', 'c#', 'shell scripting', '.net', 'php', 'c++', 'c', 'java', 'python']\n"
     ]
    }
   ],
   "source": [
    "n = programming_languages[::-1]\n",
    "print(n)"
   ]
  },
  {
   "cell_type": "code",
   "execution_count": 18,
   "metadata": {},
   "outputs": [
    {
     "name": "stdout",
     "output_type": "stream",
     "text": [
      "['hello', 1, 'something']\n"
     ]
    }
   ],
   "source": [
    "l = [ 'hello', 'bye',1,5.6,'something']\n",
    "print(l[::2])"
   ]
  },
  {
   "cell_type": "code",
   "execution_count": 19,
   "metadata": {},
   "outputs": [
    {
     "name": "stdout",
     "output_type": "stream",
     "text": [
      "['hello', 'my name is sachin', 1, 5.6, 'something']\n"
     ]
    }
   ],
   "source": [
    "l[1] = 'my name is sachin' #will over-write value on position 1\n",
    "print(l) #this is the proof that list is mutable"
   ]
  },
  {
   "cell_type": "code",
   "execution_count": 20,
   "metadata": {},
   "outputs": [
    {
     "name": "stdout",
     "output_type": "stream",
     "text": [
      "['hello', 'my name is sachin', 1, 'something']\n"
     ]
    }
   ],
   "source": [
    "del l[3] # will remove item from position 3 it means 5.6 will be deleted\n",
    "print(l)"
   ]
  },
  {
   "cell_type": "markdown",
   "metadata": {},
   "source": [
    "<h2 style='color:#123456'>Built-in functions of list</h2>\n",
    "<ol>\n",
    "    <li>\n",
    "        <p style='color:#123123'>To add items to a list </p>\n",
    "        <ul style='color:#123456'>\n",
    "            <li>list.append(item) --> will add item at the end of list</li>\n",
    "            <li>list.insert(index,item) --> will add item at position index in list</li>\n",
    "            <li>list.extend(sequence) --> will append each item from sequence at the end of the list</li>\n",
    "        </ul>\n",
    "    <li> <p style='color:#123123'>To delete items from a list </p>\n",
    "        <ul style='color:#123456'>\n",
    "            <li>list.pop() --> will delete last item from a list (opposite of append) </li>\n",
    "            <li>list.pop(index) ---> will delete item from position index (opposite of insert)</li>\n",
    "            <li>list.remove(item) --> will delete first occurence of item from list</li>\n",
    "        </ul>\n",
    "    <li> <p style='color:#123123'> Some Common Functions of list </p>\n",
    "        <ul style='color:#123456'>\n",
    "            <li> list.sort() --> will sort all the items inplace in ascending order.</li>\n",
    "            <li> list.sort(reverse=True) --> will sort all the items inplace in descending order.\n",
    "            <p style='color:red'>Note :- for sort function list should homogenous</p> \n",
    "            </li>\n",
    "            <li> list.reverse() --> will reverse position of all items in place, same as as list[::-1] </li>\n",
    "            <li>list.clear() --> will clear all the item from a list, will create empty list. </li>\n",
    "            <li>new_list = list.copy() --> will return a copy of list and store it into new_list</li>\n",
    "            <li> item_index = list.index(item) --> will return index number of item or we can say will return position of item from list, if item is not available then it will give an error item not found.</li>\n",
    "            <li> item_count = list.count(item) --> will count repeatation of item inside list or will count how many time item occurs inside a list.</li>\n",
    "        </ul>\n",
    "        </ol>"
   ]
  },
  {
   "cell_type": "code",
   "execution_count": 21,
   "metadata": {},
   "outputs": [
    {
     "name": "stdout",
     "output_type": "stream",
     "text": [
      "['__add__', '__class__', '__contains__', '__delattr__', '__delitem__', '__dir__', '__doc__', '__eq__', '__format__', '__ge__', '__getattribute__', '__getitem__', '__gt__', '__hash__', '__iadd__', '__imul__', '__init__', '__init_subclass__', '__iter__', '__le__', '__len__', '__lt__', '__mul__', '__ne__', '__new__', '__reduce__', '__reduce_ex__', '__repr__', '__reversed__', '__rmul__', '__setattr__', '__setitem__', '__sizeof__', '__str__', '__subclasshook__', 'append', 'clear', 'copy', 'count', 'extend', 'index', 'insert', 'pop', 'remove', 'reverse', 'sort']\n"
     ]
    }
   ],
   "source": [
    "print(dir(list))"
   ]
  },
  {
   "cell_type": "code",
   "execution_count": 22,
   "metadata": {},
   "outputs": [
    {
     "name": "stdout",
     "output_type": "stream",
     "text": [
      "['hello', 1, 2, 3, 'hi']\n",
      "['hello', 1, 2, 3, 'hi', 'sachin']\n"
     ]
    }
   ],
   "source": [
    "#to add items\n",
    "l = [ 'hello',1,2,3,'hi',]\n",
    "print(l)\n",
    "#let's add an item at the end of the list\n",
    "l.append('sachin')\n",
    "print(l)"
   ]
  },
  {
   "cell_type": "code",
   "execution_count": 23,
   "metadata": {},
   "outputs": [
    {
     "name": "stdout",
     "output_type": "stream",
     "text": [
      "['hello', 1, 2, 3, 'hi', 'sachin', 3.14]\n"
     ]
    }
   ],
   "source": [
    "l.append(3.14) # will add 3.14 at the end\n",
    "print(l)"
   ]
  },
  {
   "cell_type": "code",
   "execution_count": 24,
   "metadata": {},
   "outputs": [
    {
     "name": "stdout",
     "output_type": "stream",
     "text": [
      "['hello', 1, 2, 3, 'hi', 'sachin', 3.14, [1, 'two', 3, 'four']]\n"
     ]
    }
   ],
   "source": [
    "l.append([1,'two',3,'four']) #will add this list at the end as it is\n",
    "print(l)"
   ]
  },
  {
   "cell_type": "code",
   "execution_count": 1,
   "metadata": {},
   "outputs": [],
   "source": [
    "l = [ 1,2,5,6,7,34,23,45,]"
   ]
  },
  {
   "cell_type": "code",
   "execution_count": 2,
   "metadata": {},
   "outputs": [
    {
     "name": "stdout",
     "output_type": "stream",
     "text": [
      "[1, 2, 5, 6, 7, 34, 23, 45]\n"
     ]
    }
   ],
   "source": [
    "print(l)"
   ]
  },
  {
   "cell_type": "code",
   "execution_count": 3,
   "metadata": {},
   "outputs": [
    {
     "name": "stdout",
     "output_type": "stream",
     "text": [
      "[1, 2, 5, 6, 7, 34, 23, 45, 'hello']\n"
     ]
    }
   ],
   "source": [
    "l.append('hello')\n",
    "print(l)"
   ]
  },
  {
   "cell_type": "code",
   "execution_count": 4,
   "metadata": {},
   "outputs": [
    {
     "name": "stdout",
     "output_type": "stream",
     "text": [
      "[1, 2, 5, 6, 7, 34, 23, 45, 'hello', 'something']\n",
      "None\n"
     ]
    }
   ],
   "source": [
    "k = l.append('something')\n",
    "print(l)\n",
    "print(k)"
   ]
  },
  {
   "cell_type": "code",
   "execution_count": 5,
   "metadata": {},
   "outputs": [
    {
     "name": "stdout",
     "output_type": "stream",
     "text": [
      "[1, 2, 5, 6, 7, 34, 23, 45, 'hello', 'something']\n"
     ]
    }
   ],
   "source": [
    "print(l)"
   ]
  },
  {
   "cell_type": "code",
   "execution_count": 6,
   "metadata": {},
   "outputs": [
    {
     "name": "stdout",
     "output_type": "stream",
     "text": [
      "[1, 2, 5, 6, 'sachin', 7, 34, 23, 45, 'hello', 'something']\n"
     ]
    }
   ],
   "source": [
    "#insert \n",
    "l.insert(4,'sachin')\n",
    "print(l)"
   ]
  },
  {
   "cell_type": "code",
   "execution_count": 7,
   "metadata": {},
   "outputs": [
    {
     "name": "stdout",
     "output_type": "stream",
     "text": [
      "['python', 1, 2, 5, 6, 'sachin', 7, 34, 23, 45, 'hello', 'something']\n"
     ]
    }
   ],
   "source": [
    "l.insert(0,'python')\n",
    "print(l)"
   ]
  },
  {
   "cell_type": "code",
   "execution_count": 8,
   "metadata": {},
   "outputs": [
    {
     "name": "stdout",
     "output_type": "stream",
     "text": [
      "['python', 1, 2, 5, 6, 'sachin', 7, 34, 23, 45, 'hello', 'something', 'addlast']\n"
     ]
    }
   ],
   "source": [
    "l.append('addlast')\n",
    "print(l)"
   ]
  },
  {
   "cell_type": "code",
   "execution_count": 9,
   "metadata": {},
   "outputs": [],
   "source": [
    "#append --> at last location\n",
    "#insert --> at a location\n",
    "#extend "
   ]
  },
  {
   "cell_type": "code",
   "execution_count": 10,
   "metadata": {},
   "outputs": [
    {
     "name": "stdout",
     "output_type": "stream",
     "text": [
      "[1, 'hello', 'hi']\n",
      "['python', 1, 'java', 'hello', 'hi']\n"
     ]
    }
   ],
   "source": [
    "l = []\n",
    "l.append(1);l.append('hello');l.append('hi')\n",
    "print(l)\n",
    "l.insert(0,'python');l.insert(2,'java')\n",
    "print(l)"
   ]
  },
  {
   "cell_type": "code",
   "execution_count": 11,
   "metadata": {},
   "outputs": [
    {
     "name": "stdout",
     "output_type": "stream",
     "text": [
      "['python', 1, 'java', 'hello', 'hi', 'p', 'y', 't', 'h', 'o', 'n']\n"
     ]
    }
   ],
   "source": [
    "l.extend('python')\n",
    "print(l)"
   ]
  },
  {
   "cell_type": "code",
   "execution_count": 12,
   "metadata": {},
   "outputs": [],
   "source": [
    "l = []\n",
    "l.extend([1,2,3,'hello','hi','how are you'])"
   ]
  },
  {
   "cell_type": "code",
   "execution_count": 13,
   "metadata": {},
   "outputs": [
    {
     "name": "stdout",
     "output_type": "stream",
     "text": [
      "[1, 2, 3, 'hello', 'hi', 'how are you']\n"
     ]
    }
   ],
   "source": [
    "print(l)"
   ]
  },
  {
   "cell_type": "code",
   "execution_count": 14,
   "metadata": {},
   "outputs": [
    {
     "name": "stdout",
     "output_type": "stream",
     "text": [
      "['hi', 'hello', [1, 2, 3]]\n"
     ]
    }
   ],
   "source": [
    "l = [ 'hi','hello']\n",
    "l.append([1,2,3]) #append(item)\n",
    "print(l)"
   ]
  },
  {
   "cell_type": "code",
   "execution_count": 15,
   "metadata": {},
   "outputs": [
    {
     "name": "stdout",
     "output_type": "stream",
     "text": [
      "['hi', 'hello', 1, 2, 3]\n"
     ]
    }
   ],
   "source": [
    "l = [ 'hi','hello']\n",
    "l.extend([1,2,3]) #extend(sequence)\n",
    "print(l)"
   ]
  },
  {
   "cell_type": "code",
   "execution_count": 16,
   "metadata": {},
   "outputs": [
    {
     "name": "stdout",
     "output_type": "stream",
     "text": [
      "['python']\n"
     ]
    }
   ],
   "source": [
    "l = []\n",
    "l.append('python')\n",
    "print(l)"
   ]
  },
  {
   "cell_type": "code",
   "execution_count": 21,
   "metadata": {},
   "outputs": [
    {
     "name": "stdout",
     "output_type": "stream",
     "text": [
      "['p', 'y', 't', 'h', 'o', 'n']\n"
     ]
    }
   ],
   "source": [
    "l = []\n",
    "l.extend('python')\n",
    "print(l)\n"
   ]
  },
  {
   "cell_type": "code",
   "execution_count": 31,
   "metadata": {},
   "outputs": [
    {
     "name": "stdout",
     "output_type": "stream",
     "text": [
      "['java', 'c', 'c++', 'python', 'ruby', 'perl', 'go', 'swift']\n",
      "swift is removed from list.\n",
      "['java', 'c', 'c++', 'python', 'ruby', 'perl', 'go']\n"
     ]
    }
   ],
   "source": [
    "#how to delete items from list\n",
    "l = [ 'java','c','c++','python','ruby','perl','go','swift']\n",
    "# how delete last item --> use pop\n",
    "print(l)\n",
    "item = l.pop()\n",
    "print(item,\"is removed from list.\")\n",
    "print(l)"
   ]
  },
  {
   "cell_type": "code",
   "execution_count": 32,
   "metadata": {},
   "outputs": [
    {
     "name": "stdout",
     "output_type": "stream",
     "text": [
      "['zero', 'one', 'two', 'three', 'four', 'five', 'six']\n",
      "three is deleted\n",
      "['zero', 'one', 'two', 'four', 'five', 'six']\n"
     ]
    }
   ],
   "source": [
    "#if i want to remove item from a certain position\n",
    "#list.pop(index)\n",
    "l = [ 'zero','one','two','three','four','five','six']\n",
    "print(l)\n",
    "item = l.pop(3)\n",
    "print(item,\"is deleted\")\n",
    "print(l)"
   ]
  },
  {
   "cell_type": "code",
   "execution_count": 35,
   "metadata": {},
   "outputs": [
    {
     "name": "stdout",
     "output_type": "stream",
     "text": [
      "[13, 18, 6, 13, 4, 8, 3, 6, 6, 20, 9, 2, 11, 5, 14]\n"
     ]
    }
   ],
   "source": [
    "from random import randint\n",
    "k = [ randint(1,20) for var in range(15)]\n",
    "print(k)"
   ]
  },
  {
   "cell_type": "code",
   "execution_count": 37,
   "metadata": {},
   "outputs": [
    {
     "name": "stdout",
     "output_type": "stream",
     "text": [
      "length of list =  15\n",
      "Here is your list  13 18 6 13 4 8 3 6 6 20 9 2 11 5 14\n"
     ]
    }
   ],
   "source": [
    "print(\"length of list = \",len(k))\n",
    "print(\"Here is your list \",*k)"
   ]
  },
  {
   "cell_type": "code",
   "execution_count": 38,
   "metadata": {},
   "outputs": [
    {
     "name": "stdout",
     "output_type": "stream",
     "text": [
      "Hello World\n",
      "H e l l o   W o r l d\n"
     ]
    }
   ],
   "source": [
    "print(\"Hello World\")\n",
    "print(*\"Hello World\")"
   ]
  },
  {
   "cell_type": "code",
   "execution_count": 39,
   "metadata": {},
   "outputs": [
    {
     "name": "stdout",
     "output_type": "stream",
     "text": [
      "Hello\n",
      "H e l l o\n",
      "H e l l o\n"
     ]
    }
   ],
   "source": [
    "print(\"Hello\")\n",
    "print(*\"Hello\") #--> print('H','e','l','l','o')\n",
    "print('H','e','l','l','o')"
   ]
  },
  {
   "cell_type": "code",
   "execution_count": 41,
   "metadata": {},
   "outputs": [
    {
     "name": "stdout",
     "output_type": "stream",
     "text": [
      "[1, 23, 43, 16, 5, 10]\n",
      "1 23 43 16 5 10\n",
      "1 23 43 16 5 10\n"
     ]
    }
   ],
   "source": [
    "l = [ 1,23,43,16,5,10]\n",
    "print(l)\n",
    "print(*l) # print(1,23,43,16,5,10)\n",
    "print(1,23,43,16,5,10)"
   ]
  },
  {
   "cell_type": "code",
   "execution_count": 44,
   "metadata": {},
   "outputs": [
    {
     "name": "stdout",
     "output_type": "stream",
     "text": [
      "length of list =  15\n",
      "Here is your list  13 18 6 13 4 8 3 6 6 20 9 2 11 5 14\n",
      "13 18 6 13 4 8 3 6 6 20 9 2 11 5 14\n"
     ]
    }
   ],
   "source": [
    "print(\"length of list = \",len(k))\n",
    "print(\"Here is your list \",*k)\n",
    "l = k\n",
    "print(*l)"
   ]
  },
  {
   "cell_type": "code",
   "execution_count": 45,
   "metadata": {},
   "outputs": [
    {
     "name": "stdout",
     "output_type": "stream",
     "text": [
      "[13, 18, 6, 13, 4, 8, 3, 6, 6, 20, 9, 2, 11, 5, 14]\n",
      "14 item is deleted\n",
      "13 item is deleted\n",
      "3 item is deleted\n",
      "13 item is deleted\n",
      "6 item is deleted\n",
      "5 item is deleted\n",
      "Remaning List is =  [18, 4, 8, 6, 6, 20, 9, 2, 11]\n"
     ]
    }
   ],
   "source": [
    "print(l)\n",
    "item = l.pop()\n",
    "print(item,\"item is deleted\")\n",
    "item = l.pop(3)\n",
    "print(item,\"item is deleted\")\n",
    "item = l.pop(5)\n",
    "print(item,\"item is deleted\")\n",
    "item = l.pop(0)\n",
    "print(item,\"item is deleted\")\n",
    "item = l.pop(1)\n",
    "print(item,\"item is deleted\")\n",
    "item = l.pop()\n",
    "print(item,\"item is deleted\")\n",
    "print(\"Remaning List is = \",l)"
   ]
  },
  {
   "cell_type": "code",
   "execution_count": 48,
   "metadata": {},
   "outputs": [
    {
     "name": "stdout",
     "output_type": "stream",
     "text": [
      "[1, 2, 1, 2, 3, 1, 2, 3]\n"
     ]
    }
   ],
   "source": [
    "#there is one more way\n",
    "#if i don't know index number and want to delete a item\n",
    "#remove(item)\n",
    "l = [ 1,2,3,1,2,3,1,2,3]\n",
    "l.remove(3)\n",
    "print(l)"
   ]
  },
  {
   "cell_type": "code",
   "execution_count": 47,
   "metadata": {},
   "outputs": [
    {
     "name": "stdout",
     "output_type": "stream",
     "text": [
      "['hello', 'hi', 'hello', 'hi', 'bye', 'hi', 'hello']\n",
      "['hi', 'hello', 'hi', 'bye', 'hi', 'hello']\n",
      "['hello', 'hi', 'bye', 'hi', 'hello']\n"
     ]
    }
   ],
   "source": [
    "l = [ 'hello','hi','hello','hi','bye','hi','hello']\n",
    "print(l)\n",
    "l.remove('hello')\n",
    "print(l)\n",
    "l.remove('hi')\n",
    "print(l)"
   ]
  },
  {
   "cell_type": "code",
   "execution_count": 49,
   "metadata": {},
   "outputs": [
    {
     "name": "stdout",
     "output_type": "stream",
     "text": [
      "[1, 2, 1, 1, 2, 1, 1, 1, 2, 2, 1, 2, 1, 2, 1, 2, 1, 2, 1, 2, 1, 2, 1, 1, 2, 2, 1, 2, 1, 2, 1, 2]\n"
     ]
    }
   ],
   "source": [
    "l=[1,2,1,1,2,1,1,1,2,2,1,2,1,2,1,2,1,2,1,2,1,2,1,1,2,2,1,2,1,2,1,2]\n",
    "print(l)"
   ]
  },
  {
   "cell_type": "code",
   "execution_count": 52,
   "metadata": {},
   "outputs": [],
   "source": [
    "l = list(set(l))"
   ]
  },
  {
   "cell_type": "code",
   "execution_count": 53,
   "metadata": {},
   "outputs": [
    {
     "name": "stdout",
     "output_type": "stream",
     "text": [
      "[1, 2]\n"
     ]
    }
   ],
   "source": [
    "print(l)"
   ]
  },
  {
   "cell_type": "code",
   "execution_count": 56,
   "metadata": {},
   "outputs": [
    {
     "ename": "ValueError",
     "evalue": "list.remove(x): x not in list",
     "output_type": "error",
     "traceback": [
      "\u001b[1;31m---------------------------------------------------------------------------\u001b[0m",
      "\u001b[1;31mValueError\u001b[0m                                Traceback (most recent call last)",
      "\u001b[1;32m<ipython-input-56-adcb1fa1e89a>\u001b[0m in \u001b[0;36m<module>\u001b[1;34m()\u001b[0m\n\u001b[0;32m      4\u001b[0m \u001b[0ml\u001b[0m\u001b[1;33m.\u001b[0m\u001b[0mremove\u001b[0m\u001b[1;33m(\u001b[0m\u001b[1;36m1\u001b[0m\u001b[1;33m)\u001b[0m\u001b[1;33m\u001b[0m\u001b[0m\n\u001b[0;32m      5\u001b[0m \u001b[0ml\u001b[0m\u001b[1;33m.\u001b[0m\u001b[0mremove\u001b[0m\u001b[1;33m(\u001b[0m\u001b[1;36m1\u001b[0m\u001b[1;33m)\u001b[0m\u001b[1;33m\u001b[0m\u001b[0m\n\u001b[1;32m----> 6\u001b[1;33m \u001b[0ml\u001b[0m\u001b[1;33m.\u001b[0m\u001b[0mremove\u001b[0m\u001b[1;33m(\u001b[0m\u001b[1;36m1\u001b[0m\u001b[1;33m)\u001b[0m\u001b[1;33m\u001b[0m\u001b[0m\n\u001b[0m",
      "\u001b[1;31mValueError\u001b[0m: list.remove(x): x not in list"
     ]
    }
   ],
   "source": [
    "#common functions of list \n",
    "l = [ 1,2,3,1,1]\n",
    "l.remove(1)\n",
    "l.remove(1)\n",
    "l.remove(1)\n",
    "l.remove(1)"
   ]
  },
  {
   "cell_type": "code",
   "execution_count": 58,
   "metadata": {},
   "outputs": [
    {
     "name": "stdout",
     "output_type": "stream",
     "text": [
      "one is repeated time  7\n",
      "two is repeated time  6\n",
      "three is repeated time  1\n"
     ]
    }
   ],
   "source": [
    "l = [ 1,2,3,2,1,2,32,32,1,1,1,12,2,2,1,12,2,1]\n",
    "count_one = l.count(1)\n",
    "count_two = l.count(2)\n",
    "count_three = l.count(3)\n",
    "print(\"one is repeated time \",count_one)\n",
    "print(\"two is repeated time \",count_two)\n",
    "print(\"three is repeated time \",count_three)\n"
   ]
  },
  {
   "cell_type": "code",
   "execution_count": 59,
   "metadata": {},
   "outputs": [],
   "source": [
    "l = [ 'python','java','sachin','poonam','sudharshan','neha','meena','ramawatar']\n",
    "from random import choice\n",
    "badi_list = [ choice(l) for var in range(20) ]"
   ]
  },
  {
   "cell_type": "code",
   "execution_count": 61,
   "metadata": {},
   "outputs": [
    {
     "name": "stdout",
     "output_type": "stream",
     "text": [
      "['meena', 'ramawatar', 'python', 'python', 'sachin', 'meena', 'poonam', 'java', 'poonam', 'ramawatar', 'sachin', 'neha', 'neha', 'python', 'sudharshan', 'poonam', 'python', 'sachin', 'sachin', 'ramawatar']\n"
     ]
    }
   ],
   "source": [
    "print(badi_list)"
   ]
  },
  {
   "cell_type": "code",
   "execution_count": 67,
   "metadata": {},
   "outputs": [
    {
     "name": "stdout",
     "output_type": "stream",
     "text": [
      "0\n"
     ]
    }
   ],
   "source": [
    "print(badi_list.count('abracadabra'))"
   ]
  },
  {
   "cell_type": "code",
   "execution_count": 68,
   "metadata": {},
   "outputs": [
    {
     "name": "stdout",
     "output_type": "stream",
     "text": [
      "['meena', 'ramawatar', 'python', 'python', 'sachin', 'meena', 'poonam', 'java', 'poonam', 'ramawatar', 'sachin', 'neha', 'neha', 'python', 'sudharshan', 'poonam', 'python', 'sachin', 'sachin', 'ramawatar']\n"
     ]
    }
   ],
   "source": [
    "print(badi_list)"
   ]
  },
  {
   "cell_type": "code",
   "execution_count": 71,
   "metadata": {},
   "outputs": [
    {
     "name": "stdout",
     "output_type": "stream",
     "text": [
      "4\n"
     ]
    }
   ],
   "source": [
    "index = badi_list.index('sachin')\n",
    "print(index)"
   ]
  },
  {
   "cell_type": "code",
   "execution_count": 72,
   "metadata": {},
   "outputs": [
    {
     "name": "stdout",
     "output_type": "stream",
     "text": [
      "['meena', 'ramawatar', 'python', 'python', 'sachin', 'meena', 'poonam', 'java', 'poonam', 'ramawatar', 'sachin', 'neha', 'neha', 'python', 'sudharshan', 'poonam', 'python', 'sachin', 'sachin', 'ramawatar']\n",
      "['meena', 'ramawatar', 'python', 'python', 'sachin', 'meena', 'poonam', 'java', 'poonam', 'ramawatar', 'sachin', 'neha', 'neha', 'python', 'sudharshan', 'poonam', 'python', 'sachin', 'sachin', 'ramawatar']\n"
     ]
    }
   ],
   "source": [
    "badi_list_ki_copy = badi_list.copy()\n",
    "print(badi_list)\n",
    "print(badi_list_ki_copy)"
   ]
  },
  {
   "cell_type": "code",
   "execution_count": 78,
   "metadata": {},
   "outputs": [
    {
     "name": "stdout",
     "output_type": "stream",
     "text": [
      "[1, 2, 3, 4, 5]\n",
      "[1, 2, 3, 4, 5]\n",
      "[1, 2, 3, 4, 5]\n"
     ]
    }
   ],
   "source": [
    "l = [ 1,2,3,4,5]\n",
    "k = l \n",
    "x = l.copy()\n",
    "print(l)\n",
    "print(k)\n",
    "print(x)"
   ]
  },
  {
   "cell_type": "code",
   "execution_count": 79,
   "metadata": {},
   "outputs": [
    {
     "name": "stdout",
     "output_type": "stream",
     "text": [
      "[1, 2, 3, 4, 5, 'sachin']\n",
      "[1, 2, 3, 4, 5, 'sachin']\n",
      "[1, 2, 3, 4, 5]\n"
     ]
    }
   ],
   "source": [
    "l.append('sachin')\n",
    "print(l)\n",
    "print(k)\n",
    "print(x)"
   ]
  },
  {
   "cell_type": "code",
   "execution_count": 80,
   "metadata": {},
   "outputs": [
    {
     "name": "stdout",
     "output_type": "stream",
     "text": [
      "['sachin', 'rahul', 'rajat', 'nidhi', 'hello']\n",
      "['sachin', 'rahul', 'rajat', 'nidhi', 'hello']\n"
     ]
    }
   ],
   "source": [
    "mydata = [ 'sachin','rahul','rajat','nidhi','hello']\n",
    "mydata_copy = mydata.copy()\n",
    "print(mydata)\n",
    "print(mydata_copy)"
   ]
  },
  {
   "cell_type": "code",
   "execution_count": 81,
   "metadata": {},
   "outputs": [
    {
     "name": "stdout",
     "output_type": "stream",
     "text": [
      "[]\n",
      "['sachin', 'rahul', 'rajat', 'nidhi', 'hello']\n"
     ]
    }
   ],
   "source": [
    "mydata.clear() # will remove all times\n",
    "print(mydata)\n",
    "print(mydata_copy)"
   ]
  },
  {
   "cell_type": "code",
   "execution_count": 82,
   "metadata": {},
   "outputs": [
    {
     "name": "stdout",
     "output_type": "stream",
     "text": [
      "['sachin', 'rahul', 'rajat', 'nidhi', 'hello']\n"
     ]
    }
   ],
   "source": [
    "mydata = mydata_copy.copy()\n",
    "print(mydata)"
   ]
  },
  {
   "cell_type": "code",
   "execution_count": 83,
   "metadata": {},
   "outputs": [
    {
     "name": "stdout",
     "output_type": "stream",
     "text": [
      "['hello', 'nidhi', 'rajat', 'rahul', 'sachin']\n",
      "['sachin', 'rahul', 'rajat', 'nidhi', 'hello']\n"
     ]
    }
   ],
   "source": [
    "mydata.reverse() #in place reverse the list same as list[::-1]\n",
    "print(mydata)\n",
    "print(mydata_copy)"
   ]
  },
  {
   "cell_type": "code",
   "execution_count": 84,
   "metadata": {},
   "outputs": [
    {
     "ename": "TypeError",
     "evalue": "'<' not supported between instances of 'int' and 'str'",
     "output_type": "error",
     "traceback": [
      "\u001b[1;31m---------------------------------------------------------------------------\u001b[0m",
      "\u001b[1;31mTypeError\u001b[0m                                 Traceback (most recent call last)",
      "\u001b[1;32m<ipython-input-84-416e536bf2c3>\u001b[0m in \u001b[0;36m<module>\u001b[1;34m()\u001b[0m\n\u001b[0;32m      2\u001b[0m \u001b[1;31m#note --> list should homogenos\u001b[0m\u001b[1;33m\u001b[0m\u001b[1;33m\u001b[0m\u001b[0m\n\u001b[0;32m      3\u001b[0m \u001b[0ml\u001b[0m \u001b[1;33m=\u001b[0m \u001b[1;33m[\u001b[0m \u001b[1;34m'hello'\u001b[0m\u001b[1;33m,\u001b[0m\u001b[1;36m1\u001b[0m\u001b[1;33m,\u001b[0m\u001b[1;36m2\u001b[0m\u001b[1;33m,\u001b[0m\u001b[1;36m3\u001b[0m\u001b[1;33m,\u001b[0m\u001b[1;36m4\u001b[0m\u001b[1;33m,\u001b[0m\u001b[1;36m5\u001b[0m\u001b[1;33m]\u001b[0m\u001b[1;33m\u001b[0m\u001b[0m\n\u001b[1;32m----> 4\u001b[1;33m \u001b[0ml\u001b[0m\u001b[1;33m.\u001b[0m\u001b[0msort\u001b[0m\u001b[1;33m(\u001b[0m\u001b[1;33m)\u001b[0m\u001b[1;33m\u001b[0m\u001b[0m\n\u001b[0m\u001b[0;32m      5\u001b[0m \u001b[0mprint\u001b[0m\u001b[1;33m(\u001b[0m\u001b[0ml\u001b[0m\u001b[1;33m)\u001b[0m\u001b[1;33m\u001b[0m\u001b[0m\n",
      "\u001b[1;31mTypeError\u001b[0m: '<' not supported between instances of 'int' and 'str'"
     ]
    }
   ],
   "source": [
    "#sort --> will do sorting \n",
    "#note --> list should homogenos\n",
    "l = [ 'hello',1,2,3,4,5]\n",
    "l.sort()\n",
    "print(l)"
   ]
  },
  {
   "cell_type": "code",
   "execution_count": 85,
   "metadata": {},
   "outputs": [
    {
     "name": "stdout",
     "output_type": "stream",
     "text": [
      "[23, 15, 29, 25, 28, 22, 9, 31, 23, 26, 35, 35, 14, 47, 13, 16, 28, 32, 11, 32, 1, 29, 23, 10, 3]\n"
     ]
    }
   ],
   "source": [
    "l = [ randint(1,50) for var in range(25)]\n",
    "print(l)"
   ]
  },
  {
   "cell_type": "code",
   "execution_count": 87,
   "metadata": {},
   "outputs": [
    {
     "name": "stdout",
     "output_type": "stream",
     "text": [
      "[1, 3, 9, 10, 11, 13, 14, 15, 16, 22, 23, 23, 23, 25, 26, 28, 28, 29, 29, 31, 32, 32, 35, 35, 47]\n",
      "[1, 3, 9, 10, 11, 13, 14, 15, 16, 22, 23, 23, 23, 25, 26, 28, 28, 29, 29, 31, 32, 32, 35, 35, 47]\n",
      "[47, 35, 35, 32, 32, 31, 29, 29, 28, 28, 26, 25, 23, 23, 23, 22, 16, 15, 14, 13, 11, 10, 9, 3, 1]\n"
     ]
    }
   ],
   "source": [
    "k = l.copy()\n",
    "print(k)\n",
    "l.sort()\n",
    "print(l)\n",
    "d = k.copy()\n",
    "d.sort(reverse=True)\n",
    "print(d)"
   ]
  },
  {
   "cell_type": "code",
   "execution_count": 88,
   "metadata": {},
   "outputs": [
    {
     "name": "stdout",
     "output_type": "stream",
     "text": [
      "['meena', 'ramawatar', 'python', 'python', 'sachin', 'meena', 'poonam', 'java', 'poonam', 'ramawatar', 'sachin', 'neha', 'neha', 'python', 'sudharshan', 'poonam', 'python', 'sachin', 'sachin', 'ramawatar']\n"
     ]
    }
   ],
   "source": [
    "print(badi_list)"
   ]
  },
  {
   "cell_type": "code",
   "execution_count": 89,
   "metadata": {},
   "outputs": [
    {
     "name": "stdout",
     "output_type": "stream",
     "text": [
      "Ascending -->  ['java', 'meena', 'meena', 'neha', 'neha', 'poonam', 'poonam', 'poonam', 'python', 'python', 'python', 'python', 'ramawatar', 'ramawatar', 'ramawatar', 'sachin', 'sachin', 'sachin', 'sachin', 'sudharshan']\n",
      "Desecding --->  ['sudharshan', 'sachin', 'sachin', 'sachin', 'sachin', 'ramawatar', 'ramawatar', 'ramawatar', 'python', 'python', 'python', 'python', 'poonam', 'poonam', 'poonam', 'neha', 'neha', 'meena', 'meena', 'java']\n"
     ]
    }
   ],
   "source": [
    "badi_list.sort()\n",
    "badi_list_ki_copy.sort(reverse=True)\n",
    "print(\"Ascending --> \",badi_list)\n",
    "print('Desecding ---> ',badi_list_ki_copy)"
   ]
  },
  {
   "cell_type": "code",
   "execution_count": 90,
   "metadata": {},
   "outputs": [
    {
     "name": "stdout",
     "output_type": "stream",
     "text": [
      "(1, 2, 3, 'hello', 'hi', 'how')\n"
     ]
    }
   ],
   "source": [
    "t = (1,2,3,'hello','hi','how')\n",
    "# all tuples are same as list except tuples are immutble\n",
    "print(t)"
   ]
  },
  {
   "cell_type": "code",
   "execution_count": 91,
   "metadata": {},
   "outputs": [
    {
     "name": "stdout",
     "output_type": "stream",
     "text": [
      "['__add__', '__class__', '__contains__', '__delattr__', '__dir__', '__doc__', '__eq__', '__format__', '__ge__', '__getattribute__', '__getitem__', '__getnewargs__', '__gt__', '__hash__', '__init__', '__init_subclass__', '__iter__', '__le__', '__len__', '__lt__', '__mul__', '__ne__', '__new__', '__reduce__', '__reduce_ex__', '__repr__', '__rmul__', '__setattr__', '__sizeof__', '__str__', '__subclasshook__', 'count', 'index']\n"
     ]
    }
   ],
   "source": [
    "print(dir(tuple))"
   ]
  },
  {
   "cell_type": "code",
   "execution_count": 94,
   "metadata": {},
   "outputs": [],
   "source": [
    "from random import randint\n",
    "t =  tuple( randint(1,20) for var in range(25) )"
   ]
  },
  {
   "cell_type": "code",
   "execution_count": 95,
   "metadata": {},
   "outputs": [
    {
     "name": "stdout",
     "output_type": "stream",
     "text": [
      "(3, 10, 14, 6, 5, 1, 7, 7, 19, 9, 6, 13, 2, 2, 6, 16, 3, 18, 5, 3, 2, 15, 3, 8, 12)\n"
     ]
    }
   ],
   "source": [
    "print(t)"
   ]
  },
  {
   "cell_type": "code",
   "execution_count": 96,
   "metadata": {},
   "outputs": [
    {
     "name": "stdout",
     "output_type": "stream",
     "text": [
      "<class 'tuple'>\n"
     ]
    }
   ],
   "source": [
    "print(type(t))"
   ]
  },
  {
   "cell_type": "code",
   "execution_count": 98,
   "metadata": {},
   "outputs": [
    {
     "data": {
      "text/plain": [
       "(3, 10, 14, 6, 5)"
      ]
     },
     "execution_count": 98,
     "metadata": {},
     "output_type": "execute_result"
    }
   ],
   "source": [
    "t[:5]"
   ]
  },
  {
   "cell_type": "code",
   "execution_count": 100,
   "metadata": {},
   "outputs": [
    {
     "data": {
      "text/plain": [
       "(2, 15, 3, 8, 12)"
      ]
     },
     "execution_count": 100,
     "metadata": {},
     "output_type": "execute_result"
    }
   ],
   "source": [
    "t[-5:]"
   ]
  },
  {
   "cell_type": "code",
   "execution_count": 101,
   "metadata": {},
   "outputs": [],
   "source": [
    "#Dictionary\n",
    "#JSON,MONGODB \n",
    "info = { 'name':'sachin','age':22,'education':'b.tech',\n",
    "        'blood_group':'b+ive'}"
   ]
  },
  {
   "cell_type": "code",
   "execution_count": 103,
   "metadata": {},
   "outputs": [
    {
     "data": {
      "text/plain": [
       "'sachin'"
      ]
     },
     "execution_count": 103,
     "metadata": {},
     "output_type": "execute_result"
    }
   ],
   "source": [
    "info['name']"
   ]
  },
  {
   "cell_type": "code",
   "execution_count": 104,
   "metadata": {},
   "outputs": [
    {
     "data": {
      "text/plain": [
       "22"
      ]
     },
     "execution_count": 104,
     "metadata": {},
     "output_type": "execute_result"
    }
   ],
   "source": [
    "info['age']"
   ]
  },
  {
   "cell_type": "code",
   "execution_count": 105,
   "metadata": {},
   "outputs": [
    {
     "data": {
      "text/plain": [
       "'b.tech'"
      ]
     },
     "execution_count": 105,
     "metadata": {},
     "output_type": "execute_result"
    }
   ],
   "source": [
    "info['education']"
   ]
  },
  {
   "cell_type": "code",
   "execution_count": 106,
   "metadata": {},
   "outputs": [
    {
     "name": "stdout",
     "output_type": "stream",
     "text": [
      "['__class__', '__contains__', '__delattr__', '__delitem__', '__dir__', '__doc__', '__eq__', '__format__', '__ge__', '__getattribute__', '__getitem__', '__gt__', '__hash__', '__init__', '__init_subclass__', '__iter__', '__le__', '__len__', '__lt__', '__ne__', '__new__', '__reduce__', '__reduce_ex__', '__repr__', '__setattr__', '__setitem__', '__sizeof__', '__str__', '__subclasshook__', 'clear', 'copy', 'fromkeys', 'get', 'items', 'keys', 'pop', 'popitem', 'setdefault', 'update', 'values']\n"
     ]
    }
   ],
   "source": [
    "print(dir(dict))"
   ]
  },
  {
   "cell_type": "code",
   "execution_count": 107,
   "metadata": {},
   "outputs": [
    {
     "name": "stdout",
     "output_type": "stream",
     "text": [
      "D.pop(k[,d]) -> v, remove specified key and return the corresponding value.\n",
      "If key is not found, d is returned if given, otherwise KeyError is raised\n"
     ]
    }
   ],
   "source": [
    "print(dict.pop.__doc__)"
   ]
  },
  {
   "cell_type": "code",
   "execution_count": 108,
   "metadata": {},
   "outputs": [
    {
     "name": "stdout",
     "output_type": "stream",
     "text": [
      "['p', 'y', 't', 'h', 'o', 'n']\n",
      "('p', 'y', 't', 'h', 'o', 'n')\n"
     ]
    }
   ],
   "source": [
    "l = list('python')\n",
    "t = tuple('python')\n",
    "print(l)\n",
    "print(t)"
   ]
  },
  {
   "cell_type": "code",
   "execution_count": 109,
   "metadata": {},
   "outputs": [],
   "source": [
    "l = list(info)\n",
    "t = tuple(info)"
   ]
  },
  {
   "cell_type": "code",
   "execution_count": 110,
   "metadata": {},
   "outputs": [
    {
     "name": "stdout",
     "output_type": "stream",
     "text": [
      "['name', 'age', 'education', 'blood_group']\n",
      "('name', 'age', 'education', 'blood_group')\n"
     ]
    }
   ],
   "source": [
    "print(l)\n",
    "print(t)"
   ]
  },
  {
   "cell_type": "code",
   "execution_count": null,
   "metadata": {},
   "outputs": [],
   "source": []
  }
 ],
 "metadata": {
  "kernelspec": {
   "display_name": "Python 3",
   "language": "python",
   "name": "python3"
  },
  "language_info": {
   "codemirror_mode": {
    "name": "ipython",
    "version": 3
   },
   "file_extension": ".py",
   "mimetype": "text/x-python",
   "name": "python",
   "nbconvert_exporter": "python",
   "pygments_lexer": "ipython3",
   "version": "3.6.5"
  }
 },
 "nbformat": 4,
 "nbformat_minor": 2
}
