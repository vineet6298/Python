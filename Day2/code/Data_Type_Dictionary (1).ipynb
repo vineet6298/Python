{
 "cells": [
  {
   "cell_type": "markdown",
   "metadata": {},
   "source": [
    "<h1 style='color:#123456'>Dictionaries in Python</h1>"
   ]
  },
  {
   "cell_type": "code",
   "execution_count": 1,
   "metadata": {},
   "outputs": [],
   "source": [
    "f = { 'name':'sachin','age':22,'language':'hindi','height':5.11,'education':'Engineer'}\n"
   ]
  },
  {
   "cell_type": "code",
   "execution_count": 2,
   "metadata": {},
   "outputs": [
    {
     "name": "stdout",
     "output_type": "stream",
     "text": [
      "dict_values(['sachin', 22, 'hindi', 5.11, 'Engineer'])\n"
     ]
    }
   ],
   "source": [
    "print(f.values())"
   ]
  },
  {
   "cell_type": "code",
   "execution_count": 4,
   "metadata": {},
   "outputs": [
    {
     "name": "stdout",
     "output_type": "stream",
     "text": [
      "7690198149797640290\n",
      "0b110101010111001000100100111100100001011000011011111100001100010\n"
     ]
    }
   ],
   "source": [
    "s = 'sachin'\n",
    "h  = hash(s)\n",
    "k = bin(h)\n",
    "print(h)\n",
    "print(k)"
   ]
  },
  {
   "cell_type": "code",
   "execution_count": 5,
   "metadata": {},
   "outputs": [],
   "source": [
    "info = {\n",
    "    \n",
    "    'name':'python',\n",
    "    'father':'Guido Van Rossum',\n",
    "    'type' : 'Programming Language',\n",
    "    'current_version' : 3.7,\n",
    "    'scope' : {\n",
    "        'web' : [ 'flask','django','pyramid','web2py'],\n",
    "        'gui' : [ 'tkinter', 'wxpython','kivi',],\n",
    "        'automation' : [ 'ansible','puppet','openstack'],\n",
    "        'bigdata' : [ 'pyspark'],\n",
    "        'data_science' : [ 'pandas','numpy',],\n",
    "        'machine_learning' : ['sci-py','scikit-learn','teserflow']\n",
    "        \n",
    "    }\n",
    "\n",
    "        }"
   ]
  },
  {
   "cell_type": "code",
   "execution_count": 9,
   "metadata": {},
   "outputs": [
    {
     "name": "stdout",
     "output_type": "stream",
     "text": [
      "{'name': 'python', 'father': 'Guido Van Rossum', 'type': 'Programming Language', 'current_version': 3.7, 'scope': {'web': ['flask', 'django', 'pyramid', 'web2py'], 'gui': ['tkinter', 'wxpython', 'kivi'], 'automation': ['ansible', 'puppet', 'openstack'], 'bigdata': ['pyspark'], 'data_science': ['pandas', 'numpy'], 'machine_learning': ['sci-py', 'scikit-learn', 'teserflow']}}\n"
     ]
    }
   ],
   "source": [
    "print(info)"
   ]
  },
  {
   "cell_type": "code",
   "execution_count": 10,
   "metadata": {},
   "outputs": [
    {
     "name": "stdout",
     "output_type": "stream",
     "text": [
      "{'current_version': 3.7,\n",
      " 'father': 'Guido Van Rossum',\n",
      " 'name': 'python',\n",
      " 'scope': {'automation': ['ansible', 'puppet', 'openstack'],\n",
      "           'bigdata': ['pyspark'],\n",
      "           'data_science': ['pandas', 'numpy'],\n",
      "           'gui': ['tkinter', 'wxpython', 'kivi'],\n",
      "           'machine_learning': ['sci-py', 'scikit-learn', 'teserflow'],\n",
      "           'web': ['flask', 'django', 'pyramid', 'web2py']},\n",
      " 'type': 'Programming Language'}\n"
     ]
    }
   ],
   "source": [
    "from pprint import pprint\n",
    "pprint(info)"
   ]
  },
  {
   "cell_type": "code",
   "execution_count": 11,
   "metadata": {},
   "outputs": [
    {
     "data": {
      "text/plain": [
       "'python'"
      ]
     },
     "execution_count": 11,
     "metadata": {},
     "output_type": "execute_result"
    }
   ],
   "source": [
    "info['name']"
   ]
  },
  {
   "cell_type": "code",
   "execution_count": 12,
   "metadata": {},
   "outputs": [
    {
     "data": {
      "text/plain": [
       "3.7"
      ]
     },
     "execution_count": 12,
     "metadata": {},
     "output_type": "execute_result"
    }
   ],
   "source": [
    "info['current_version']"
   ]
  },
  {
   "cell_type": "code",
   "execution_count": 13,
   "metadata": {},
   "outputs": [
    {
     "data": {
      "text/plain": [
       "{'web': ['flask', 'django', 'pyramid', 'web2py'],\n",
       " 'gui': ['tkinter', 'wxpython', 'kivi'],\n",
       " 'automation': ['ansible', 'puppet', 'openstack'],\n",
       " 'bigdata': ['pyspark'],\n",
       " 'data_science': ['pandas', 'numpy'],\n",
       " 'machine_learning': ['sci-py', 'scikit-learn', 'teserflow']}"
      ]
     },
     "execution_count": 13,
     "metadata": {},
     "output_type": "execute_result"
    }
   ],
   "source": [
    "info['scope']"
   ]
  },
  {
   "cell_type": "code",
   "execution_count": 16,
   "metadata": {},
   "outputs": [
    {
     "data": {
      "text/plain": [
       "['django', 'pyramid', 'web2py']"
      ]
     },
     "execution_count": 16,
     "metadata": {},
     "output_type": "execute_result"
    }
   ],
   "source": [
    "info['scope']['web'][1:]"
   ]
  },
  {
   "cell_type": "code",
   "execution_count": 19,
   "metadata": {},
   "outputs": [],
   "source": [
    "info = { \n",
    "        \n",
    "    'name' : \"sachin yadav\",\n",
    "    'age' : 22,\n",
    "    'education' : {\n",
    "        'matric' : ['RBSE',88.00],\n",
    "        'high_school' : ['RBSE',82.40],\n",
    "        'garduation'  : ['RTU','B.tech computer science',74],\n",
    "                    },\n",
    "    'favourite_things' : \n",
    "                    {\n",
    "                        'actor':'wahtever',\n",
    "                        'actress' : [ 'one','two','three'],\n",
    "                        'game' : [ 'cricket','footbal',],\n",
    "                        'color' : 'mycolor',\n",
    "                        \n",
    "                    }    \n",
    "        }"
   ]
  },
  {
   "cell_type": "code",
   "execution_count": 20,
   "metadata": {},
   "outputs": [
    {
     "data": {
      "text/plain": [
       "{'matric': ['RBSE', 88.0],\n",
       " 'high_school': ['RBSE', 82.4],\n",
       " 'garduation': ['RTU', 'B.tech computer science', 74]}"
      ]
     },
     "execution_count": 20,
     "metadata": {},
     "output_type": "execute_result"
    }
   ],
   "source": [
    "info['education']"
   ]
  },
  {
   "cell_type": "code",
   "execution_count": 22,
   "metadata": {},
   "outputs": [
    {
     "data": {
      "text/plain": [
       "['RTU', 'B.tech computer science', 74]"
      ]
     },
     "execution_count": 22,
     "metadata": {},
     "output_type": "execute_result"
    }
   ],
   "source": [
    "info['education']['garduation']"
   ]
  },
  {
   "cell_type": "code",
   "execution_count": 23,
   "metadata": {},
   "outputs": [
    {
     "data": {
      "text/plain": [
       "74"
      ]
     },
     "execution_count": 23,
     "metadata": {},
     "output_type": "execute_result"
    }
   ],
   "source": [
    "info['education']['garduation'][2]"
   ]
  },
  {
   "cell_type": "code",
   "execution_count": 25,
   "metadata": {},
   "outputs": [],
   "source": [
    "python = { 'name':'python','version':3.7,'author':'Gudio Van Rossum'}"
   ]
  },
  {
   "cell_type": "code",
   "execution_count": 27,
   "metadata": {},
   "outputs": [],
   "source": [
    "python['name'] = 'PYHTON'"
   ]
  },
  {
   "cell_type": "code",
   "execution_count": 30,
   "metadata": {},
   "outputs": [
    {
     "data": {
      "text/plain": [
       "'PYHTON'"
      ]
     },
     "execution_count": 30,
     "metadata": {},
     "output_type": "execute_result"
    }
   ],
   "source": [
    "python['name']"
   ]
  },
  {
   "cell_type": "code",
   "execution_count": 29,
   "metadata": {},
   "outputs": [],
   "source": [
    "python['Name'] = 'python'"
   ]
  },
  {
   "cell_type": "code",
   "execution_count": 31,
   "metadata": {},
   "outputs": [
    {
     "data": {
      "text/plain": [
       "'python'"
      ]
     },
     "execution_count": 31,
     "metadata": {},
     "output_type": "execute_result"
    }
   ],
   "source": [
    "python['Name']"
   ]
  },
  {
   "cell_type": "code",
   "execution_count": 32,
   "metadata": {},
   "outputs": [
    {
     "name": "stdout",
     "output_type": "stream",
     "text": [
      "{'name': 'PYHTON', 'version': 3.7, 'author': 'Gudio Van Rossum', 'Name': 'python'}\n"
     ]
    }
   ],
   "source": [
    "print(python)"
   ]
  },
  {
   "cell_type": "code",
   "execution_count": 33,
   "metadata": {},
   "outputs": [
    {
     "name": "stdout",
     "output_type": "stream",
     "text": [
      "['__class__', '__contains__', '__delattr__', '__delitem__', '__dir__', '__doc__', '__eq__', '__format__', '__ge__', '__getattribute__', '__getitem__', '__gt__', '__hash__', '__init__', '__init_subclass__', '__iter__', '__le__', '__len__', '__lt__', '__ne__', '__new__', '__reduce__', '__reduce_ex__', '__repr__', '__setattr__', '__setitem__', '__sizeof__', '__str__', '__subclasshook__', 'clear', 'copy', 'fromkeys', 'get', 'items', 'keys', 'pop', 'popitem', 'setdefault', 'update', 'values']\n"
     ]
    }
   ],
   "source": [
    "print(dir(python))"
   ]
  },
  {
   "cell_type": "code",
   "execution_count": 35,
   "metadata": {},
   "outputs": [
    {
     "ename": "KeyError",
     "evalue": "'sachin'",
     "output_type": "error",
     "traceback": [
      "\u001b[1;31m---------------------------------------------------------------------------\u001b[0m",
      "\u001b[1;31mKeyError\u001b[0m                                  Traceback (most recent call last)",
      "\u001b[1;32m<ipython-input-35-3907d8678c3f>\u001b[0m in \u001b[0;36m<module>\u001b[1;34m()\u001b[0m\n\u001b[1;32m----> 1\u001b[1;33m \u001b[0mpython\u001b[0m\u001b[1;33m[\u001b[0m\u001b[1;34m'sachin'\u001b[0m\u001b[1;33m]\u001b[0m\u001b[1;33m\u001b[0m\u001b[0m\n\u001b[0m",
      "\u001b[1;31mKeyError\u001b[0m: 'sachin'"
     ]
    }
   ],
   "source": [
    "python['sachin']"
   ]
  },
  {
   "cell_type": "code",
   "execution_count": 39,
   "metadata": {},
   "outputs": [
    {
     "name": "stdout",
     "output_type": "stream",
     "text": [
      "before\n",
      "{'name': 'PYHTON', 'version': 3.7, 'author': 'Gudio Van Rossum', 'Name': 'python'}\n",
      "after\n",
      "{'name': 'PYHTON', 'version': 3.7, 'author': 'Gudio Van Rossum'}\n"
     ]
    }
   ],
   "source": [
    "print('before')\n",
    "print(python)\n",
    "del python['Name']\n",
    "print('after')\n",
    "print(python)"
   ]
  },
  {
   "cell_type": "code",
   "execution_count": 50,
   "metadata": {},
   "outputs": [
    {
     "name": "stdout",
     "output_type": "stream",
     "text": [
      "What do you want see : sachin\n"
     ]
    },
    {
     "ename": "KeyError",
     "evalue": "'sachin'",
     "output_type": "error",
     "traceback": [
      "\u001b[1;31m---------------------------------------------------------------------------\u001b[0m",
      "\u001b[1;31mKeyError\u001b[0m                                  Traceback (most recent call last)",
      "\u001b[1;32m<ipython-input-50-1a8f19be03bc>\u001b[0m in \u001b[0;36m<module>\u001b[1;34m()\u001b[0m\n\u001b[0;32m      1\u001b[0m \u001b[0mkey\u001b[0m \u001b[1;33m=\u001b[0m \u001b[0minput\u001b[0m\u001b[1;33m(\u001b[0m\u001b[1;34m\"What do you want see : \"\u001b[0m\u001b[1;33m)\u001b[0m\u001b[1;33m.\u001b[0m\u001b[0mstrip\u001b[0m\u001b[1;33m(\u001b[0m\u001b[1;33m)\u001b[0m\u001b[1;33m.\u001b[0m\u001b[0mlower\u001b[0m\u001b[1;33m(\u001b[0m\u001b[1;33m)\u001b[0m\u001b[1;33m\u001b[0m\u001b[0m\n\u001b[0;32m      2\u001b[0m \u001b[0mkey\u001b[0m \u001b[1;33m=\u001b[0m \u001b[1;34m''\u001b[0m\u001b[1;33m.\u001b[0m\u001b[0mjoin\u001b[0m\u001b[1;33m(\u001b[0m\u001b[0mkey\u001b[0m\u001b[1;33m.\u001b[0m\u001b[0msplit\u001b[0m\u001b[1;33m(\u001b[0m\u001b[1;33m)\u001b[0m\u001b[1;33m)\u001b[0m\u001b[1;33m\u001b[0m\u001b[0m\n\u001b[1;32m----> 3\u001b[1;33m \u001b[0mpython\u001b[0m\u001b[1;33m[\u001b[0m\u001b[0mkey\u001b[0m\u001b[1;33m]\u001b[0m\u001b[1;33m\u001b[0m\u001b[0m\n\u001b[0m",
      "\u001b[1;31mKeyError\u001b[0m: 'sachin'"
     ]
    }
   ],
   "source": [
    "key = input(\"What do you want see : \").strip().lower()\n",
    "key = ''.join(key.split())\n",
    "python[key]"
   ]
  },
  {
   "cell_type": "code",
   "execution_count": 56,
   "metadata": {},
   "outputs": [
    {
     "data": {
      "text/plain": [
       "'PYHTON'"
      ]
     },
     "execution_count": 56,
     "metadata": {},
     "output_type": "execute_result"
    }
   ],
   "source": [
    "python.get('name','No such key exists')"
   ]
  },
  {
   "cell_type": "code",
   "execution_count": 59,
   "metadata": {},
   "outputs": [
    {
     "name": "stdout",
     "output_type": "stream",
     "text": [
      "What do you want see : sachin\n"
     ]
    },
    {
     "data": {
      "text/plain": [
       "'No such key exists in our database'"
      ]
     },
     "execution_count": 59,
     "metadata": {},
     "output_type": "execute_result"
    }
   ],
   "source": [
    "key = input(\"What do you want see : \").strip().lower()\n",
    "key = ''.join(key.split())\n",
    "python.get(key,'No such key exists in our database')"
   ]
  },
  {
   "cell_type": "code",
   "execution_count": 69,
   "metadata": {},
   "outputs": [
    {
     "name": "stdout",
     "output_type": "stream",
     "text": [
      "dict_items([('name', 'PYHTON'), ('version', 3.7), ('author', 'Gudio Van Rossum')])\n"
     ]
    }
   ],
   "source": [
    "print(python.items())"
   ]
  },
  {
   "cell_type": "code",
   "execution_count": 61,
   "metadata": {},
   "outputs": [
    {
     "name": "stdout",
     "output_type": "stream",
     "text": [
      "['__class__', '__contains__', '__delattr__', '__delitem__', '__dir__', '__doc__', '__eq__', '__format__', '__ge__', '__getattribute__', '__getitem__', '__gt__', '__hash__', '__init__', '__init_subclass__', '__iter__', '__le__', '__len__', '__lt__', '__ne__', '__new__', '__reduce__', '__reduce_ex__', '__repr__', '__setattr__', '__setitem__', '__sizeof__', '__str__', '__subclasshook__', 'clear', 'copy', 'fromkeys', 'get', 'items', 'keys', 'pop', 'popitem', 'setdefault', 'update', 'values']\n"
     ]
    }
   ],
   "source": [
    "print(dir(python))"
   ]
  },
  {
   "cell_type": "code",
   "execution_count": 68,
   "metadata": {},
   "outputs": [
    {
     "name": "stdout",
     "output_type": "stream",
     "text": [
      "['hel', 'lo', 'W', 'o', 'rld']\n"
     ]
    },
    {
     "data": {
      "text/plain": [
       "'helloWorld'"
      ]
     },
     "execution_count": 68,
     "metadata": {},
     "output_type": "execute_result"
    }
   ],
   "source": [
    "s = \"hel  lo    W    o   rld\"\n",
    "k = s.split()\n",
    "print(k)\n",
    "''.join(k)"
   ]
  },
  {
   "cell_type": "code",
   "execution_count": 70,
   "metadata": {},
   "outputs": [
    {
     "data": {
      "text/plain": [
       "dict_keys(['name', 'version', 'author'])"
      ]
     },
     "execution_count": 70,
     "metadata": {},
     "output_type": "execute_result"
    }
   ],
   "source": [
    "python.keys()"
   ]
  },
  {
   "cell_type": "code",
   "execution_count": 71,
   "metadata": {},
   "outputs": [
    {
     "data": {
      "text/plain": [
       "dict_values(['PYHTON', 3.7, 'Gudio Van Rossum'])"
      ]
     },
     "execution_count": 71,
     "metadata": {},
     "output_type": "execute_result"
    }
   ],
   "source": [
    "python.values()"
   ]
  },
  {
   "cell_type": "code",
   "execution_count": 72,
   "metadata": {},
   "outputs": [
    {
     "name": "stdout",
     "output_type": "stream",
     "text": [
      "['one', 'two', 'three', 'four', 'five', 'six']\n",
      "['sachin', 'poonam', 'jitender', 'neha', 'meena', 'ramwatar']\n"
     ]
    }
   ],
   "source": [
    "l1 = [ 'one','two','three','four','five','six']\n",
    "l2 = [ 'sachin','poonam','jitender','neha','meena','ramwatar']\n",
    "print(l1)\n",
    "print(l2)"
   ]
  },
  {
   "cell_type": "code",
   "execution_count": 73,
   "metadata": {},
   "outputs": [
    {
     "name": "stdout",
     "output_type": "stream",
     "text": [
      "[('one', 'sachin'), ('two', 'poonam'), ('three', 'jitender'), ('four', 'neha'), ('five', 'meena'), ('six', 'ramwatar')]\n"
     ]
    }
   ],
   "source": [
    "l3 = list(zip(l1,l2))\n",
    "print(l3)"
   ]
  },
  {
   "cell_type": "code",
   "execution_count": 74,
   "metadata": {},
   "outputs": [
    {
     "name": "stdout",
     "output_type": "stream",
     "text": [
      "{'one': 'sachin', 'two': 'poonam', 'three': 'jitender', 'four': 'neha', 'five': 'meena', 'six': 'ramwatar'}\n"
     ]
    }
   ],
   "source": [
    "my_dict = dict(l3)\n",
    "print(my_dict)"
   ]
  },
  {
   "cell_type": "code",
   "execution_count": 75,
   "metadata": {},
   "outputs": [
    {
     "name": "stdout",
     "output_type": "stream",
     "text": [
      "['one', 'two', 'three', 'four', 'five', 'six']\n"
     ]
    }
   ],
   "source": [
    "k = list(my_dict)\n",
    "print(k)"
   ]
  },
  {
   "cell_type": "code",
   "execution_count": 76,
   "metadata": {},
   "outputs": [
    {
     "name": "stdout",
     "output_type": "stream",
     "text": [
      "[('one', 'sachin'), ('two', 'poonam'), ('three', 'jitender'), ('four', 'neha'), ('five', 'meena'), ('six', 'ramwatar')]\n"
     ]
    }
   ],
   "source": [
    "k = list(my_dict.items())\n",
    "print(k)"
   ]
  },
  {
   "cell_type": "code",
   "execution_count": 77,
   "metadata": {},
   "outputs": [],
   "source": [
    "v = list(my_dict.values())\n",
    "ke = list(my_dict.keys())\n",
    "kv = list(my_dict.items())"
   ]
  },
  {
   "cell_type": "code",
   "execution_count": 78,
   "metadata": {},
   "outputs": [
    {
     "name": "stdout",
     "output_type": "stream",
     "text": [
      "['one', 'two', 'three', 'four', 'five', 'six']\n",
      "['sachin', 'poonam', 'jitender', 'neha', 'meena', 'ramwatar']\n",
      "[('one', 'sachin'), ('two', 'poonam'), ('three', 'jitender'), ('four', 'neha'), ('five', 'meena'), ('six', 'ramwatar')]\n"
     ]
    }
   ],
   "source": [
    "print(ke)\n",
    "print(v)\n",
    "print(kv)"
   ]
  },
  {
   "cell_type": "code",
   "execution_count": 81,
   "metadata": {},
   "outputs": [
    {
     "name": "stdout",
     "output_type": "stream",
     "text": [
      "['__class__', '__contains__', '__delattr__', '__delitem__', '__dir__', '__doc__', '__eq__', '__format__', '__ge__', '__getattribute__', '__getitem__', '__gt__', '__hash__', '__init__', '__init_subclass__', '__iter__', '__le__', '__len__', '__lt__', '__ne__', '__new__', '__reduce__', '__reduce_ex__', '__repr__', '__setattr__', '__setitem__', '__sizeof__', '__str__', '__subclasshook__', 'clear', 'copy', 'fromkeys', 'get', 'items', 'keys', 'pop', 'popitem', 'setdefault', 'update', 'values']\n"
     ]
    }
   ],
   "source": [
    "print(dir(python))"
   ]
  },
  {
   "cell_type": "code",
   "execution_count": 82,
   "metadata": {},
   "outputs": [
    {
     "name": "stdout",
     "output_type": "stream",
     "text": [
      "D.pop(k[,d]) -> v, remove specified key and return the corresponding value.\n",
      "If key is not found, d is returned if given, otherwise KeyError is raised\n"
     ]
    }
   ],
   "source": [
    "print(python.pop.__doc__)"
   ]
  },
  {
   "cell_type": "code",
   "execution_count": 85,
   "metadata": {},
   "outputs": [
    {
     "name": "stdout",
     "output_type": "stream",
     "text": [
      "{'name': 'PYHTON', 'version': 3.7, 'author': 'Gudio Van Rossum'}\n",
      "Value is removed from dictionary is  PYHTON\n",
      "{'version': 3.7, 'author': 'Gudio Van Rossum'}\n"
     ]
    }
   ],
   "source": [
    "print(python)\n",
    "value= python.pop('name')\n",
    "print(\"Value is removed from dictionary is \",value)\n",
    "print(python)"
   ]
  },
  {
   "cell_type": "code",
   "execution_count": 87,
   "metadata": {},
   "outputs": [
    {
     "data": {
      "text/plain": [
       "'No Key available'"
      ]
     },
     "execution_count": 87,
     "metadata": {},
     "output_type": "execute_result"
    }
   ],
   "source": [
    "python.pop('sachin','No Key available')"
   ]
  },
  {
   "cell_type": "code",
   "execution_count": 88,
   "metadata": {},
   "outputs": [
    {
     "name": "stdout",
     "output_type": "stream",
     "text": [
      "['__class__', '__contains__', '__delattr__', '__delitem__', '__dir__', '__doc__', '__eq__', '__format__', '__ge__', '__getattribute__', '__getitem__', '__gt__', '__hash__', '__init__', '__init_subclass__', '__iter__', '__le__', '__len__', '__lt__', '__ne__', '__new__', '__reduce__', '__reduce_ex__', '__repr__', '__setattr__', '__setitem__', '__sizeof__', '__str__', '__subclasshook__', 'clear', 'copy', 'fromkeys', 'get', 'items', 'keys', 'pop', 'popitem', 'setdefault', 'update', 'values']\n"
     ]
    }
   ],
   "source": [
    "print(dir(python))"
   ]
  },
  {
   "cell_type": "code",
   "execution_count": 89,
   "metadata": {},
   "outputs": [
    {
     "data": {
      "text/plain": [
       "('author', 'Gudio Van Rossum')"
      ]
     },
     "execution_count": 89,
     "metadata": {},
     "output_type": "execute_result"
    }
   ],
   "source": [
    "python.popitem()"
   ]
  },
  {
   "cell_type": "code",
   "execution_count": 90,
   "metadata": {},
   "outputs": [
    {
     "name": "stdout",
     "output_type": "stream",
     "text": [
      "{'version': 3.7, 'sachin': 'mr. coder', 'name': 'python'}\n"
     ]
    }
   ],
   "source": [
    "python['sachin'] = 'mr. coder'\n",
    "python['name'] = 'python'\n",
    "print(python)"
   ]
  },
  {
   "cell_type": "code",
   "execution_count": 91,
   "metadata": {},
   "outputs": [],
   "source": [
    "python['name'] = 'World\"s best language'"
   ]
  },
  {
   "cell_type": "code",
   "execution_count": 92,
   "metadata": {},
   "outputs": [
    {
     "data": {
      "text/plain": [
       "{'version': 3.7, 'sachin': 'mr. coder', 'name': 'World\"s best language'}"
      ]
     },
     "execution_count": 92,
     "metadata": {},
     "output_type": "execute_result"
    }
   ],
   "source": [
    "python"
   ]
  },
  {
   "cell_type": "code",
   "execution_count": 93,
   "metadata": {},
   "outputs": [
    {
     "name": "stdout",
     "output_type": "stream",
     "text": [
      "{'version': 3.7, 'sachin': 'mr. coder', 'name': 'python'}\n"
     ]
    }
   ],
   "source": [
    "python['name']  = 'python'\n",
    "print(python)"
   ]
  },
  {
   "cell_type": "code",
   "execution_count": 94,
   "metadata": {},
   "outputs": [
    {
     "data": {
      "text/plain": [
       "'i am the owner of Grras'"
      ]
     },
     "execution_count": 94,
     "metadata": {},
     "output_type": "execute_result"
    }
   ],
   "source": [
    "python.setdefault('rajat','i am the owner of Grras')"
   ]
  },
  {
   "cell_type": "code",
   "execution_count": 95,
   "metadata": {},
   "outputs": [
    {
     "name": "stdout",
     "output_type": "stream",
     "text": [
      "{'version': 3.7, 'sachin': 'mr. coder', 'name': 'python', 'rajat': 'i am the owner of Grras'}\n"
     ]
    }
   ],
   "source": [
    "print(python)"
   ]
  },
  {
   "cell_type": "code",
   "execution_count": 96,
   "metadata": {},
   "outputs": [
    {
     "data": {
      "text/plain": [
       "'python'"
      ]
     },
     "execution_count": 96,
     "metadata": {},
     "output_type": "execute_result"
    }
   ],
   "source": [
    "python.setdefault('name','don of the world')"
   ]
  },
  {
   "cell_type": "code",
   "execution_count": 97,
   "metadata": {},
   "outputs": [
    {
     "name": "stdout",
     "output_type": "stream",
     "text": [
      "{'version': 3.7, 'sachin': 'mr. coder', 'name': 'python', 'rajat': 'i am the owner of Grras'}\n"
     ]
    }
   ],
   "source": [
    "print(python)"
   ]
  },
  {
   "cell_type": "code",
   "execution_count": 98,
   "metadata": {},
   "outputs": [],
   "source": [
    "info = { 'scope' : 'world-wide','name':'PYTHON',}"
   ]
  },
  {
   "cell_type": "code",
   "execution_count": 99,
   "metadata": {},
   "outputs": [
    {
     "name": "stdout",
     "output_type": "stream",
     "text": [
      "{'scope': 'world-wide', 'name': 'PYTHON'}\n",
      "{'version': 3.7, 'sachin': 'mr. coder', 'name': 'python', 'rajat': 'i am the owner of Grras'}\n"
     ]
    }
   ],
   "source": [
    "print(info)\n",
    "print(python)"
   ]
  },
  {
   "cell_type": "code",
   "execution_count": 100,
   "metadata": {},
   "outputs": [],
   "source": [
    "python.update(info)"
   ]
  },
  {
   "cell_type": "code",
   "execution_count": 101,
   "metadata": {},
   "outputs": [
    {
     "data": {
      "text/plain": [
       "{'version': 3.7,\n",
       " 'sachin': 'mr. coder',\n",
       " 'name': 'PYTHON',\n",
       " 'rajat': 'i am the owner of Grras',\n",
       " 'scope': 'world-wide'}"
      ]
     },
     "execution_count": 101,
     "metadata": {},
     "output_type": "execute_result"
    }
   ],
   "source": [
    "python"
   ]
  },
  {
   "cell_type": "code",
   "execution_count": 15,
   "metadata": {},
   "outputs": [
    {
     "ename": "NameError",
     "evalue": "name 'info' is not defined",
     "output_type": "error",
     "traceback": [
      "\u001b[1;31m---------------------------------------------------------------------------\u001b[0m",
      "\u001b[1;31mNameError\u001b[0m                                 Traceback (most recent call last)",
      "\u001b[1;32m<ipython-input-15-886ead46232a>\u001b[0m in \u001b[0;36m<module>\u001b[1;34m()\u001b[0m\n\u001b[1;32m----> 1\u001b[1;33m \u001b[0minfo\u001b[0m\u001b[1;33m\u001b[0m\u001b[0m\n\u001b[0m",
      "\u001b[1;31mNameError\u001b[0m: name 'info' is not defined"
     ]
    }
   ],
   "source": [
    "info"
   ]
  },
  {
   "cell_type": "code",
   "execution_count": 103,
   "metadata": {},
   "outputs": [
    {
     "data": {
      "text/plain": [
       "{'scope': 'world-wide',\n",
       " 'name': 'PYTHON',\n",
       " 'version': 3.7,\n",
       " 'sachin': 'mr. coder',\n",
       " 'rajat': 'i am the owner of Grras'}"
      ]
     },
     "execution_count": 103,
     "metadata": {},
     "output_type": "execute_result"
    }
   ],
   "source": [
    "info.update(python)\n",
    "info"
   ]
  },
  {
   "cell_type": "code",
   "execution_count": 1,
   "metadata": {},
   "outputs": [],
   "source": [
    "#list way \n",
    "student = [\n",
    "    [1001,'sachin',999999,'python@123',True],\n",
    "    [1002,'jitendra',6500,'redhat@8921',False],\n",
    "    [1003,'meena',75000,'password',False],\n",
    "]"
   ]
  },
  {
   "cell_type": "code",
   "execution_count": 2,
   "metadata": {},
   "outputs": [
    {
     "data": {
      "text/plain": [
       "[1001, 'sachin', 999999, 'python@123', True]"
      ]
     },
     "execution_count": 2,
     "metadata": {},
     "output_type": "execute_result"
    }
   ],
   "source": [
    "student[0]"
   ]
  },
  {
   "cell_type": "code",
   "execution_count": 4,
   "metadata": {},
   "outputs": [],
   "source": [
    "#anthor way of list represet\n",
    "student = [ \n",
    "            [1001,1002,1003,1004,1005,1006],\n",
    "            ['sachin','jitendra','meena','ramawatar','poonam','neha'],\n",
    "            [9999,6500,5677,34223,56434,34565434],\n",
    "            ['redhat','Asimov','python@123','password','myworld','iamking'],\n",
    "            [True,False,False,True,False,True]\n",
    "         ]"
   ]
  },
  {
   "cell_type": "code",
   "execution_count": 10,
   "metadata": {},
   "outputs": [
    {
     "name": "stdout",
     "output_type": "stream",
     "text": [
      "Enter your account number : 1005\n",
      "Your name is  poonam\n",
      "Your Balance is  56434\n",
      "Your Password is  myworld\n",
      "Your Loan Status is  False\n"
     ]
    }
   ],
   "source": [
    "acc_num = int(input(\"Enter your account number : \"))\n",
    "index = student[0].index(acc_num)\n",
    "print(\"Your name is \",student[1][index])\n",
    "print(\"Your Balance is \",student[2][index])\n",
    "print(\"Your Password is \",student[3][index])\n",
    "print(\"Your Loan Status is \",student[4][index])"
   ]
  },
  {
   "cell_type": "code",
   "execution_count": 13,
   "metadata": {},
   "outputs": [],
   "source": [
    "#dictionary implementation\n",
    "#anthor way of list represet\n",
    "student = { \n",
    "    'acc'  :  [1001,1002,1003,1004,1005,1006],\n",
    "    'name' :  ['sachin','jitendra','meena','ramawatar','poonam','neha'],\n",
    "    'bal'  :  [9999,6500,5677,34223,56434,34565434],\n",
    "'password' :  ['redhat','Asimov','python@123','password','myworld','iamking'],\n",
    "    'loan' :  [True,False,False,True,False,True]\n",
    "    }\n"
   ]
  },
  {
   "cell_type": "code",
   "execution_count": 14,
   "metadata": {},
   "outputs": [
    {
     "name": "stdout",
     "output_type": "stream",
     "text": [
      "Enter your account number : 1002\n",
      "Your name is  jitendra\n",
      "Your Balance is  6500\n",
      "Your Password is  Asimov\n",
      "Your Loan Status is  False\n"
     ]
    }
   ],
   "source": [
    "acc_num = int(input(\"Enter your account number : \"))\n",
    "index = student['acc'].index(acc_num)\n",
    "print(\"Your name is \",student['name'][index])\n",
    "print(\"Your Balance is \",student['bal'][index])\n",
    "print(\"Your Password is \",student['password'][index])\n",
    "print(\"Your Loan Status is \",student['loan'][index])"
   ]
  },
  {
   "cell_type": "code",
   "execution_count": 16,
   "metadata": {},
   "outputs": [],
   "source": [
    "student = { \n",
    "    1001 : { 'name':'sachin','bal':6500,'password':'redhat@3496'},\n",
    "    1002 : { 'name':'meena','bal':7500000,'password':'@123abcd!','loan':True },\n",
    "    1003 : { 'name':'poonam','bal':89234,'password':'1384y3243',},\n",
    "    1004 : { 'name':'jitendra','bal':734234,'password':'hello',},\n",
    "    1005 : { 'name':'sudharshan','bal':897983,'password':'bye'},\n",
    "    1006 : { 'name':'ramawatar','bal':95000,'password':'goodboy'}            \n",
    "            }"
   ]
  },
  {
   "cell_type": "code",
   "execution_count": 17,
   "metadata": {},
   "outputs": [
    {
     "name": "stdout",
     "output_type": "stream",
     "text": [
      "Enter your name : neha\n",
      "Password : mynameisneha\n",
      "Enter your balance : 10000\n"
     ]
    }
   ],
   "source": [
    "name = input(\"Enter your name : \")\n",
    "acc_no = 1007\n",
    "password = input(\"Password : \")\n",
    "bal = int(input(\"Enter your balance : \"))\n",
    "info = { 'name':name,'bal':bal,'password':password}\n",
    "student.update({1007:info})\n"
   ]
  },
  {
   "cell_type": "code",
   "execution_count": 18,
   "metadata": {},
   "outputs": [
    {
     "name": "stdout",
     "output_type": "stream",
     "text": [
      "{1001: {'bal': 6500, 'name': 'sachin', 'password': 'redhat@3496'},\n",
      " 1002: {'bal': 7500000, 'loan': True, 'name': 'meena', 'password': '@123abcd!'},\n",
      " 1003: {'bal': 89234, 'name': 'poonam', 'password': '1384y3243'},\n",
      " 1004: {'bal': 734234, 'name': 'jitendra', 'password': 'hello'},\n",
      " 1005: {'bal': 897983, 'name': 'sudharshan', 'password': 'bye'},\n",
      " 1006: {'bal': 95000, 'name': 'ramawatar', 'password': 'goodboy'},\n",
      " 1007: {'bal': 10000, 'name': 'neha', 'password': 'mynameisneha'}}\n"
     ]
    }
   ],
   "source": [
    "from pprint import pprint\n",
    "pprint(student)"
   ]
  },
  {
   "cell_type": "code",
   "execution_count": 19,
   "metadata": {},
   "outputs": [
    {
     "name": "stdout",
     "output_type": "stream",
     "text": [
      "{1001: {'name': 'sachin', 'bal': 6500, 'password': 'redhat@3496'}, 1002: {'name': 'meena', 'bal': 7500000, 'password': '@123abcd!', 'loan': True}, 1003: {'name': 'poonam', 'bal': 89234, 'password': '1384y3243'}, 1004: {'name': 'jitendra', 'bal': 734234, 'password': 'hello'}, 1005: {'name': 'sudharshan', 'bal': 897983, 'password': 'bye'}, 1006: {'name': 'ramawatar', 'bal': 95000, 'password': 'goodboy'}, 1007: {'name': 'neha', 'bal': 10000, 'password': 'mynameisneha'}}\n"
     ]
    }
   ],
   "source": [
    "print(student)"
   ]
  },
  {
   "cell_type": "code",
   "execution_count": 23,
   "metadata": {},
   "outputs": [
    {
     "name": "stdout",
     "output_type": "stream",
     "text": [
      "Passoword : ········\n",
      "helloworldal;ksjdfk\n"
     ]
    }
   ],
   "source": [
    "from getpass import getpass\n",
    "password = getpass(\"Passoword : \")\n",
    "print(password)"
   ]
  },
  {
   "cell_type": "code",
   "execution_count": null,
   "metadata": {},
   "outputs": [],
   "source": []
  }
 ],
 "metadata": {
  "kernelspec": {
   "display_name": "Python 3",
   "language": "python",
   "name": "python3"
  },
  "language_info": {
   "codemirror_mode": {
    "name": "ipython",
    "version": 3
   },
   "file_extension": ".py",
   "mimetype": "text/x-python",
   "name": "python",
   "nbconvert_exporter": "python",
   "pygments_lexer": "ipython3",
   "version": "3.6.5"
  }
 },
 "nbformat": 4,
 "nbformat_minor": 2
}
